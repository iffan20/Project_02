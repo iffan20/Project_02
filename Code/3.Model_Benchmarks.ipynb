{
 "cells": [
  {
   "cell_type": "markdown",
   "id": "835808b1-c113-4ef5-a560-178a65a178cb",
   "metadata": {},
   "source": [
    "# Model Benchmarks\n",
    "---"
   ]
  },
  {
   "cell_type": "markdown",
   "id": "3765351c-c4cb-464b-a8da-f42503f69040",
   "metadata": {},
   "source": [
    "This notebook will looking for the best model to predict housing price by RMSC value among `OLS`, `Regularization`, `Ridge`, `Lasso`, `ElasticNet`, `Robust Regression`, `TheilSen`, `RANSAC` , `Huber`"
   ]
  },
  {
   "cell_type": "code",
   "execution_count": 32,
   "id": "9120aec5-03bf-4857-83fe-1b57191716f5",
   "metadata": {},
   "outputs": [],
   "source": [
    "import pandas as pd\n",
    "import numpy as np\n",
    "import matplotlib.pyplot as plt\n",
    "import seaborn as sns\n",
    "\n",
    "import sklearn.linear_model  \n",
    "from sklearn import metrics\n",
    "import scipy.stats as stats\n",
    "from sklearn.preprocessing import StandardScaler, PolynomialFeatures"
   ]
  },
  {
   "cell_type": "code",
   "execution_count": 34,
   "id": "a04019f7-00e4-42e7-a84b-c4d6c2063694",
   "metadata": {},
   "outputs": [],
   "source": [
    "# Avoid warning for lasso & ElasticNet Regrssion\n",
    "from warnings import simplefilter\n",
    "from sklearn.exceptions import ConvergenceWarning\n",
    "simplefilter(\"ignore\", category = ConvergenceWarning)"
   ]
  },
  {
   "cell_type": "code",
   "execution_count": 36,
   "id": "1e136496-b923-4851-b74a-1548f24ef817",
   "metadata": {},
   "outputs": [],
   "source": [
    "modeling_data = pd.read_csv('../Datasets/bangkok_preprocess.csv')"
   ]
  },
  {
   "cell_type": "code",
   "execution_count": 37,
   "id": "0f641ae0-f5e1-4cea-bdbf-46f6933ed0cd",
   "metadata": {},
   "outputs": [],
   "source": [
    "features = sorted(list(set(modeling_data.columns)-{'price'}))"
   ]
  },
  {
   "cell_type": "code",
   "execution_count": 38,
   "id": "5c92abff-46ce-4dee-bde6-ad1fbe3b84d7",
   "metadata": {},
   "outputs": [],
   "source": [
    "X = modeling_data[features]\n",
    "y = modeling_data['price']"
   ]
  },
  {
   "cell_type": "code",
   "execution_count": 39,
   "id": "5b05e5c2-55be-43aa-be67-2a424059560f",
   "metadata": {},
   "outputs": [],
   "source": [
    "from sklearn.model_selection import train_test_split, cross_val_score\n",
    "X_train, X_test, y_train, y_test = train_test_split(X, y,train_size= 0.75 , random_state=452)"
   ]
  },
  {
   "cell_type": "code",
   "execution_count": 42,
   "id": "18ebd392-a3fd-4cd9-b837-6bdf84c93440",
   "metadata": {},
   "outputs": [],
   "source": [
    "## Initialize regression models\n",
    "ols = sklearn.linear_model.LinearRegression()\n",
    "ts = sklearn.linear_model.TheilSenRegressor()\n",
    "ransac = sklearn.linear_model.RANSACRegressor()\n",
    "huber = sklearn.linear_model.HuberRegressor()\n",
    "lasso = sklearn.linear_model.Lasso(alpha= 1)\n",
    "ridge = sklearn.linear_model.Ridge(alpha = 1)\n",
    "enets = sklearn.linear_model.ElasticNet(alpha = 1 , l1_ratio=0.3)"
   ]
  },
  {
   "cell_type": "code",
   "execution_count": 52,
   "id": "cd02cad6-9799-40db-b05d-7471bfc0f858",
   "metadata": {},
   "outputs": [],
   "source": [
    "def score(model_list):\n",
    "    # Initialize an empty list to store each model's result as a dictionary\n",
    "    results = []\n",
    "    \n",
    "    # Iterate over each model in the list\n",
    "    for model in model_list:\n",
    "        # Check if the model is Ridge, Lasso, or ElasticNet\n",
    "        if model in (ridge, lasso, enets):\n",
    "            # Create a StandardScaler instance\n",
    "            scaler = StandardScaler()\n",
    "            \n",
    "            # Fit the scaler on the training data and transform both training and test sets\n",
    "            X_train_scaled = scaler.fit_transform(X_train)\n",
    "            X_test_scaled = scaler.transform(X_test)\n",
    "            \n",
    "            # Fit the model to the scaled training data\n",
    "            model.fit(X_train_scaled, y_train)\n",
    "            \n",
    "            # Predict the scaled test set\n",
    "            y_preds = model.predict(X_test_scaled)\n",
    "        else:\n",
    "            # Fit the model to the original training data\n",
    "            model.fit(X_train, y_train)\n",
    "            \n",
    "            # Predict the test set without scaling\n",
    "            y_preds = model.predict(X_test)\n",
    "        \n",
    "        # Calculate R² and RMSE using y_test\n",
    "        r2 = metrics.r2_score(y_test, y_preds)\n",
    "        rmse = np.sqrt(metrics.mean_squared_error(y_test, y_preds))\n",
    "        \n",
    "        # Obtain train and test scores\n",
    "        train_score = model.score(X_train_scaled if model in (ridge, lasso, enets) else X_train, y_train)\n",
    "        test_score = model.score(X_test_scaled if model in (ridge, lasso, enets) else X_test, y_test)\n",
    "        \n",
    "        # Append the result as a dictionary to the list\n",
    "        results.append({\n",
    "            'model': model.__class__.__name__,\n",
    "            'train score': train_score,\n",
    "            'test score': test_score,\n",
    "            'R_square': r2,\n",
    "            'RMSE (in million)': rmse / 1_000_000  # Convert RMSE to millions\n",
    "        })\n",
    "\n",
    "    # Concatenate all dictionaries into a DataFrame\n",
    "    benchmark = pd.concat([pd.DataFrame([result]) for result in results], ignore_index=True)\n",
    "    return benchmark\n",
    "\n",
    "# List of models to evaluate\n",
    "model_list = [ols, ts, ransac, huber, lasso, ridge, enets]  # Ensure ElasticNet is included\n",
    "\n",
    "# Call the function with the appropriate data splits\n",
    "results = score(model_list)"
   ]
  },
  {
   "cell_type": "code",
   "execution_count": 53,
   "id": "d279444e-95c4-4944-9a79-ee54508cb7e8",
   "metadata": {},
   "outputs": [
    {
     "data": {
      "text/html": [
       "<div>\n",
       "<style scoped>\n",
       "    .dataframe tbody tr th:only-of-type {\n",
       "        vertical-align: middle;\n",
       "    }\n",
       "\n",
       "    .dataframe tbody tr th {\n",
       "        vertical-align: top;\n",
       "    }\n",
       "\n",
       "    .dataframe thead th {\n",
       "        text-align: right;\n",
       "    }\n",
       "</style>\n",
       "<table border=\"1\" class=\"dataframe\">\n",
       "  <thead>\n",
       "    <tr style=\"text-align: right;\">\n",
       "      <th></th>\n",
       "      <th>model</th>\n",
       "      <th>train score</th>\n",
       "      <th>test score</th>\n",
       "      <th>R_square</th>\n",
       "      <th>RMSE (in million)</th>\n",
       "    </tr>\n",
       "  </thead>\n",
       "  <tbody>\n",
       "    <tr>\n",
       "      <th>0</th>\n",
       "      <td>LinearRegression</td>\n",
       "      <td>0.767611</td>\n",
       "      <td>0.741737</td>\n",
       "      <td>0.741737</td>\n",
       "      <td>1.115288</td>\n",
       "    </tr>\n",
       "    <tr>\n",
       "      <th>1</th>\n",
       "      <td>TheilSenRegressor</td>\n",
       "      <td>0.225209</td>\n",
       "      <td>0.455147</td>\n",
       "      <td>0.455147</td>\n",
       "      <td>1.619927</td>\n",
       "    </tr>\n",
       "    <tr>\n",
       "      <th>2</th>\n",
       "      <td>RANSACRegressor</td>\n",
       "      <td>-1.754229</td>\n",
       "      <td>-0.718992</td>\n",
       "      <td>-0.718992</td>\n",
       "      <td>2.877350</td>\n",
       "    </tr>\n",
       "    <tr>\n",
       "      <th>3</th>\n",
       "      <td>HuberRegressor</td>\n",
       "      <td>-0.008001</td>\n",
       "      <td>-0.011714</td>\n",
       "      <td>-0.011714</td>\n",
       "      <td>2.207418</td>\n",
       "    </tr>\n",
       "    <tr>\n",
       "      <th>4</th>\n",
       "      <td>Lasso</td>\n",
       "      <td>0.766451</td>\n",
       "      <td>0.741139</td>\n",
       "      <td>0.741139</td>\n",
       "      <td>1.116577</td>\n",
       "    </tr>\n",
       "    <tr>\n",
       "      <th>5</th>\n",
       "      <td>Ridge</td>\n",
       "      <td>0.767440</td>\n",
       "      <td>0.742127</td>\n",
       "      <td>0.742127</td>\n",
       "      <td>1.114444</td>\n",
       "    </tr>\n",
       "    <tr>\n",
       "      <th>6</th>\n",
       "      <td>ElasticNet</td>\n",
       "      <td>0.666612</td>\n",
       "      <td>0.647636</td>\n",
       "      <td>0.647636</td>\n",
       "      <td>1.302722</td>\n",
       "    </tr>\n",
       "  </tbody>\n",
       "</table>\n",
       "</div>"
      ],
      "text/plain": [
       "               model  train score  test score  R_square  RMSE (in million)\n",
       "0   LinearRegression     0.767611    0.741737  0.741737           1.115288\n",
       "1  TheilSenRegressor     0.225209    0.455147  0.455147           1.619927\n",
       "2    RANSACRegressor    -1.754229   -0.718992 -0.718992           2.877350\n",
       "3     HuberRegressor    -0.008001   -0.011714 -0.011714           2.207418\n",
       "4              Lasso     0.766451    0.741139  0.741139           1.116577\n",
       "5              Ridge     0.767440    0.742127  0.742127           1.114444\n",
       "6         ElasticNet     0.666612    0.647636  0.647636           1.302722"
      ]
     },
     "execution_count": 53,
     "metadata": {},
     "output_type": "execute_result"
    }
   ],
   "source": [
    "results"
   ]
  },
  {
   "cell_type": "code",
   "execution_count": 32,
   "id": "11660182-1846-45d7-8bcf-882ab012dae2",
   "metadata": {},
   "outputs": [],
   "source": [
    "# The best model for predicting housing prices is Linear Regression, which yields the following results:\n",
    "# train score: 0.77\n",
    "# test score: 0.75\n",
    "# R_squared: 0.75\n",
    "# RMSE (in millions): 1.115290 → This is the lowest RMSE value achieved."
   ]
  }
 ],
 "metadata": {
  "kernelspec": {
   "display_name": "Python 3 (ipykernel)",
   "language": "python",
   "name": "python3"
  },
  "language_info": {
   "codemirror_mode": {
    "name": "ipython",
    "version": 3
   },
   "file_extension": ".py",
   "mimetype": "text/x-python",
   "name": "python",
   "nbconvert_exporter": "python",
   "pygments_lexer": "ipython3",
   "version": "3.12.4"
  }
 },
 "nbformat": 4,
 "nbformat_minor": 5
}
