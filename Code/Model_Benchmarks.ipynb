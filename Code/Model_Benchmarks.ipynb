{
 "cells": [
  {
   "cell_type": "markdown",
   "id": "835808b1-c113-4ef5-a560-178a65a178cb",
   "metadata": {},
   "source": [
    "# Model Benchmarks"
   ]
  },
  {
   "cell_type": "code",
   "execution_count": 99,
   "id": "9120aec5-03bf-4857-83fe-1b57191716f5",
   "metadata": {},
   "outputs": [],
   "source": [
    "import pandas as pd\n",
    "import numpy as np\n",
    "import matplotlib.pyplot as plt\n",
    "import seaborn as sns\n",
    "\n",
    "import sklearn.linear_model  \n",
    "from sklearn import metrics\n",
    "import scipy.stats as stats\n",
    "from sklearn.preprocessing import StandardScaler, PolynomialFeatures"
   ]
  },
  {
   "cell_type": "code",
   "execution_count": 101,
   "id": "a04019f7-00e4-42e7-a84b-c4d6c2063694",
   "metadata": {},
   "outputs": [],
   "source": [
    "# Avoid warning for lasso & ElasticNet Regrssion\n",
    "from warnings import simplefilter\n",
    "from sklearn.exceptions import ConvergenceWarning\n",
    "simplefilter(\"ignore\", category = ConvergenceWarning)"
   ]
  },
  {
   "cell_type": "code",
   "execution_count": 103,
   "id": "1e136496-b923-4851-b74a-1548f24ef817",
   "metadata": {},
   "outputs": [],
   "source": [
    "modeling_data = pd.read_csv('../Dataset/bangkok_preprocess.csv')"
   ]
  },
  {
   "cell_type": "code",
   "execution_count": 105,
   "id": "0f641ae0-f5e1-4cea-bdbf-46f6933ed0cd",
   "metadata": {},
   "outputs": [],
   "source": [
    "features = sorted(list(set(modeling_data.columns)-{'price'}))"
   ]
  },
  {
   "cell_type": "code",
   "execution_count": 107,
   "id": "5c92abff-46ce-4dee-bde6-ad1fbe3b84d7",
   "metadata": {},
   "outputs": [],
   "source": [
    "X = modeling_data[features]\n",
    "y = modeling_data['price']"
   ]
  },
  {
   "cell_type": "code",
   "execution_count": 140,
   "id": "5b05e5c2-55be-43aa-be67-2a424059560f",
   "metadata": {},
   "outputs": [],
   "source": [
    "from sklearn.model_selection import train_test_split, cross_val_score\n",
    "X_train, X_test, y_train, y_test = train_test_split(X, y,train_size= 0.75 , random_state=452)"
   ]
  },
  {
   "cell_type": "code",
   "execution_count": 111,
   "id": "18ebd392-a3fd-4cd9-b837-6bdf84c93440",
   "metadata": {},
   "outputs": [],
   "source": [
    "## Initialize regression models\n",
    "ols = sklearn.linear_model.LinearRegression()\n",
    "ts = sklearn.linear_model.TheilSenRegressor()\n",
    "ransac = sklearn.linear_model.RANSACRegressor()\n",
    "huber = sklearn.linear_model.HuberRegressor()\n",
    "lasso = sklearn.linear_model.Lasso(alpha= 1)\n",
    "ridge = sklearn.linear_model.Ridge(alpha = 1)\n",
    "enets = sklearn.linear_model.ElasticNet(alpha = 1 , l1_ratio=0.5)"
   ]
  },
  {
   "cell_type": "code",
   "execution_count": 134,
   "id": "cd02cad6-9799-40db-b05d-7471bfc0f858",
   "metadata": {},
   "outputs": [
    {
     "name": "stderr",
     "output_type": "stream",
     "text": [
      "C:\\Users\\user\\AppData\\Local\\Temp\\ipykernel_56264\\2501524699.py:37: FutureWarning: The behavior of DataFrame concatenation with empty or all-NA entries is deprecated. In a future version, this will no longer exclude empty or all-NA columns when determining the result dtypes. To retain the old behavior, exclude the relevant entries before the concat operation.\n",
      "  benchmark = pd.concat([benchmark, results_df], ignore_index=True)\n",
      "C:\\Users\\user\\anaconda3\\Lib\\site-packages\\sklearn\\linear_model\\_ridge.py:204: LinAlgWarning: Ill-conditioned matrix (rcond=8.168e-19): result may not be accurate.\n",
      "  return linalg.solve(A, Xy, assume_a=\"pos\", overwrite_a=True).T\n"
     ]
    },
    {
     "name": "stdout",
     "output_type": "stream",
     "text": [
      "               model  train score  test score  R_square  RMSE (M)\n",
      "0   LinearRegression     0.776155    0.750710  0.750710  1.093502\n",
      "1  TheilSenRegressor     0.157617    0.570344  0.570344  1.435581\n",
      "2    RANSACRegressor    -7.326731   -1.110895 -1.110895  3.182001\n",
      "3     HuberRegressor     0.016635    0.016085  0.016085  2.172430\n",
      "4              Lasso     0.774800    0.749105  0.749105  1.097016\n",
      "5              Ridge     0.776021    0.751339  0.751339  1.092120\n",
      "6         ElasticNet     0.668122    0.645511  0.645511  1.303973\n"
     ]
    }
   ],
   "source": [
    "# Function to evaluate a list of regression models\n",
    "def score(model_list, X_train, X_test, y_train, y_test):\n",
    "    # Initialize a DataFrame to store the results\n",
    "    benchmark = pd.DataFrame(columns=['model', 'train score', 'test score', 'R_square', 'RMSE (M)'])\n",
    "    \n",
    "    # Iterate over each model in the list\n",
    "    for model in model_list:\n",
    "        try:\n",
    "            # Fit the model to the training data\n",
    "            model.fit(X_train, y_train)\n",
    "            \n",
    "            # Predict the test set\n",
    "            y_preds = model.predict(X_test)\n",
    "            \n",
    "            # Calculate R² and RMSE using y_test\n",
    "            r2 = metrics.r2_score(y_test, y_preds)\n",
    "            rmse = np.sqrt(metrics.mean_squared_error(y_test, y_preds))\n",
    "            \n",
    "            # Obtain train and test scores\n",
    "            train_score = model.score(X_train, y_train)\n",
    "            test_score = model.score(X_test, y_test)\n",
    "            \n",
    "            # Create a dictionary to store the results\n",
    "            results_dict = {\n",
    "                'model': model.__class__.__name__,\n",
    "                'train score': train_score,\n",
    "                'test score': test_score,\n",
    "                'R_square': r2,\n",
    "                'RMSE (M)': rmse / 1_000_000  # Convert RMSE to millions\n",
    "            }\n",
    "            \n",
    "            # Convert the dictionary into a DataFrame with one row\n",
    "            results_df = pd.DataFrame([results_dict])\n",
    "            \n",
    "            # Concatenate the new row to the benchmark DataFrame\n",
    "            benchmark = pd.concat([benchmark, results_df], ignore_index=True)\n",
    "\n",
    "        except Exception as e:\n",
    "            print(f\"Model {model.__class__.__name__} failed to fit: {e}\")\n",
    "\n",
    "    return benchmark\n",
    "\n",
    "# List of models to evaluate\n",
    "model_list = [ols, ts, ransac, huber, lasso, ridge, enets]\n",
    "\n",
    "# Call the function with the appropriate data splits\n",
    "results = score(model_list, X_train, X_test, y_train, y_test)\n",
    "\n",
    "# Display the evaluation results\n",
    "print(results)"
   ]
  },
  {
   "cell_type": "code",
   "execution_count": 136,
   "id": "d279444e-95c4-4944-9a79-ee54508cb7e8",
   "metadata": {},
   "outputs": [
    {
     "data": {
      "text/html": [
       "<div>\n",
       "<style scoped>\n",
       "    .dataframe tbody tr th:only-of-type {\n",
       "        vertical-align: middle;\n",
       "    }\n",
       "\n",
       "    .dataframe tbody tr th {\n",
       "        vertical-align: top;\n",
       "    }\n",
       "\n",
       "    .dataframe thead th {\n",
       "        text-align: right;\n",
       "    }\n",
       "</style>\n",
       "<table border=\"1\" class=\"dataframe\">\n",
       "  <thead>\n",
       "    <tr style=\"text-align: right;\">\n",
       "      <th></th>\n",
       "      <th>model</th>\n",
       "      <th>train score</th>\n",
       "      <th>test score</th>\n",
       "      <th>R_square</th>\n",
       "      <th>RMSE (M)</th>\n",
       "    </tr>\n",
       "  </thead>\n",
       "  <tbody>\n",
       "    <tr>\n",
       "      <th>0</th>\n",
       "      <td>LinearRegression</td>\n",
       "      <td>0.776155</td>\n",
       "      <td>0.750710</td>\n",
       "      <td>0.750710</td>\n",
       "      <td>1.093502</td>\n",
       "    </tr>\n",
       "    <tr>\n",
       "      <th>1</th>\n",
       "      <td>TheilSenRegressor</td>\n",
       "      <td>0.157617</td>\n",
       "      <td>0.570344</td>\n",
       "      <td>0.570344</td>\n",
       "      <td>1.435581</td>\n",
       "    </tr>\n",
       "    <tr>\n",
       "      <th>2</th>\n",
       "      <td>RANSACRegressor</td>\n",
       "      <td>-7.326731</td>\n",
       "      <td>-1.110895</td>\n",
       "      <td>-1.110895</td>\n",
       "      <td>3.182001</td>\n",
       "    </tr>\n",
       "    <tr>\n",
       "      <th>3</th>\n",
       "      <td>HuberRegressor</td>\n",
       "      <td>0.016635</td>\n",
       "      <td>0.016085</td>\n",
       "      <td>0.016085</td>\n",
       "      <td>2.172430</td>\n",
       "    </tr>\n",
       "    <tr>\n",
       "      <th>4</th>\n",
       "      <td>Lasso</td>\n",
       "      <td>0.774800</td>\n",
       "      <td>0.749105</td>\n",
       "      <td>0.749105</td>\n",
       "      <td>1.097016</td>\n",
       "    </tr>\n",
       "    <tr>\n",
       "      <th>5</th>\n",
       "      <td>Ridge</td>\n",
       "      <td>0.776021</td>\n",
       "      <td>0.751339</td>\n",
       "      <td>0.751339</td>\n",
       "      <td>1.092120</td>\n",
       "    </tr>\n",
       "    <tr>\n",
       "      <th>6</th>\n",
       "      <td>ElasticNet</td>\n",
       "      <td>0.668122</td>\n",
       "      <td>0.645511</td>\n",
       "      <td>0.645511</td>\n",
       "      <td>1.303973</td>\n",
       "    </tr>\n",
       "  </tbody>\n",
       "</table>\n",
       "</div>"
      ],
      "text/plain": [
       "               model  train score  test score  R_square  RMSE (M)\n",
       "0   LinearRegression     0.776155    0.750710  0.750710  1.093502\n",
       "1  TheilSenRegressor     0.157617    0.570344  0.570344  1.435581\n",
       "2    RANSACRegressor    -7.326731   -1.110895 -1.110895  3.182001\n",
       "3     HuberRegressor     0.016635    0.016085  0.016085  2.172430\n",
       "4              Lasso     0.774800    0.749105  0.749105  1.097016\n",
       "5              Ridge     0.776021    0.751339  0.751339  1.092120\n",
       "6         ElasticNet     0.668122    0.645511  0.645511  1.303973"
      ]
     },
     "execution_count": 136,
     "metadata": {},
     "output_type": "execute_result"
    }
   ],
   "source": [
    "results"
   ]
  },
  {
   "cell_type": "code",
   "execution_count": 138,
   "id": "11660182-1846-45d7-8bcf-882ab012dae2",
   "metadata": {},
   "outputs": [],
   "source": [
    "# The best model for predicting housing prices is Linear Regression, which yields the following results:\n",
    "# train score: 0.77\n",
    "# test score: 0.75\n",
    "# R_squared: 0.75\n",
    "# RMSE (in millions): 1.0935 → This is the lowest RMSE value achieved."
   ]
  }
 ],
 "metadata": {
  "kernelspec": {
   "display_name": "Python 3 (ipykernel)",
   "language": "python",
   "name": "python3"
  },
  "language_info": {
   "codemirror_mode": {
    "name": "ipython",
    "version": 3
   },
   "file_extension": ".py",
   "mimetype": "text/x-python",
   "name": "python",
   "nbconvert_exporter": "python",
   "pygments_lexer": "ipython3",
   "version": "3.12.4"
  }
 },
 "nbformat": 4,
 "nbformat_minor": 5
}
