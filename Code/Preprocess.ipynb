{
 "cells": [
  {
   "cell_type": "markdown",
   "id": "3dfa617d-ac1e-484b-a669-bd4433a33a7b",
   "metadata": {},
   "source": [
    "# Preprocess & Features engineering"
   ]
  },
  {
   "cell_type": "code",
   "execution_count": 311,
   "id": "3c70da11-6308-4b3d-a5e0-9dddf3f3374b",
   "metadata": {},
   "outputs": [],
   "source": [
    "import pandas as pd\n",
    "import numpy as np\n",
    "import matplotlib.pyplot as plt\n",
    "import seaborn as sns\n",
    "\n",
    "from sklearn.linear_model import LinearRegression\n",
    "from sklearn import metrics\n",
    "import scipy.stats as stats\n",
    "from sklearn.preprocessing import StandardScaler, PolynomialFeatures"
   ]
  },
  {
   "cell_type": "code",
   "execution_count": 312,
   "id": "1cd6ae29-fdfe-400a-aece-828ea22a376b",
   "metadata": {},
   "outputs": [],
   "source": [
    "preprocess_data = pd.read_csv('../Dataset/bangkok_cleaned.csv')"
   ]
  },
  {
   "cell_type": "code",
   "execution_count": 313,
   "id": "32267967-1eb6-4b1e-a891-d5178f0d0011",
   "metadata": {},
   "outputs": [
    {
     "data": {
      "text/plain": [
       "(14208, 16)"
      ]
     },
     "execution_count": 313,
     "metadata": {},
     "output_type": "execute_result"
    }
   ],
   "source": [
    "preprocess_data.shape"
   ]
  },
  {
   "cell_type": "code",
   "execution_count": 314,
   "id": "35d4178c-c440-4a56-95e9-b8e8aab1a662",
   "metadata": {
    "scrolled": true
   },
   "outputs": [
    {
     "data": {
      "text/plain": [
       "id                            0\n",
       "province                      0\n",
       "district                      0\n",
       "property_type                 0\n",
       "bedrooms                      0\n",
       "baths                         0\n",
       "floor_area                    0\n",
       "nearby_stations               0\n",
       "nearby_station_distance    7005\n",
       "nearby_supermarkets           0\n",
       "nearby_shops                  0\n",
       "facilities                    0\n",
       "price                         0\n",
       "station_name                  0\n",
       "station_distance              0\n",
       "num_facilities                0\n",
       "dtype: int64"
      ]
     },
     "execution_count": 314,
     "metadata": {},
     "output_type": "execute_result"
    }
   ],
   "source": [
    "preprocess_data.isnull().sum()"
   ]
  },
  {
   "cell_type": "markdown",
   "id": "14cf4450-028f-453b-822a-0587ab4813eb",
   "metadata": {},
   "source": [
    "### Change the values from strings to lists in the 'facilities' column"
   ]
  },
  {
   "cell_type": "code",
   "execution_count": 316,
   "id": "88ae0911-15d6-4b0c-8102-fe66f1d07d3a",
   "metadata": {
    "scrolled": true
   },
   "outputs": [],
   "source": [
    "def extract_facility(facilities):\n",
    "    # Check if the value is NaN (missing value)\n",
    "    if pd.isnull(facilities):\n",
    "        return 'None'  # Return 'None' if there are no facilities listed\n",
    "    \n",
    "    # If facilities is not empty, process the string\n",
    "    if facilities and len(facilities) != 0:  \n",
    "       \n",
    "        facility_text = str(facilities)[1:-1]\n",
    "        \n",
    "        facility_list = facility_text.split(',')\n",
    "        \n",
    "    return facility_list  \n",
    "\n",
    "# Apply the extract_facility function to the 'facilities' column in preprocess_data DataFrame\n",
    "preprocess_data['facilities'] = preprocess_data['facilities'].apply(extract_facility)\n"
   ]
  },
  {
   "cell_type": "markdown",
   "id": "24ad1d7d-433e-4d34-9463-b796daa837ae",
   "metadata": {},
   "source": [
    "### Dummy Variable\r\n",
    "\r\n",
    "These are binary variables created during the one-hot encoding process, where 1 represents the presence of a category and 0 represents its absence.\r\n"
   ]
  },
  {
   "cell_type": "code",
   "execution_count": 318,
   "id": "2cd760e3-7666-45b8-b137-a724208b34a1",
   "metadata": {},
   "outputs": [],
   "source": [
    "# Pivot the 'nearby_station_distance' data to create separate columns for each station's distance, filling missing values with 0.\n",
    "pivot = preprocess_data.pivot_table(index=preprocess_data.index, \n",
    "                                  columns='station_name', \n",
    "                                  values='station_distance', \n",
    "                                  aggfunc= 'sum')\n",
    "pivot = pivot.fillna(0)\n",
    "pivot.columns = ['stat_' + str(col) for col in pivot.columns]\n",
    "preprocess_data = pd.concat([preprocess_data.drop(columns=['nearby_station_distance','station_name','station_distance']), pivot], axis = 1)"
   ]
  },
  {
   "cell_type": "code",
   "execution_count": 319,
   "id": "7a12d102-ba46-422a-96b7-b9c0c8dd4eb7",
   "metadata": {},
   "outputs": [],
   "source": [
    "# Before creating dummy variables for facilities, we need to explode the list of facilities.\n",
    "# Explode the facilities list\n",
    "facility_exploded = preprocess_data.explode('facilities')\n",
    "\n",
    "# Create dummy variables\n",
    "facility_dummies = pd.get_dummies(facility_exploded['facilities'].str.replace(\"'\", ''), prefix='faci')\n",
    "\n",
    "# Group by the original index and sum the dummy variables\n",
    "facility_pivoted = facility_dummies.groupby(facility_exploded.index).sum()\n",
    "\n",
    "# Concatenate the dummy variables with the original DataFrame after dropping the 'facilities' column\n",
    "preprocess_data = pd.concat([preprocess_data.drop(columns=['facilities']), facility_pivoted], axis=1)\n"
   ]
  },
  {
   "cell_type": "code",
   "execution_count": 320,
   "id": "262777e6-f2b1-4532-8cb5-084c3bfe3bc3",
   "metadata": {},
   "outputs": [],
   "source": [
    "# For these categorical columns, we can create dummy variables directly.\n",
    "preprocess_data = pd.get_dummies(data=preprocess_data, columns=[\"property_type\"], prefix=\"type\")\n",
    "preprocess_data = pd.get_dummies(data=preprocess_data, columns=[\"district\"], prefix=\"dist\")\n",
    "preprocess_data = pd.get_dummies(data=preprocess_data, columns=[\"province\"], prefix=\"prov\")"
   ]
  },
  {
   "cell_type": "markdown",
   "id": "ea0a3733-fe96-4e16-8758-33a1474f294f",
   "metadata": {},
   "source": [
    "### Polynomial Feature\r\n",
    "\r\n",
    "This involves creating new features by raising existing features to a power, typically to capture non-linear relationships in the data.\r\n"
   ]
  },
  {
   "cell_type": "code",
   "execution_count": 322,
   "id": "8236af6b-5da1-4f1a-9148-365b013d0bf7",
   "metadata": {},
   "outputs": [],
   "source": [
    "# Select the initial features for polynomial expansion\n",
    "starter_features = ['bedrooms','baths','floor_area', 'nearby_stations', 'nearby_supermarkets', 'num_facilities']"
   ]
  },
  {
   "cell_type": "code",
   "execution_count": 323,
   "id": "e37e8ffc-7b38-4cbc-9044-48f184bd1a47",
   "metadata": {},
   "outputs": [],
   "source": [
    "# Select features for polynomial transformation\n",
    "data_poly = preprocess_data[starter_features]\n",
    "\n",
    "# Generate polynomial features of degree 3 without the bias term\n",
    "poly = PolynomialFeatures(include_bias=False, degree=3)\n",
    "X_poly = poly.fit_transform(data_poly)\n",
    "\n",
    "# Create a DataFrame for polynomial features and concatenate with the original data\n",
    "poly_df = pd.DataFrame(X_poly, columns=poly.get_feature_names_out(starter_features))\n",
    "preprocess_data = pd.concat([preprocess_data, poly_df], axis=1)"
   ]
  },
  {
   "cell_type": "markdown",
   "id": "72e3ca86-3c6c-44a2-aa0a-10529c27ee7d",
   "metadata": {},
   "source": [
    "### Save file to tuning the model"
   ]
  },
  {
   "cell_type": "code",
   "execution_count": 325,
   "id": "b10af387-0649-467e-9e0a-872020957039",
   "metadata": {},
   "outputs": [],
   "source": [
    "preprocess_data.to_csv('../Dataset/bangkok_preprocess.csv',index = False)"
   ]
  }
 ],
 "metadata": {
  "kernelspec": {
   "display_name": "Python 3 (ipykernel)",
   "language": "python",
   "name": "python3"
  },
  "language_info": {
   "codemirror_mode": {
    "name": "ipython",
    "version": 3
   },
   "file_extension": ".py",
   "mimetype": "text/x-python",
   "name": "python",
   "nbconvert_exporter": "python",
   "pygments_lexer": "ipython3",
   "version": "3.12.4"
  }
 },
 "nbformat": 4,
 "nbformat_minor": 5
}
