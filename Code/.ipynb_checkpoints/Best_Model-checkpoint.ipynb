{
 "cells": [
  {
   "cell_type": "markdown",
   "id": "7053538d-d001-4012-8242-ebedcdbe8de4",
   "metadata": {},
   "source": [
    "# Modeling for Housing Price Prediction\n",
    "---"
   ]
  },
  {
   "cell_type": "markdown",
   "id": "00a6c15c-719c-4d08-b285-6d4237e86e13",
   "metadata": {},
   "source": [
    "After model benchmarks, we found the best model that give most closer picked by RMSC value among `OLS`, `Regularization`, `Ridge`, `Lasso`, `ElasticNet`, `Robust Regression`, `TheilSen`, `RANSAC` , `Huber` is OLS from [**model_benchmarks**](./Code/Model_Benchmarks.ipynb) notebook"
   ]
  },
  {
   "cell_type": "code",
   "execution_count": 119,
   "id": "0d4a2cdc-3141-455d-98ac-540344aad657",
   "metadata": {},
   "outputs": [],
   "source": [
    "import pandas as pd\n",
    "import numpy as np\n",
    "import matplotlib.pyplot as plt\n",
    "import seaborn as sns\n",
    "\n",
    "from sklearn.linear_model import LinearRegression\n",
    "from sklearn import metrics\n",
    "import scipy.stats as stats\n",
    "from sklearn.preprocessing import StandardScaler\n"
   ]
  },
  {
   "cell_type": "code",
   "execution_count": 120,
   "id": "e7284bb2-3b0c-44a0-a346-8f6320455580",
   "metadata": {},
   "outputs": [],
   "source": [
    "modeling_data = pd.read_csv('../Dataset/bangkok_preprocess.csv')"
   ]
  },
  {
   "cell_type": "code",
   "execution_count": 121,
   "id": "6514d17e-b545-4e27-9ef1-70c3ec1db02e",
   "metadata": {},
   "outputs": [],
   "source": [
    "features = sorted(list(set(modeling_data.columns)-{'price'}))"
   ]
  },
  {
   "cell_type": "code",
   "execution_count": 122,
   "id": "96bbc27d-f5b3-43b5-92b8-ab8de8038052",
   "metadata": {},
   "outputs": [],
   "source": [
    "# Setting Our Features and Targets\n",
    "X = modeling_data[features]\n",
    "y = modeling_data['price']"
   ]
  },
  {
   "cell_type": "code",
   "execution_count": 123,
   "id": "d0072d2c-8a0f-4847-8f57-ca1e79476e3d",
   "metadata": {},
   "outputs": [],
   "source": [
    "from sklearn.model_selection import train_test_split, cross_val_score\n",
    "X_train, X_test, y_train, y_test = train_test_split(X, y,train_size= 0.75 , random_state=42)"
   ]
  },
  {
   "cell_type": "markdown",
   "id": "23daa4d8-1be6-44af-a6e5-4a63da2021d4",
   "metadata": {},
   "source": [
    "---"
   ]
  },
  {
   "cell_type": "markdown",
   "id": "17d3051e-8feb-4e86-aef2-188a85015529",
   "metadata": {},
   "source": [
    "### Model Tuning "
   ]
  },
  {
   "cell_type": "code",
   "execution_count": 126,
   "id": "1ea5c488-08b0-4d25-a41a-479a72523e03",
   "metadata": {},
   "outputs": [],
   "source": [
    "lr = LinearRegression()\n",
    "lr.fit(X_train,y_train)\n",
    "train_score = lr.score(X_train,y_train)\n",
    "test_score = lr.score(X_test,y_test)\n",
    "modeling_data['predict_price'] = lr.predict(X)\n",
    "y_preds = modeling_data['predict_price']\n",
    "modeling_data['residuals'] = y - y_preds\n",
    "residuals = modeling_data['residuals']\n",
    "cvs = cross_val_score(lr, X, y, cv = 6)"
   ]
  },
  {
   "cell_type": "code",
   "execution_count": 127,
   "id": "f7ca5ee8-10b8-4c48-a477-3992f40f11fb",
   "metadata": {},
   "outputs": [],
   "source": [
    "# Function for Calculating Adjusted R-Squared\n",
    "def r2_adj(y, y_preds, p):\n",
    "    n = len(y)\n",
    "    r2 = metrics.r2_score(y, y_preds)\n",
    "    return 1 - (1 - r2) * (n - 1) / (n - p - 1)"
   ]
  },
  {
   "cell_type": "code",
   "execution_count": 128,
   "id": "55e3a63f-412e-4129-bb33-ea382502d7f0",
   "metadata": {},
   "outputs": [
    {
     "name": "stdout",
     "output_type": "stream",
     "text": [
      "Regression Metric number the features is: \n",
      "bedrooms, baths, floor_area, province, district, property_type, nearby_stations, nearby_supermarkets, facilities, num_facilities\n",
      "\n",
      "The mean squared error is 1,148,330,324,805.31\n",
      "The root mean squared error is 1,071,601.76\n",
      "The mean absolute error is 787,031.22\n",
      "The R^2 is 0.76\n",
      "Adjusted R^2 = 0.76\n",
      "\n",
      "train score = 0.77\n",
      "test score = 0.73\n",
      "\n",
      "Cross Validation Score cv = 6 : [0.75458872 0.71583146 0.75980138 0.73203629 0.72924565 0.76168447]\n"
     ]
    }
   ],
   "source": [
    "# Function for Calculating Metrics in the Model\n",
    "def king_of_metrics(y, y_preds, p): \n",
    "\n",
    "    mse = metrics.mean_squared_error(y, y_preds)\n",
    "    rmse = metrics.root_mean_squared_error(y, y_preds)\n",
    "    mae = metrics.mean_absolute_error(y, y_preds)\n",
    "    r2 = metrics.r2_score(y, y_preds)\n",
    "    r2a = r2_adj(y, y_preds, p)\n",
    "\n",
    "\n",
    "    print(f\"Regression Metric number the features is: \")\n",
    "    print(f\"bedrooms, baths, floor_area, province, district, property_type, nearby_stations, nearby_supermarkets, facilities, num_facilities\\n\")\n",
    "    print(f\"The mean squared error is {mse:,.2f}\")\n",
    "    print(f\"The root mean squared error is {rmse:,.2f}\")\n",
    "    print(f\"The mean absolute error is {mae:,.2f}\")\n",
    "    print(f\"The R^2 is {r2:,.2f}\")\n",
    "    print(f\"Adjusted R^2 = {r2a:,.2f}\\n\")\n",
    "    print(f\"train score = {train_score:,.2f}\")\n",
    "    print(f\"test score = {test_score:,.2f}\\n\")\n",
    "    print(f\"Cross Validation Score cv = 6 : {cvs}\")\n",
    "king_of_metrics(y,y_preds, 30)"
   ]
  },
  {
   "cell_type": "code",
   "execution_count": 129,
   "id": "b0340442-8fdf-40c3-a80f-f3427bbacadf",
   "metadata": {},
   "outputs": [],
   "source": [
    "Post_model_OLS =  modeling_data[['price','predict_price','residuals']]\n",
    "Post_model_OLS.to_csv('../Dataset/post_ols.csv')"
   ]
  },
  {
   "cell_type": "code",
   "execution_count": 130,
   "id": "c8d9db6b-74b5-44a5-9a37-116a96233fd3",
   "metadata": {},
   "outputs": [],
   "source": [
    "coef = pd.DataFrame({'Feature': X.columns, 'Coefficient': lr.coef_*100})"
   ]
  },
  {
   "cell_type": "code",
   "execution_count": 131,
   "id": "88d22f37-cf7e-4971-a187-08e0437ccef6",
   "metadata": {
    "scrolled": true
   },
   "outputs": [
    {
     "data": {
      "text/html": [
       "<div>\n",
       "<style scoped>\n",
       "    .dataframe tbody tr th:only-of-type {\n",
       "        vertical-align: middle;\n",
       "    }\n",
       "\n",
       "    .dataframe tbody tr th {\n",
       "        vertical-align: top;\n",
       "    }\n",
       "\n",
       "    .dataframe thead th {\n",
       "        text-align: right;\n",
       "    }\n",
       "</style>\n",
       "<table border=\"1\" class=\"dataframe\">\n",
       "  <thead>\n",
       "    <tr style=\"text-align: right;\">\n",
       "      <th></th>\n",
       "      <th>Feature</th>\n",
       "      <th>Coefficient</th>\n",
       "    </tr>\n",
       "  </thead>\n",
       "  <tbody>\n",
       "    <tr>\n",
       "      <th>330</th>\n",
       "      <td>total_facilities</td>\n",
       "      <td>1.006538e+06</td>\n",
       "    </tr>\n",
       "    <tr>\n",
       "      <th>177</th>\n",
       "      <td>floor_area</td>\n",
       "      <td>2.371886e+06</td>\n",
       "    </tr>\n",
       "    <tr>\n",
       "      <th>186</th>\n",
       "      <td>nearby_stations</td>\n",
       "      <td>4.531291e+07</td>\n",
       "    </tr>\n",
       "    <tr>\n",
       "      <th>11</th>\n",
       "      <td>bedrooms</td>\n",
       "      <td>7.090339e+07</td>\n",
       "    </tr>\n",
       "    <tr>\n",
       "      <th>0</th>\n",
       "      <td>baths</td>\n",
       "      <td>4.426852e+12</td>\n",
       "    </tr>\n",
       "  </tbody>\n",
       "</table>\n",
       "</div>"
      ],
      "text/plain": [
       "              Feature   Coefficient\n",
       "330  total_facilities  1.006538e+06\n",
       "177        floor_area  2.371886e+06\n",
       "186   nearby_stations  4.531291e+07\n",
       "11           bedrooms  7.090339e+07\n",
       "0               baths  4.426852e+12"
      ]
     },
     "execution_count": 131,
     "metadata": {},
     "output_type": "execute_result"
    }
   ],
   "source": [
    "bast_feature_coef =coef[coef['Feature'].isin(['nearby_stations','baths','bedrooms','floor_area', 'total_facilities'])].sort_values(by='Coefficient', ascending=True)\n",
    "bast_feature_coef"
   ]
  },
  {
   "cell_type": "code",
   "execution_count": 132,
   "id": "df90fc2c-fe99-4ab8-8b57-0894f9044394",
   "metadata": {},
   "outputs": [
    {
     "data": {
      "text/html": [
       "<div>\n",
       "<style scoped>\n",
       "    .dataframe tbody tr th:only-of-type {\n",
       "        vertical-align: middle;\n",
       "    }\n",
       "\n",
       "    .dataframe tbody tr th {\n",
       "        vertical-align: top;\n",
       "    }\n",
       "\n",
       "    .dataframe thead th {\n",
       "        text-align: right;\n",
       "    }\n",
       "</style>\n",
       "<table border=\"1\" class=\"dataframe\">\n",
       "  <thead>\n",
       "    <tr style=\"text-align: right;\">\n",
       "      <th></th>\n",
       "      <th>Feature</th>\n",
       "      <th>Coefficient</th>\n",
       "    </tr>\n",
       "  </thead>\n",
       "  <tbody>\n",
       "    <tr>\n",
       "      <th>190</th>\n",
       "      <td>property_type_Townhouse</td>\n",
       "      <td>-1.163668e+08</td>\n",
       "    </tr>\n",
       "    <tr>\n",
       "      <th>189</th>\n",
       "      <td>property_type_Detached House</td>\n",
       "      <td>2.299088e+07</td>\n",
       "    </tr>\n",
       "    <tr>\n",
       "      <th>188</th>\n",
       "      <td>property_type_Condo</td>\n",
       "      <td>9.337593e+07</td>\n",
       "    </tr>\n",
       "  </tbody>\n",
       "</table>\n",
       "</div>"
      ],
      "text/plain": [
       "                          Feature   Coefficient\n",
       "190       property_type_Townhouse -1.163668e+08\n",
       "189  property_type_Detached House  2.299088e+07\n",
       "188           property_type_Condo  9.337593e+07"
      ]
     },
     "execution_count": 132,
     "metadata": {},
     "output_type": "execute_result"
    }
   ],
   "source": [
    "property_coef  = coef[coef['Feature'].str.contains('property')].sort_values(by='Coefficient', ascending=True)\n",
    "property_coef"
   ]
  },
  {
   "cell_type": "code",
   "execution_count": 133,
   "id": "46f9c330-6346-4ba3-bde2-23d8a27ad858",
   "metadata": {
    "scrolled": true
   },
   "outputs": [],
   "source": [
    "station_coef = coef[coef['Feature'].str.contains('MRT|BTS')].sort_values(by='Coefficient', ascending=True)\n",
    "station_coef['Feature'] = station_coef['Feature'].str.replace('stat_','')"
   ]
  },
  {
   "cell_type": "code",
   "execution_count": 212,
   "id": "1303e040-4327-4ed3-9dc8-13a8d91e6c29",
   "metadata": {},
   "outputs": [],
   "source": [
    "sample = pd.read_csv('../Dataset/bangkok_cleaned.csv')\n",
    "total_sample = sample.groupby('station_name').size().reset_index(name='count')\n",
    "station_coef_sample = pd.merge(station_coef,total_sample, left_on= 'Feature', right_on= 'station_name')"
   ]
  },
  {
   "cell_type": "code",
   "execution_count": 214,
   "id": "e2482fd7-29c0-4db9-9d4b-b9d9aa769e7e",
   "metadata": {},
   "outputs": [
    {
     "data": {
      "text/plain": [
       "(1.8106857695393013, 42.0, 60.132075471698116)"
      ]
     },
     "execution_count": 214,
     "metadata": {},
     "output_type": "execute_result"
    }
   ],
   "source": [
    "station_coef_sample['count'].skew(), station_coef_sample['count'].median(),station_coef_sample['count'].mean()"
   ]
  },
  {
   "cell_type": "code",
   "execution_count": 299,
   "id": "3ad15927-28cf-4248-8b22-ef189920732e",
   "metadata": {},
   "outputs": [
    {
     "data": {
      "text/html": [
       "<div>\n",
       "<style scoped>\n",
       "    .dataframe tbody tr th:only-of-type {\n",
       "        vertical-align: middle;\n",
       "    }\n",
       "\n",
       "    .dataframe tbody tr th {\n",
       "        vertical-align: top;\n",
       "    }\n",
       "\n",
       "    .dataframe thead th {\n",
       "        text-align: right;\n",
       "    }\n",
       "</style>\n",
       "<table border=\"1\" class=\"dataframe\">\n",
       "  <thead>\n",
       "    <tr style=\"text-align: right;\">\n",
       "      <th></th>\n",
       "      <th>Coefficient</th>\n",
       "      <th>station_name</th>\n",
       "      <th>count</th>\n",
       "      <th>line</th>\n",
       "    </tr>\n",
       "  </thead>\n",
       "  <tbody>\n",
       "    <tr>\n",
       "      <th>1</th>\n",
       "      <td>-353424.567336</td>\n",
       "      <td>Phetchaburi</td>\n",
       "      <td>46</td>\n",
       "      <td>MRT</td>\n",
       "    </tr>\n",
       "    <tr>\n",
       "      <th>4</th>\n",
       "      <td>-312668.257346</td>\n",
       "      <td>Sam Yan</td>\n",
       "      <td>97</td>\n",
       "      <td>MRT</td>\n",
       "    </tr>\n",
       "    <tr>\n",
       "      <th>7</th>\n",
       "      <td>-282391.045693</td>\n",
       "      <td>Nana</td>\n",
       "      <td>53</td>\n",
       "      <td>BTS</td>\n",
       "    </tr>\n",
       "    <tr>\n",
       "      <th>8</th>\n",
       "      <td>-267761.420940</td>\n",
       "      <td>Phra Khanong</td>\n",
       "      <td>209</td>\n",
       "      <td>BTS</td>\n",
       "    </tr>\n",
       "    <tr>\n",
       "      <th>9</th>\n",
       "      <td>-263751.526311</td>\n",
       "      <td>Phetkasem 48</td>\n",
       "      <td>51</td>\n",
       "      <td>MRT</td>\n",
       "    </tr>\n",
       "  </tbody>\n",
       "</table>\n",
       "</div>"
      ],
      "text/plain": [
       "     Coefficient  station_name  count line\n",
       "1 -353424.567336   Phetchaburi     46  MRT\n",
       "4 -312668.257346       Sam Yan     97  MRT\n",
       "7 -282391.045693          Nana     53  BTS\n",
       "8 -267761.420940  Phra Khanong    209  BTS\n",
       "9 -263751.526311  Phetkasem 48     51  MRT"
      ]
     },
     "execution_count": 299,
     "metadata": {},
     "output_type": "execute_result"
    }
   ],
   "source": [
    "top5_station_coef = station_coef_sample[station_coef_sample['count'] >= 42].head(5)\n",
    "top5_station_coef['line'] = top5_station_coef['station_name'].apply(lambda x: x.split(' ')[-1] if isinstance(x, str) else x)\n",
    "top5_station_coef['station_name'] = top5_station_coef['station_name'].apply(lambda x:  ' '.join(x.split(' ')[:-1]) if isinstance(x, str) else x)\n",
    "top5_station_coef.drop(columns = 'Feature')"
   ]
  },
  {
   "cell_type": "code",
   "execution_count": 301,
   "id": "8908da8b-1b33-4ec8-9b3d-bc427c60ffa4",
   "metadata": {},
   "outputs": [
    {
     "data": {
      "text/html": [
       "<div>\n",
       "<style scoped>\n",
       "    .dataframe tbody tr th:only-of-type {\n",
       "        vertical-align: middle;\n",
       "    }\n",
       "\n",
       "    .dataframe tbody tr th {\n",
       "        vertical-align: top;\n",
       "    }\n",
       "\n",
       "    .dataframe thead th {\n",
       "        text-align: right;\n",
       "    }\n",
       "</style>\n",
       "<table border=\"1\" class=\"dataframe\">\n",
       "  <thead>\n",
       "    <tr style=\"text-align: right;\">\n",
       "      <th></th>\n",
       "      <th>Feature</th>\n",
       "      <th>Coefficient</th>\n",
       "      <th>station_name</th>\n",
       "      <th>count</th>\n",
       "      <th>line</th>\n",
       "    </tr>\n",
       "  </thead>\n",
       "  <tbody>\n",
       "    <tr>\n",
       "      <th>1</th>\n",
       "      <td>Phetchaburi MRT</td>\n",
       "      <td>-353424.567336</td>\n",
       "      <td>Phetchaburi</td>\n",
       "      <td>46</td>\n",
       "      <td>MRT</td>\n",
       "    </tr>\n",
       "    <tr>\n",
       "      <th>4</th>\n",
       "      <td>Sam Yan MRT</td>\n",
       "      <td>-312668.257346</td>\n",
       "      <td>Sam Yan</td>\n",
       "      <td>97</td>\n",
       "      <td>MRT</td>\n",
       "    </tr>\n",
       "    <tr>\n",
       "      <th>7</th>\n",
       "      <td>Nana BTS</td>\n",
       "      <td>-282391.045693</td>\n",
       "      <td>Nana</td>\n",
       "      <td>53</td>\n",
       "      <td>BTS</td>\n",
       "    </tr>\n",
       "    <tr>\n",
       "      <th>8</th>\n",
       "      <td>Phra Khanong BTS</td>\n",
       "      <td>-267761.420940</td>\n",
       "      <td>Phra Khanong</td>\n",
       "      <td>209</td>\n",
       "      <td>BTS</td>\n",
       "    </tr>\n",
       "    <tr>\n",
       "      <th>9</th>\n",
       "      <td>Phetkasem 48 MRT</td>\n",
       "      <td>-263751.526311</td>\n",
       "      <td>Phetkasem 48</td>\n",
       "      <td>51</td>\n",
       "      <td>MRT</td>\n",
       "    </tr>\n",
       "  </tbody>\n",
       "</table>\n",
       "</div>"
      ],
      "text/plain": [
       "            Feature    Coefficient  station_name  count line\n",
       "1   Phetchaburi MRT -353424.567336   Phetchaburi     46  MRT\n",
       "4       Sam Yan MRT -312668.257346       Sam Yan     97  MRT\n",
       "7          Nana BTS -282391.045693          Nana     53  BTS\n",
       "8  Phra Khanong BTS -267761.420940  Phra Khanong    209  BTS\n",
       "9  Phetkasem 48 MRT -263751.526311  Phetkasem 48     51  MRT"
      ]
     },
     "execution_count": 301,
     "metadata": {},
     "output_type": "execute_result"
    }
   ],
   "source": [
    "top5_station_coef"
   ]
  },
  {
   "cell_type": "code",
   "execution_count": 303,
   "id": "b3d977c7-3583-408a-8e62-14deb74112f3",
   "metadata": {},
   "outputs": [
    {
     "data": {
      "image/png": "[encoded data removed]",
      "text/plain": [
       "<Figure size 640x480 with 1 Axes>"
      ]
     },
     "metadata": {},
     "output_type": "display_data"
    }
   ],
   "source": [
    "import matplotlib.pyplot as plt\n",
    "\n",
    "# Modify the coefficient values to be positive for plotting\n",
    "top5_plot = top5_station_coef.copy()\n",
    "top5_plot['Coefficient'] = top5_plot['Coefficient'] * -1\n",
    "\n",
    "# Define colors for each line type and create a color mapping for the plot\n",
    "top5_plot['color'] = top5_plot['line'].apply(lambda x: '#8ac926' if x == 'BTS' else '#1982c4')\n",
    "\n",
    "# Create the bar plot with colors based on line types\n",
    "bars = plt.bar(x=top5_plot['station_name'], height=top5_plot['Coefficient'], color=top5_plot['color'])\n",
    "\n",
    "# Labeling and formatting\n",
    "plt.xlabel(\"Station\", fontsize=8)\n",
    "plt.ylabel(\"Price (Bath) / 100m Closer\", fontsize=8, rotation=90, labelpad=10)\n",
    "plt.title(\"Top 5 Stations Affecting Housing Price\", fontsize=10)\n",
    "plt.xticks(rotation=90, fontsize=6)\n",
    "\n",
    "# Create a custom legend for line colors\n",
    "from matplotlib.patches import Patch\n",
    "legend_elements = [Patch(facecolor='#8ac926', label='BTS'), \n",
    "                   Patch(facecolor='#1982c4', label='MRT')]\n",
    "plt.legend(handles=legend_elements, title=\"Line Type\", fontsize=6, title_fontsize='8')\n",
    "\n",
    "# Save and show the plot\n",
    "plt.tight_layout()\n",
    "plt.savefig('../Figures/top_5_stations.png', dpi=200)\n",
    "plt.show()\n"
   ]
  },
  {
   "cell_type": "markdown",
   "id": "34795596-a953-4d57-ac93-8fd05a3ec3f3",
   "metadata": {},
   "source": [
    "---"
   ]
  },
  {
   "cell_type": "markdown",
   "id": "11143177-5232-4d52-98a6-8c9abea0c7fd",
   "metadata": {},
   "source": [
    "# Test Data"
   ]
  },
  {
   "cell_type": "code",
   "execution_count": 141,
   "id": "11ef1c50-62aa-45a1-b3aa-b080dedbb6c9",
   "metadata": {},
   "outputs": [],
   "source": [
    "import warnings\n",
    "from pandas.errors import PerformanceWarning\n",
    "\n",
    "# Ignore PerformanceWarning\n",
    "warnings.filterwarnings(\"ignore\", category=PerformanceWarning)"
   ]
  },
  {
   "cell_type": "code",
   "execution_count": 142,
   "id": "4e353838-51c0-42ed-b773-98a7dccf0a7f",
   "metadata": {},
   "outputs": [],
   "source": [
    "bangkok_test = pd.read_csv('../Dataset/test_preprocess.csv')"
   ]
  },
  {
   "cell_type": "code",
   "execution_count": 143,
   "id": "7eab72d1-2b8f-469d-9d81-49296f77f09d",
   "metadata": {},
   "outputs": [],
   "source": [
    "# Get all columns to features except price\n",
    "test_features = list(set(bangkok_test.columns)-{'price'})"
   ]
  },
  {
   "cell_type": "code",
   "execution_count": 144,
   "id": "13880e45-e924-4991-a595-b291bf531238",
   "metadata": {},
   "outputs": [],
   "source": [
    "# # Check the columns to match the features in the training data and add a 'False' value in a new column\n",
    "features_add = list(set(features) - set(test_features))\n",
    "test_features = sorted(test_features + features_add)\n",
    "bangkok_test[features_add] = False"
   ]
  },
  {
   "cell_type": "code",
   "execution_count": 145,
   "id": "e574589a-63aa-41ba-9834-73859846940a",
   "metadata": {},
   "outputs": [],
   "source": [
    "# Write a Function to Input Data into an Already Trained Model\n",
    "def predict_test_model(features,data):\n",
    "    X = data[features]\n",
    "    X = X.copy()\n",
    "    data['price'] = lr.predict(X)\n",
    "\n",
    "    return data[['id','price']]\n",
    "\n",
    "submit_on_kaggle = predict_test_model(features,bangkok_test)"
   ]
  },
  {
   "cell_type": "code",
   "execution_count": 146,
   "id": "d39723aa-083d-49a1-872d-ee201d8a3f09",
   "metadata": {},
   "outputs": [],
   "source": [
    "submit_on_kaggle.to_csv('../Dataset/test_predict_price.csv', index = False)"
   ]
  },
  {
   "cell_type": "markdown",
   "id": "4276c1a7-11c9-4fb3-8085-095111850e41",
   "metadata": {},
   "source": [
    "---"
   ]
  },
  {
   "cell_type": "markdown",
   "id": "a985c012-e946-4db1-80de-be01daf579c2",
   "metadata": {},
   "source": [
    "# Presentation Material Support"
   ]
  },
  {
   "cell_type": "code",
   "execution_count": 240,
   "id": "11b87c82-49e2-4403-9ae6-c77e8aeaae98",
   "metadata": {},
   "outputs": [],
   "source": [
    "test_check = pd.read_csv('../Dataset/test_cleaned.csv')"
   ]
  },
  {
   "cell_type": "code",
   "execution_count": 256,
   "id": "34ade4d4-ecf7-4034-b1f6-e2f7d363a319",
   "metadata": {
    "scrolled": true
   },
   "outputs": [],
   "source": [
    "check_predicted_price = pd.merge(submit_on_kaggle,test_check)\n",
    "check_predicted_price['station_name'] = check_predicted_price['station_name'].apply(lambda x:  ' '.join(x.split(' ')[:-1]) if isinstance(x, str) else x)"
   ]
  },
  {
   "cell_type": "code",
   "execution_count": 258,
   "id": "f5a88937-9add-4fb0-a54a-f6f3d9fbf323",
   "metadata": {},
   "outputs": [
    {
     "data": {
      "text/plain": [
       "['Phetchaburi', 'Sam Yan', 'Nana', 'Phra Khanong', 'Phetkasem 48']"
      ]
     },
     "execution_count": 258,
     "metadata": {},
     "output_type": "execute_result"
    }
   ],
   "source": [
    "station_list = list(top5_station_coef['station_name'].unique())\n",
    "station_list"
   ]
  },
  {
   "cell_type": "code",
   "execution_count": 260,
   "id": "37b0b8f1-8926-4df0-90a4-1a98ec5e4c61",
   "metadata": {
    "scrolled": true
   },
   "outputs": [
    {
     "data": {
      "text/html": [
       "<div>\n",
       "<style scoped>\n",
       "    .dataframe tbody tr th:only-of-type {\n",
       "        vertical-align: middle;\n",
       "    }\n",
       "\n",
       "    .dataframe tbody tr th {\n",
       "        vertical-align: top;\n",
       "    }\n",
       "\n",
       "    .dataframe thead th {\n",
       "        text-align: right;\n",
       "    }\n",
       "</style>\n",
       "<table border=\"1\" class=\"dataframe\">\n",
       "  <thead>\n",
       "    <tr style=\"text-align: right;\">\n",
       "      <th></th>\n",
       "      <th>province</th>\n",
       "      <th>district</th>\n",
       "      <th>property_type</th>\n",
       "      <th>bedrooms</th>\n",
       "      <th>baths</th>\n",
       "      <th>floor_area</th>\n",
       "      <th>total_facilities</th>\n",
       "      <th>station_name</th>\n",
       "      <th>station_distance</th>\n",
       "      <th>price</th>\n",
       "    </tr>\n",
       "  </thead>\n",
       "  <tbody>\n",
       "    <tr>\n",
       "      <th>28</th>\n",
       "      <td>Bangkok</td>\n",
       "      <td>Bang Rak</td>\n",
       "      <td>Condo</td>\n",
       "      <td>1.0</td>\n",
       "      <td>1.0</td>\n",
       "      <td>22</td>\n",
       "      <td>12</td>\n",
       "      <td>Sam Yan</td>\n",
       "      <td>410</td>\n",
       "      <td>5.689131e+06</td>\n",
       "    </tr>\n",
       "    <tr>\n",
       "      <th>32</th>\n",
       "      <td>Bangkok</td>\n",
       "      <td>Watthana</td>\n",
       "      <td>Condo</td>\n",
       "      <td>1.0</td>\n",
       "      <td>1.0</td>\n",
       "      <td>30</td>\n",
       "      <td>8</td>\n",
       "      <td>Phra Khanong</td>\n",
       "      <td>390</td>\n",
       "      <td>3.999939e+06</td>\n",
       "    </tr>\n",
       "    <tr>\n",
       "      <th>72</th>\n",
       "      <td>Bangkok</td>\n",
       "      <td>Watthana</td>\n",
       "      <td>Condo</td>\n",
       "      <td>1.0</td>\n",
       "      <td>1.0</td>\n",
       "      <td>47</td>\n",
       "      <td>5</td>\n",
       "      <td>Phra Khanong</td>\n",
       "      <td>540</td>\n",
       "      <td>4.309269e+06</td>\n",
       "    </tr>\n",
       "    <tr>\n",
       "      <th>158</th>\n",
       "      <td>Bangkok</td>\n",
       "      <td>Watthana</td>\n",
       "      <td>Condo</td>\n",
       "      <td>1.0</td>\n",
       "      <td>1.0</td>\n",
       "      <td>45</td>\n",
       "      <td>8</td>\n",
       "      <td>Phra Khanong</td>\n",
       "      <td>390</td>\n",
       "      <td>4.796857e+06</td>\n",
       "    </tr>\n",
       "    <tr>\n",
       "      <th>166</th>\n",
       "      <td>Bangkok</td>\n",
       "      <td>Bang Rak</td>\n",
       "      <td>Condo</td>\n",
       "      <td>2.0</td>\n",
       "      <td>2.0</td>\n",
       "      <td>73</td>\n",
       "      <td>10</td>\n",
       "      <td>Sam Yan</td>\n",
       "      <td>830</td>\n",
       "      <td>7.783995e+06</td>\n",
       "    </tr>\n",
       "    <tr>\n",
       "      <th>...</th>\n",
       "      <td>...</td>\n",
       "      <td>...</td>\n",
       "      <td>...</td>\n",
       "      <td>...</td>\n",
       "      <td>...</td>\n",
       "      <td>...</td>\n",
       "      <td>...</td>\n",
       "      <td>...</td>\n",
       "      <td>...</td>\n",
       "      <td>...</td>\n",
       "    </tr>\n",
       "    <tr>\n",
       "      <th>2345</th>\n",
       "      <td>Bangkok</td>\n",
       "      <td>Khlong Toei</td>\n",
       "      <td>Condo</td>\n",
       "      <td>2.0</td>\n",
       "      <td>1.0</td>\n",
       "      <td>50</td>\n",
       "      <td>8</td>\n",
       "      <td>Phra Khanong</td>\n",
       "      <td>550</td>\n",
       "      <td>5.541851e+06</td>\n",
       "    </tr>\n",
       "    <tr>\n",
       "      <th>2388</th>\n",
       "      <td>Bangkok</td>\n",
       "      <td>Watthana</td>\n",
       "      <td>Condo</td>\n",
       "      <td>3.0</td>\n",
       "      <td>2.0</td>\n",
       "      <td>88</td>\n",
       "      <td>9</td>\n",
       "      <td>Phra Khanong</td>\n",
       "      <td>400</td>\n",
       "      <td>7.585842e+06</td>\n",
       "    </tr>\n",
       "    <tr>\n",
       "      <th>2454</th>\n",
       "      <td>Bangkok</td>\n",
       "      <td>Khlong Toei</td>\n",
       "      <td>Condo</td>\n",
       "      <td>2.0</td>\n",
       "      <td>1.0</td>\n",
       "      <td>49</td>\n",
       "      <td>8</td>\n",
       "      <td>Phra Khanong</td>\n",
       "      <td>550</td>\n",
       "      <td>5.513782e+06</td>\n",
       "    </tr>\n",
       "    <tr>\n",
       "      <th>2480</th>\n",
       "      <td>Bangkok</td>\n",
       "      <td>Khlong Toei</td>\n",
       "      <td>Condo</td>\n",
       "      <td>1.0</td>\n",
       "      <td>1.0</td>\n",
       "      <td>30</td>\n",
       "      <td>8</td>\n",
       "      <td>Phra Khanong</td>\n",
       "      <td>550</td>\n",
       "      <td>3.965344e+06</td>\n",
       "    </tr>\n",
       "    <tr>\n",
       "      <th>2495</th>\n",
       "      <td>Bangkok</td>\n",
       "      <td>Bang Rak</td>\n",
       "      <td>Condo</td>\n",
       "      <td>1.0</td>\n",
       "      <td>1.0</td>\n",
       "      <td>33</td>\n",
       "      <td>12</td>\n",
       "      <td>Sam Yan</td>\n",
       "      <td>410</td>\n",
       "      <td>6.396571e+06</td>\n",
       "    </tr>\n",
       "  </tbody>\n",
       "</table>\n",
       "<p>81 rows × 10 columns</p>\n",
       "</div>"
      ],
      "text/plain": [
       "     province     district property_type  bedrooms  baths  floor_area  \\\n",
       "28    Bangkok     Bang Rak         Condo       1.0    1.0          22   \n",
       "32    Bangkok     Watthana         Condo       1.0    1.0          30   \n",
       "72    Bangkok     Watthana         Condo       1.0    1.0          47   \n",
       "158   Bangkok     Watthana         Condo       1.0    1.0          45   \n",
       "166   Bangkok     Bang Rak         Condo       2.0    2.0          73   \n",
       "...       ...          ...           ...       ...    ...         ...   \n",
       "2345  Bangkok  Khlong Toei         Condo       2.0    1.0          50   \n",
       "2388  Bangkok     Watthana         Condo       3.0    2.0          88   \n",
       "2454  Bangkok  Khlong Toei         Condo       2.0    1.0          49   \n",
       "2480  Bangkok  Khlong Toei         Condo       1.0    1.0          30   \n",
       "2495  Bangkok     Bang Rak         Condo       1.0    1.0          33   \n",
       "\n",
       "      total_facilities  station_name  station_distance         price  \n",
       "28                  12       Sam Yan               410  5.689131e+06  \n",
       "32                   8  Phra Khanong               390  3.999939e+06  \n",
       "72                   5  Phra Khanong               540  4.309269e+06  \n",
       "158                  8  Phra Khanong               390  4.796857e+06  \n",
       "166                 10       Sam Yan               830  7.783995e+06  \n",
       "...                ...           ...               ...           ...  \n",
       "2345                 8  Phra Khanong               550  5.541851e+06  \n",
       "2388                 9  Phra Khanong               400  7.585842e+06  \n",
       "2454                 8  Phra Khanong               550  5.513782e+06  \n",
       "2480                 8  Phra Khanong               550  3.965344e+06  \n",
       "2495                12       Sam Yan               410  6.396571e+06  \n",
       "\n",
       "[81 rows x 10 columns]"
      ]
     },
     "execution_count": 260,
     "metadata": {},
     "output_type": "execute_result"
    }
   ],
   "source": [
    "predicted_price_top_station = check_predicted_price[check_predicted_price['station_name'].isin(station_list)]\n",
    "predicted_price_top_station = predicted_price_top_station[['province','district','property_type','bedrooms','baths','floor_area','total_facilities','station_name', 'station_distance','price']]\n",
    "predicted_price_top_station"
   ]
  },
  {
   "cell_type": "code",
   "execution_count": 268,
   "id": "4bac6af0-d172-4e0b-9c94-847c6ea1b834",
   "metadata": {},
   "outputs": [
    {
     "data": {
      "text/html": [
       "<div>\n",
       "<style scoped>\n",
       "    .dataframe tbody tr th:only-of-type {\n",
       "        vertical-align: middle;\n",
       "    }\n",
       "\n",
       "    .dataframe tbody tr th {\n",
       "        vertical-align: top;\n",
       "    }\n",
       "\n",
       "    .dataframe thead th {\n",
       "        text-align: right;\n",
       "    }\n",
       "</style>\n",
       "<table border=\"1\" class=\"dataframe\">\n",
       "  <thead>\n",
       "    <tr style=\"text-align: right;\">\n",
       "      <th></th>\n",
       "      <th>Feature</th>\n",
       "      <th>Coefficient</th>\n",
       "      <th>station_name</th>\n",
       "      <th>count</th>\n",
       "    </tr>\n",
       "  </thead>\n",
       "  <tbody>\n",
       "    <tr>\n",
       "      <th>0</th>\n",
       "      <td>Rachadamri BTS</td>\n",
       "      <td>-589565.670797</td>\n",
       "      <td>Rachadamri BTS</td>\n",
       "      <td>5</td>\n",
       "    </tr>\n",
       "    <tr>\n",
       "      <th>1</th>\n",
       "      <td>Phetchaburi MRT</td>\n",
       "      <td>-353424.567336</td>\n",
       "      <td>Phetchaburi MRT</td>\n",
       "      <td>46</td>\n",
       "    </tr>\n",
       "    <tr>\n",
       "      <th>2</th>\n",
       "      <td>Phasi Charoen MRT</td>\n",
       "      <td>-320331.284199</td>\n",
       "      <td>Phasi Charoen MRT</td>\n",
       "      <td>22</td>\n",
       "    </tr>\n",
       "    <tr>\n",
       "      <th>3</th>\n",
       "      <td>Saphan Mai BTS</td>\n",
       "      <td>-319596.228400</td>\n",
       "      <td>Saphan Mai BTS</td>\n",
       "      <td>1</td>\n",
       "    </tr>\n",
       "    <tr>\n",
       "      <th>4</th>\n",
       "      <td>Sam Yan MRT</td>\n",
       "      <td>-312668.257346</td>\n",
       "      <td>Sam Yan MRT</td>\n",
       "      <td>97</td>\n",
       "    </tr>\n",
       "    <tr>\n",
       "      <th>...</th>\n",
       "      <td>...</td>\n",
       "      <td>...</td>\n",
       "      <td>...</td>\n",
       "      <td>...</td>\n",
       "    </tr>\n",
       "    <tr>\n",
       "      <th>101</th>\n",
       "      <td>Khlong San BTS</td>\n",
       "      <td>190796.403152</td>\n",
       "      <td>Khlong San BTS</td>\n",
       "      <td>14</td>\n",
       "    </tr>\n",
       "    <tr>\n",
       "      <th>102</th>\n",
       "      <td>11th Infantry Regiment BTS</td>\n",
       "      <td>198151.276967</td>\n",
       "      <td>11th Infantry Regiment BTS</td>\n",
       "      <td>14</td>\n",
       "    </tr>\n",
       "    <tr>\n",
       "      <th>103</th>\n",
       "      <td>Bang Phai MRT</td>\n",
       "      <td>232650.392518</td>\n",
       "      <td>Bang Phai MRT</td>\n",
       "      <td>2</td>\n",
       "    </tr>\n",
       "    <tr>\n",
       "      <th>104</th>\n",
       "      <td>Sirindhorn MRT</td>\n",
       "      <td>254590.506411</td>\n",
       "      <td>Sirindhorn MRT</td>\n",
       "      <td>10</td>\n",
       "    </tr>\n",
       "    <tr>\n",
       "      <th>105</th>\n",
       "      <td>Bang Phlat MRT</td>\n",
       "      <td>467339.363543</td>\n",
       "      <td>Bang Phlat MRT</td>\n",
       "      <td>2</td>\n",
       "    </tr>\n",
       "  </tbody>\n",
       "</table>\n",
       "<p>106 rows × 4 columns</p>\n",
       "</div>"
      ],
      "text/plain": [
       "                        Feature    Coefficient                station_name  \\\n",
       "0                Rachadamri BTS -589565.670797              Rachadamri BTS   \n",
       "1               Phetchaburi MRT -353424.567336             Phetchaburi MRT   \n",
       "2             Phasi Charoen MRT -320331.284199           Phasi Charoen MRT   \n",
       "3                Saphan Mai BTS -319596.228400              Saphan Mai BTS   \n",
       "4                   Sam Yan MRT -312668.257346                 Sam Yan MRT   \n",
       "..                          ...            ...                         ...   \n",
       "101              Khlong San BTS  190796.403152              Khlong San BTS   \n",
       "102  11th Infantry Regiment BTS  198151.276967  11th Infantry Regiment BTS   \n",
       "103               Bang Phai MRT  232650.392518               Bang Phai MRT   \n",
       "104              Sirindhorn MRT  254590.506411              Sirindhorn MRT   \n",
       "105              Bang Phlat MRT  467339.363543              Bang Phlat MRT   \n",
       "\n",
       "     count  \n",
       "0        5  \n",
       "1       46  \n",
       "2       22  \n",
       "3        1  \n",
       "4       97  \n",
       "..     ...  \n",
       "101     14  \n",
       "102     14  \n",
       "103      2  \n",
       "104     10  \n",
       "105      2  \n",
       "\n",
       "[106 rows x 4 columns]"
      ]
     },
     "execution_count": 268,
     "metadata": {},
     "output_type": "execute_result"
    }
   ],
   "source": [
    "station_coef_sample"
   ]
  },
  {
   "cell_type": "code",
   "execution_count": 270,
   "id": "697f28b9-4262-4559-851f-51d4157992ce",
   "metadata": {},
   "outputs": [
    {
     "data": {
      "text/html": [
       "<div>\n",
       "<style scoped>\n",
       "    .dataframe tbody tr th:only-of-type {\n",
       "        vertical-align: middle;\n",
       "    }\n",
       "\n",
       "    .dataframe tbody tr th {\n",
       "        vertical-align: top;\n",
       "    }\n",
       "\n",
       "    .dataframe thead th {\n",
       "        text-align: right;\n",
       "    }\n",
       "</style>\n",
       "<table border=\"1\" class=\"dataframe\">\n",
       "  <thead>\n",
       "    <tr style=\"text-align: right;\">\n",
       "      <th></th>\n",
       "      <th>Feature</th>\n",
       "      <th>Coefficient</th>\n",
       "      <th>station_name</th>\n",
       "      <th>count</th>\n",
       "    </tr>\n",
       "  </thead>\n",
       "  <tbody>\n",
       "    <tr>\n",
       "      <th>40</th>\n",
       "      <td>Ekkamai BTS</td>\n",
       "      <td>-85326.566871</td>\n",
       "      <td>Ekkamai BTS</td>\n",
       "      <td>107</td>\n",
       "    </tr>\n",
       "  </tbody>\n",
       "</table>\n",
       "</div>"
      ],
      "text/plain": [
       "        Feature   Coefficient station_name  count\n",
       "40  Ekkamai BTS -85326.566871  Ekkamai BTS    107"
      ]
     },
     "execution_count": 270,
     "metadata": {},
     "output_type": "execute_result"
    }
   ],
   "source": [
    "station_coef_sample[station_coef_sample['station_name'] == 'Ekkamai BTS']"
   ]
  },
  {
   "cell_type": "markdown",
   "id": "40d8c249-4f52-4ac0-a574-27b2e1a6375b",
   "metadata": {},
   "source": [
    "---"
   ]
  }
 ],
 "metadata": {
  "kernelspec": {
   "display_name": "Python 3 (ipykernel)",
   "language": "python",
   "name": "python3"
  },
  "language_info": {
   "codemirror_mode": {
    "name": "ipython",
    "version": 3
   },
   "file_extension": ".py",
   "mimetype": "text/x-python",
   "name": "python",
   "nbconvert_exporter": "python",
   "pygments_lexer": "ipython3",
   "version": "3.12.4"
  }
 },
 "nbformat": 4,
 "nbformat_minor": 5
}
