{
 "cells": [
  {
   "cell_type": "markdown",
   "id": "7053538d-d001-4012-8242-ebedcdbe8de4",
   "metadata": {},
   "source": [
    "# Best Models for Housing Price Prediction"
   ]
  },
  {
   "cell_type": "code",
   "execution_count": 478,
   "id": "0d4a2cdc-3141-455d-98ac-540344aad657",
   "metadata": {},
   "outputs": [],
   "source": [
    "import pandas as pd\n",
    "import numpy as np\n",
    "import matplotlib.pyplot as plt\n",
    "import seaborn as sns\n",
    "\n",
    "from sklearn.linear_model import LinearRegression\n",
    "from sklearn import metrics\n",
    "import scipy.stats as stats"
   ]
  },
  {
   "cell_type": "code",
   "execution_count": 479,
   "id": "e7284bb2-3b0c-44a0-a346-8f6320455580",
   "metadata": {},
   "outputs": [],
   "source": [
    "modeling_data = pd.read_csv('../Dataset/bangkok_preprocess.csv')"
   ]
  },
  {
   "cell_type": "code",
   "execution_count": 480,
   "id": "6514d17e-b545-4e27-9ef1-70c3ec1db02e",
   "metadata": {},
   "outputs": [],
   "source": [
    "features = sorted(list(set(modeling_data.columns)-{'price'}))"
   ]
  },
  {
   "cell_type": "code",
   "execution_count": 481,
   "id": "96bbc27d-f5b3-43b5-92b8-ab8de8038052",
   "metadata": {},
   "outputs": [],
   "source": [
    "# Setting Our Features and Targets\n",
    "X = modeling_data[features]\n",
    "y = modeling_data['price']"
   ]
  },
  {
   "cell_type": "code",
   "execution_count": 482,
   "id": "d0072d2c-8a0f-4847-8f57-ca1e79476e3d",
   "metadata": {},
   "outputs": [],
   "source": [
    "from sklearn.model_selection import train_test_split, cross_val_score\n",
    "X_train, X_test, y_train, y_test = train_test_split(X, y,train_size= 0.75 , random_state=42)"
   ]
  },
  {
   "cell_type": "markdown",
   "id": "23daa4d8-1be6-44af-a6e5-4a63da2021d4",
   "metadata": {},
   "source": [
    "---"
   ]
  },
  {
   "cell_type": "markdown",
   "id": "17d3051e-8feb-4e86-aef2-188a85015529",
   "metadata": {},
   "source": [
    "### Model Tuning "
   ]
  },
  {
   "cell_type": "markdown",
   "id": "746bd643-b646-43f2-86ce-d6fdc1c8852e",
   "metadata": {},
   "source": [
    "The best model is **Linear Regression model** selected from [Model_Benchmark](../Code/Model_Benchmark.ipynb)."
   ]
  },
  {
   "cell_type": "code",
   "execution_count": 486,
   "id": "1ea5c488-08b0-4d25-a41a-479a72523e03",
   "metadata": {},
   "outputs": [],
   "source": [
    "lr = LinearRegression()\n",
    "lr.fit(X_train,y_train)\n",
    "train_score = lr.score(X_train,y_train)\n",
    "test_score = lr.score(X_test,y_test)\n",
    "modeling_data['predict_price'] = lr.predict(X)\n",
    "y_preds = modeling_data['predict_price']\n",
    "modeling_data['residuals'] = y - y_preds\n",
    "residuals = modeling_data['residuals']\n",
    "cvs = cross_val_score(lr, X, y, cv = 6)"
   ]
  },
  {
   "cell_type": "code",
   "execution_count": 487,
   "id": "f7ca5ee8-10b8-4c48-a477-3992f40f11fb",
   "metadata": {},
   "outputs": [],
   "source": [
    "# Function for Calculating Adjusted R-Squared\n",
    "def r2_adj(y, y_preds, p):\n",
    "    n = len(y)\n",
    "    r2 = metrics.r2_score(y, y_preds)\n",
    "    return 1 - (1 - r2) * (n - 1) / (n - p - 1)"
   ]
  },
  {
   "cell_type": "code",
   "execution_count": 488,
   "id": "55e3a63f-412e-4129-bb33-ea382502d7f0",
   "metadata": {},
   "outputs": [
    {
     "name": "stdout",
     "output_type": "stream",
     "text": [
      "Regression Metric number the features is: \n",
      "bedrooms, baths, floor_area, province, district, property_type, nearby_stations, nearby_supermarkets, facilities, num_facilities\n",
      "\n",
      "The mean squared error is 1,109,382,202,376.30\n",
      "The root mean squared error is 1,053,272.14\n",
      "The mean absolute error is 768,382.45\n",
      "The R^2 is 0.77\n",
      "Adjusted R^2 = 0.77\n",
      "\n",
      "train score = 0.78\n",
      "test score = 0.74\n",
      "\n",
      "Cross Validation Score cv = 6 : [0.75729726 0.71371282 0.76446576 0.73024996 0.73422346 0.75591775]\n"
     ]
    }
   ],
   "source": [
    "# Function for Calculating Metrics in the Model\n",
    "def king_of_metrics(y, y_preds, p): \n",
    "\n",
    "    mse = metrics.mean_squared_error(y, y_preds)\n",
    "    rmse = metrics.root_mean_squared_error(y, y_preds)\n",
    "    mae = metrics.mean_absolute_error(y, y_preds)\n",
    "    r2 = metrics.r2_score(y, y_preds)\n",
    "    r2a = r2_adj(y, y_preds, p)\n",
    "\n",
    "\n",
    "    print(f\"Regression Metric number the features is: \")\n",
    "    print(f\"bedrooms, baths, floor_area, province, district, property_type, nearby_stations, nearby_supermarkets, facilities, num_facilities\\n\")\n",
    "    print(f\"The mean squared error is {mse:,.2f}\")\n",
    "    print(f\"The root mean squared error is {rmse:,.2f}\")\n",
    "    print(f\"The mean absolute error is {mae:,.2f}\")\n",
    "    print(f\"The R^2 is {r2:,.2f}\")\n",
    "    print(f\"Adjusted R^2 = {r2a:,.2f}\\n\")\n",
    "    print(f\"train score = {train_score:,.2f}\")\n",
    "    print(f\"test score = {test_score:,.2f}\\n\")\n",
    "    print(f\"Cross Validation Score cv = 6 : {cvs}\")\n",
    "king_of_metrics(y,y_preds, 30)"
   ]
  },
  {
   "cell_type": "code",
   "execution_count": 489,
   "id": "b0340442-8fdf-40c3-a80f-f3427bbacadf",
   "metadata": {},
   "outputs": [],
   "source": [
    "Post_model_OLS =  modeling_data[['price','predict_price','residuals']]\n",
    "Post_model_OLS.to_csv('../Dataset/post_ols.csv')"
   ]
  },
  {
   "cell_type": "markdown",
   "id": "34795596-a953-4d57-ac93-8fd05a3ec3f3",
   "metadata": {},
   "source": [
    "---"
   ]
  },
  {
   "cell_type": "markdown",
   "id": "11143177-5232-4d52-98a6-8c9abea0c7fd",
   "metadata": {},
   "source": [
    "# Test Data"
   ]
  },
  {
   "cell_type": "code",
   "execution_count": 492,
   "id": "11ef1c50-62aa-45a1-b3aa-b080dedbb6c9",
   "metadata": {},
   "outputs": [],
   "source": [
    "import warnings\n",
    "from pandas.errors import PerformanceWarning\n",
    "\n",
    "# Ignore PerformanceWarning\n",
    "warnings.filterwarnings(\"ignore\", category=PerformanceWarning)\n"
   ]
  },
  {
   "cell_type": "code",
   "execution_count": 493,
   "id": "4e353838-51c0-42ed-b773-98a7dccf0a7f",
   "metadata": {},
   "outputs": [],
   "source": [
    "bangkok_test = pd.read_csv('../Dataset/test_cleaned.csv')"
   ]
  },
  {
   "cell_type": "code",
   "execution_count": 494,
   "id": "d0642c01-1b60-4a2a-80b0-c1264577fb57",
   "metadata": {
    "scrolled": true
   },
   "outputs": [
    {
     "data": {
      "text/html": [
       "<div>\n",
       "<style scoped>\n",
       "    .dataframe tbody tr th:only-of-type {\n",
       "        vertical-align: middle;\n",
       "    }\n",
       "\n",
       "    .dataframe tbody tr th {\n",
       "        vertical-align: top;\n",
       "    }\n",
       "\n",
       "    .dataframe thead th {\n",
       "        text-align: right;\n",
       "    }\n",
       "</style>\n",
       "<table border=\"1\" class=\"dataframe\">\n",
       "  <thead>\n",
       "    <tr style=\"text-align: right;\">\n",
       "      <th></th>\n",
       "      <th>id</th>\n",
       "      <th>bedrooms</th>\n",
       "      <th>baths</th>\n",
       "      <th>floor_area</th>\n",
       "      <th>nearby_stations</th>\n",
       "      <th>nearby_station_distance</th>\n",
       "      <th>nearby_supermarkets</th>\n",
       "      <th>nearby_shops</th>\n",
       "      <th>num_facilities</th>\n",
       "      <th>station_name</th>\n",
       "      <th>...</th>\n",
       "      <th>floor_area^2</th>\n",
       "      <th>floor_area nearby_stations</th>\n",
       "      <th>floor_area nearby_supermarkets</th>\n",
       "      <th>floor_area num_facilities</th>\n",
       "      <th>nearby_stations^2</th>\n",
       "      <th>nearby_stations nearby_supermarkets</th>\n",
       "      <th>nearby_stations num_facilities</th>\n",
       "      <th>nearby_supermarkets^2</th>\n",
       "      <th>nearby_supermarkets num_facilities</th>\n",
       "      <th>num_facilities^2</th>\n",
       "    </tr>\n",
       "  </thead>\n",
       "  <tbody>\n",
       "    <tr>\n",
       "      <th>0</th>\n",
       "      <td>10317868</td>\n",
       "      <td>4.0</td>\n",
       "      <td>3.0</td>\n",
       "      <td>120</td>\n",
       "      <td>0</td>\n",
       "      <td>0</td>\n",
       "      <td>9.0</td>\n",
       "      <td>5</td>\n",
       "      <td>6</td>\n",
       "      <td>-</td>\n",
       "      <td>...</td>\n",
       "      <td>14400.0</td>\n",
       "      <td>0.0</td>\n",
       "      <td>1080.0</td>\n",
       "      <td>720.0</td>\n",
       "      <td>0.0</td>\n",
       "      <td>0.0</td>\n",
       "      <td>0.0</td>\n",
       "      <td>81.0</td>\n",
       "      <td>54.0</td>\n",
       "      <td>36.0</td>\n",
       "    </tr>\n",
       "    <tr>\n",
       "      <th>1</th>\n",
       "      <td>10885829</td>\n",
       "      <td>4.0</td>\n",
       "      <td>3.0</td>\n",
       "      <td>188</td>\n",
       "      <td>0</td>\n",
       "      <td>0</td>\n",
       "      <td>9.0</td>\n",
       "      <td>5</td>\n",
       "      <td>6</td>\n",
       "      <td>-</td>\n",
       "      <td>...</td>\n",
       "      <td>35344.0</td>\n",
       "      <td>0.0</td>\n",
       "      <td>1692.0</td>\n",
       "      <td>1128.0</td>\n",
       "      <td>0.0</td>\n",
       "      <td>0.0</td>\n",
       "      <td>0.0</td>\n",
       "      <td>81.0</td>\n",
       "      <td>54.0</td>\n",
       "      <td>36.0</td>\n",
       "    </tr>\n",
       "    <tr>\n",
       "      <th>2</th>\n",
       "      <td>10765951</td>\n",
       "      <td>1.0</td>\n",
       "      <td>1.0</td>\n",
       "      <td>22</td>\n",
       "      <td>3</td>\n",
       "      <td>[['BL20 Phra Ram 9 MRT', 270], ['E4 Asok BTS',...</td>\n",
       "      <td>13.0</td>\n",
       "      <td>20</td>\n",
       "      <td>5</td>\n",
       "      <td>Phra Ram 9</td>\n",
       "      <td>...</td>\n",
       "      <td>484.0</td>\n",
       "      <td>66.0</td>\n",
       "      <td>286.0</td>\n",
       "      <td>110.0</td>\n",
       "      <td>9.0</td>\n",
       "      <td>39.0</td>\n",
       "      <td>15.0</td>\n",
       "      <td>169.0</td>\n",
       "      <td>65.0</td>\n",
       "      <td>25.0</td>\n",
       "    </tr>\n",
       "    <tr>\n",
       "      <th>3</th>\n",
       "      <td>10003549</td>\n",
       "      <td>1.0</td>\n",
       "      <td>1.0</td>\n",
       "      <td>41</td>\n",
       "      <td>1</td>\n",
       "      <td>[['E6 Thong Lo BTS', 70]]</td>\n",
       "      <td>16.0</td>\n",
       "      <td>20</td>\n",
       "      <td>6</td>\n",
       "      <td>Thong Lo</td>\n",
       "      <td>...</td>\n",
       "      <td>1681.0</td>\n",
       "      <td>41.0</td>\n",
       "      <td>656.0</td>\n",
       "      <td>246.0</td>\n",
       "      <td>1.0</td>\n",
       "      <td>16.0</td>\n",
       "      <td>6.0</td>\n",
       "      <td>256.0</td>\n",
       "      <td>96.0</td>\n",
       "      <td>36.0</td>\n",
       "    </tr>\n",
       "    <tr>\n",
       "      <th>4</th>\n",
       "      <td>10663026</td>\n",
       "      <td>1.0</td>\n",
       "      <td>1.0</td>\n",
       "      <td>29</td>\n",
       "      <td>0</td>\n",
       "      <td>0</td>\n",
       "      <td>10.0</td>\n",
       "      <td>14</td>\n",
       "      <td>5</td>\n",
       "      <td>-</td>\n",
       "      <td>...</td>\n",
       "      <td>841.0</td>\n",
       "      <td>0.0</td>\n",
       "      <td>290.0</td>\n",
       "      <td>145.0</td>\n",
       "      <td>0.0</td>\n",
       "      <td>0.0</td>\n",
       "      <td>0.0</td>\n",
       "      <td>100.0</td>\n",
       "      <td>50.0</td>\n",
       "      <td>25.0</td>\n",
       "    </tr>\n",
       "  </tbody>\n",
       "</table>\n",
       "<p>5 rows × 164 columns</p>\n",
       "</div>"
      ],
      "text/plain": [
       "         id  bedrooms  baths  floor_area  nearby_stations  \\\n",
       "0  10317868       4.0    3.0         120                0   \n",
       "1  10885829       4.0    3.0         188                0   \n",
       "2  10765951       1.0    1.0          22                3   \n",
       "3  10003549       1.0    1.0          41                1   \n",
       "4  10663026       1.0    1.0          29                0   \n",
       "\n",
       "                             nearby_station_distance  nearby_supermarkets  \\\n",
       "0                                                  0                  9.0   \n",
       "1                                                  0                  9.0   \n",
       "2  [['BL20 Phra Ram 9 MRT', 270], ['E4 Asok BTS',...                 13.0   \n",
       "3                          [['E6 Thong Lo BTS', 70]]                 16.0   \n",
       "4                                                  0                 10.0   \n",
       "\n",
       "   nearby_shops  num_facilities station_name  ...  floor_area^2  \\\n",
       "0             5               6            -  ...       14400.0   \n",
       "1             5               6            -  ...       35344.0   \n",
       "2            20               5   Phra Ram 9  ...         484.0   \n",
       "3            20               6     Thong Lo  ...        1681.0   \n",
       "4            14               5            -  ...         841.0   \n",
       "\n",
       "   floor_area nearby_stations  floor_area nearby_supermarkets  \\\n",
       "0                         0.0                          1080.0   \n",
       "1                         0.0                          1692.0   \n",
       "2                        66.0                           286.0   \n",
       "3                        41.0                           656.0   \n",
       "4                         0.0                           290.0   \n",
       "\n",
       "   floor_area num_facilities  nearby_stations^2  \\\n",
       "0                      720.0                0.0   \n",
       "1                     1128.0                0.0   \n",
       "2                      110.0                9.0   \n",
       "3                      246.0                1.0   \n",
       "4                      145.0                0.0   \n",
       "\n",
       "   nearby_stations nearby_supermarkets  nearby_stations num_facilities  \\\n",
       "0                                  0.0                             0.0   \n",
       "1                                  0.0                             0.0   \n",
       "2                                 39.0                            15.0   \n",
       "3                                 16.0                             6.0   \n",
       "4                                  0.0                             0.0   \n",
       "\n",
       "   nearby_supermarkets^2  nearby_supermarkets num_facilities  num_facilities^2  \n",
       "0                   81.0                                54.0              36.0  \n",
       "1                   81.0                                54.0              36.0  \n",
       "2                  169.0                                65.0              25.0  \n",
       "3                  256.0                                96.0              36.0  \n",
       "4                  100.0                                50.0              25.0  \n",
       "\n",
       "[5 rows x 164 columns]"
      ]
     },
     "execution_count": 494,
     "metadata": {},
     "output_type": "execute_result"
    }
   ],
   "source": [
    "bangkok_test.head()"
   ]
  },
  {
   "cell_type": "code",
   "execution_count": 495,
   "id": "7eab72d1-2b8f-469d-9d81-49296f77f09d",
   "metadata": {},
   "outputs": [],
   "source": [
    "# Get all columns to features except price\n",
    "test_features = list(set(bangkok_test.columns)-{'price'})"
   ]
  },
  {
   "cell_type": "code",
   "execution_count": 496,
   "id": "13880e45-e924-4991-a595-b291bf531238",
   "metadata": {},
   "outputs": [],
   "source": [
    "# # Check the columns to match the features in the training data and add a 'False' value in a new column\n",
    "features_add = list(set(features) - set(test_features))\n",
    "test_features = sorted(test_features + features_add)\n",
    "bangkok_test[features_add] = False"
   ]
  },
  {
   "cell_type": "code",
   "execution_count": 497,
   "id": "e574589a-63aa-41ba-9834-73859846940a",
   "metadata": {},
   "outputs": [],
   "source": [
    "# Write a Function to Input Data into an Already Trained Model\n",
    "def predict_test_model(features,data):\n",
    "    X = data[features]\n",
    "    X = X.copy()\n",
    "    data['price'] = lr.predict(X)\n",
    "    # If the predicted value is negative, it will be turned to 0.\n",
    "    data['price'] = np.where(data['price'] < 0, 0, data['price'])\n",
    "\n",
    "    return data[['id','price']]\n",
    "\n",
    "test_predicted_price = predict_test_model(features,bangkok_test)"
   ]
  },
  {
   "cell_type": "code",
   "execution_count": 498,
   "id": "d39723aa-083d-49a1-872d-ee201d8a3f09",
   "metadata": {},
   "outputs": [],
   "source": [
    "test_predicted_price.to_csv('../Dataset/test_predict_price.csv', index = False)"
   ]
  }
 ],
 "metadata": {
  "kernelspec": {
   "display_name": "Python 3 (ipykernel)",
   "language": "python",
   "name": "python3"
  },
  "language_info": {
   "codemirror_mode": {
    "name": "ipython",
    "version": 3
   },
   "file_extension": ".py",
   "mimetype": "text/x-python",
   "name": "python",
   "nbconvert_exporter": "python",
   "pygments_lexer": "ipython3",
   "version": "3.12.4"
  }
 },
 "nbformat": 4,
 "nbformat_minor": 5
}
