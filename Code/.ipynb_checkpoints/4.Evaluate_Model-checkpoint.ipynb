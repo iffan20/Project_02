{
 "cells": [
  {
   "cell_type": "markdown",
   "id": "7053538d-d001-4012-8242-ebedcdbe8de4",
   "metadata": {},
   "source": [
    "# Modeling for Housing Price Prediction\n",
    "---"
   ]
  },
  {
   "cell_type": "markdown",
   "id": "00a6c15c-719c-4d08-b285-6d4237e86e13",
   "metadata": {},
   "source": [
    "After model benchmarks, we found the best model that give most closer picked by RMSC value among `OLS`, `Regularization`, `Ridge`, `Lasso`, `ElasticNet`, `Robust Regression`, `TheilSen`, `RANSAC` , `Huber` is OLS from [**model_benchmarks**](./Code/3.Model_Benchmarks.ipynb) notebook"
   ]
  },
  {
   "cell_type": "code",
   "execution_count": 466,
   "id": "0d4a2cdc-3141-455d-98ac-540344aad657",
   "metadata": {},
   "outputs": [],
   "source": [
    "import pandas as pd\n",
    "import numpy as np\n",
    "import matplotlib.pyplot as plt\n",
    "import seaborn as sns\n",
    "\n",
    "from sklearn.linear_model import LinearRegression\n",
    "from sklearn import metrics\n",
    "import scipy.stats as stats\n",
    "from sklearn.preprocessing import StandardScaler\n"
   ]
  },
  {
   "cell_type": "code",
   "execution_count": 467,
   "id": "e7284bb2-3b0c-44a0-a346-8f6320455580",
   "metadata": {},
   "outputs": [],
   "source": [
    "modeling_data = pd.read_csv('../Datasets/bangkok_preprocess.csv')"
   ]
  },
  {
   "cell_type": "code",
   "execution_count": 468,
   "id": "6514d17e-b545-4e27-9ef1-70c3ec1db02e",
   "metadata": {},
   "outputs": [],
   "source": [
    "features = sorted(list(set(modeling_data.columns)-{'price'}))"
   ]
  },
  {
   "cell_type": "code",
   "execution_count": 469,
   "id": "96bbc27d-f5b3-43b5-92b8-ab8de8038052",
   "metadata": {},
   "outputs": [],
   "source": [
    "# Setting Our Features and Targets\n",
    "X = modeling_data[features]\n",
    "y = modeling_data['price']"
   ]
  },
  {
   "cell_type": "code",
   "execution_count": 470,
   "id": "d0072d2c-8a0f-4847-8f57-ca1e79476e3d",
   "metadata": {},
   "outputs": [],
   "source": [
    "from sklearn.model_selection import train_test_split, cross_val_score\n",
    "X_train, X_test, y_train, y_test = train_test_split(X, y,train_size= 0.75 , random_state=42)"
   ]
  },
  {
   "cell_type": "markdown",
   "id": "23daa4d8-1be6-44af-a6e5-4a63da2021d4",
   "metadata": {},
   "source": [
    "---"
   ]
  },
  {
   "cell_type": "markdown",
   "id": "17d3051e-8feb-4e86-aef2-188a85015529",
   "metadata": {},
   "source": [
    "### Model Tuning "
   ]
  },
  {
   "cell_type": "code",
   "execution_count": 473,
   "id": "1ea5c488-08b0-4d25-a41a-479a72523e03",
   "metadata": {},
   "outputs": [],
   "source": [
    "lr = LinearRegression()\n",
    "lr.fit(X_train,y_train)\n",
    "train_score = lr.score(X_train,y_train)\n",
    "test_score = lr.score(X_test,y_test)\n",
    "modeling_data['predict_price'] = lr.predict(X)\n",
    "y_preds = modeling_data['predict_price']\n",
    "modeling_data['residuals'] = y - y_preds\n",
    "residuals = modeling_data['residuals']\n",
    "cvs = cross_val_score(lr, X, y, cv = 6)"
   ]
  },
  {
   "cell_type": "code",
   "execution_count": 474,
   "id": "f7ca5ee8-10b8-4c48-a477-3992f40f11fb",
   "metadata": {},
   "outputs": [],
   "source": [
    "# Function for Calculating Adjusted R-Squared\n",
    "def r2_adj(y, y_preds, p):\n",
    "    n = len(y)\n",
    "    r2 = metrics.r2_score(y, y_preds)\n",
    "    return 1 - (1 - r2) * (n - 1) / (n - p - 1)"
   ]
  },
  {
   "cell_type": "code",
   "execution_count": 475,
   "id": "55e3a63f-412e-4129-bb33-ea382502d7f0",
   "metadata": {},
   "outputs": [
    {
     "name": "stdout",
     "output_type": "stream",
     "text": [
      "Regression Metric number the features is: \n",
      "bedrooms, baths, floor_area, province, district, property_type, nearby_stations, nearby_supermarkets, facilities, num_facilities\n",
      "\n",
      "The mean squared error is 1,148,328,651,103.89\n",
      "The root mean squared error is 1,071,600.98\n",
      "The mean absolute error is 787,031.07\n",
      "The R^2 is 0.76\n",
      "Adjusted R^2 = 0.76\n",
      "\n",
      "train score = 0.77\n",
      "test score = 0.73\n",
      "\n",
      "Cross Validation Score cv = 6 : [0.75458932 0.71583425 0.75980077 0.73203428 0.7292449  0.76168506]\n"
     ]
    }
   ],
   "source": [
    "# Function for Calculating Metrics in the Model\n",
    "def king_of_metrics(y, y_preds, p): \n",
    "\n",
    "    mse = metrics.mean_squared_error(y, y_preds)\n",
    "    rmse = metrics.root_mean_squared_error(y, y_preds)\n",
    "    mae = metrics.mean_absolute_error(y, y_preds)\n",
    "    r2 = metrics.r2_score(y, y_preds)\n",
    "    r2a = r2_adj(y, y_preds, p)\n",
    "\n",
    "\n",
    "    print(f\"Regression Metric number the features is: \")\n",
    "    print(f\"bedrooms, baths, floor_area, province, district, property_type, nearby_stations, nearby_supermarkets, facilities, num_facilities\\n\")\n",
    "    print(f\"The mean squared error is {mse:,.2f}\")\n",
    "    print(f\"The root mean squared error is {rmse:,.2f}\")\n",
    "    print(f\"The mean absolute error is {mae:,.2f}\")\n",
    "    print(f\"The R^2 is {r2:,.2f}\")\n",
    "    print(f\"Adjusted R^2 = {r2a:,.2f}\\n\")\n",
    "    print(f\"train score = {train_score:,.2f}\")\n",
    "    print(f\"test score = {test_score:,.2f}\\n\")\n",
    "    print(f\"Cross Validation Score cv = 6 : {cvs}\")\n",
    "king_of_metrics(y,y_preds, 30)"
   ]
  },
  {
   "cell_type": "markdown",
   "id": "34795596-a953-4d57-ac93-8fd05a3ec3f3",
   "metadata": {},
   "source": [
    "---"
   ]
  },
  {
   "cell_type": "markdown",
   "id": "11143177-5232-4d52-98a6-8c9abea0c7fd",
   "metadata": {},
   "source": [
    "# Test Data"
   ]
  },
  {
   "cell_type": "code",
   "execution_count": 478,
   "id": "11ef1c50-62aa-45a1-b3aa-b080dedbb6c9",
   "metadata": {},
   "outputs": [],
   "source": [
    "import warnings\n",
    "from pandas.errors import PerformanceWarning\n",
    "\n",
    "# Ignore PerformanceWarning\n",
    "warnings.filterwarnings(\"ignore\", category=PerformanceWarning)"
   ]
  },
  {
   "cell_type": "code",
   "execution_count": 479,
   "id": "4e353838-51c0-42ed-b773-98a7dccf0a7f",
   "metadata": {},
   "outputs": [],
   "source": [
    "bangkok_test = pd.read_csv('../Datasets/test_preprocess.csv')"
   ]
  },
  {
   "cell_type": "code",
   "execution_count": 480,
   "id": "7eab72d1-2b8f-469d-9d81-49296f77f09d",
   "metadata": {},
   "outputs": [],
   "source": [
    "# Get all columns to features except price\n",
    "test_features = list(set(bangkok_test.columns)-{'price'})"
   ]
  },
  {
   "cell_type": "code",
   "execution_count": 481,
   "id": "13880e45-e924-4991-a595-b291bf531238",
   "metadata": {},
   "outputs": [],
   "source": [
    "# # Check the columns to match the features in the training data and add a 'False' value in a new column\n",
    "features_add = list(set(features) - set(test_features))\n",
    "test_features = sorted(test_features + features_add)\n",
    "bangkok_test[features_add] = False"
   ]
  },
  {
   "cell_type": "code",
   "execution_count": 482,
   "id": "e574589a-63aa-41ba-9834-73859846940a",
   "metadata": {},
   "outputs": [],
   "source": [
    "# Write a Function to Input Data into an Already Trained Model\n",
    "def predict_test_model(features,data):\n",
    "    X = data[features]\n",
    "    X = X.copy()\n",
    "    data['price'] = lr.predict(X)\n",
    "\n",
    "    return data[['id','price']]\n",
    "\n",
    "submit_on_kaggle = predict_test_model(features,bangkok_test)"
   ]
  },
  {
   "cell_type": "code",
   "execution_count": 483,
   "id": "d39723aa-083d-49a1-872d-ee201d8a3f09",
   "metadata": {},
   "outputs": [],
   "source": [
    "submit_on_kaggle.to_csv('../Datasets/test_predict_price.csv', index = False)"
   ]
  },
  {
   "cell_type": "markdown",
   "id": "4276c1a7-11c9-4fb3-8085-095111850e41",
   "metadata": {},
   "source": [
    "---"
   ]
  },
  {
   "cell_type": "markdown",
   "id": "a985c012-e946-4db1-80de-be01daf579c2",
   "metadata": {},
   "source": [
    "# Presentation Material Support"
   ]
  },
  {
   "cell_type": "code",
   "execution_count": 486,
   "id": "c8d9db6b-74b5-44a5-9a37-116a96233fd3",
   "metadata": {},
   "outputs": [],
   "source": [
    "coef = pd.DataFrame({'Feature': X.columns, 'Coefficient': lr.coef_})"
   ]
  },
  {
   "cell_type": "markdown",
   "id": "639a0e85-3c6e-4616-b0f9-5bcd0a76ccf2",
   "metadata": {},
   "source": [
    "---"
   ]
  },
  {
   "cell_type": "code",
   "execution_count": 488,
   "id": "46f9c330-6346-4ba3-bde2-23d8a27ad858",
   "metadata": {
    "scrolled": true
   },
   "outputs": [],
   "source": [
    "station_coef = coef[coef['Feature'].str.contains('MRT|BTS')].sort_values(by='Coefficient', ascending=True)\n",
    "station_coef['Coefficient'] = station_coef['Coefficient'] *-100\n",
    "station_coef['Feature'] = station_coef['Feature'].str.replace('stat_','')"
   ]
  },
  {
   "cell_type": "code",
   "execution_count": 489,
   "id": "1303e040-4327-4ed3-9dc8-13a8d91e6c29",
   "metadata": {},
   "outputs": [],
   "source": [
    "get_district = pd.read_csv('../Datasets/bangkok_cleaned.csv')"
   ]
  },
  {
   "cell_type": "markdown",
   "id": "6970e075-b075-47c3-aea2-9d9ac7c782c3",
   "metadata": {},
   "source": [
    "### 1. Top 5 Stations with the Strongest Influence on Housing Prices"
   ]
  },
  {
   "cell_type": "code",
   "execution_count": 491,
   "id": "94539bb2-b924-4120-bd78-64b32106088d",
   "metadata": {},
   "outputs": [],
   "source": [
    "station_samples = get_district.groupby('station_name').size().reset_index(name='count')\n",
    "station_coef_sample = pd.merge(station_coef,station_samples, left_on= 'Feature', right_on= 'station_name')"
   ]
  },
  {
   "cell_type": "code",
   "execution_count": 492,
   "id": "e2482fd7-29c0-4db9-9d4b-b9d9aa769e7e",
   "metadata": {},
   "outputs": [
    {
     "data": {
      "text/plain": [
       "(1.8106857695393013, 42.0, 60.132075471698116)"
      ]
     },
     "execution_count": 492,
     "metadata": {},
     "output_type": "execute_result"
    }
   ],
   "source": [
    "station_coef_sample['count'].skew(), station_coef_sample['count'].median(),station_coef_sample['count'].mean()"
   ]
  },
  {
   "cell_type": "code",
   "execution_count": 493,
   "id": "3ad15927-28cf-4248-8b22-ef189920732e",
   "metadata": {},
   "outputs": [
    {
     "data": {
      "text/html": [
       "<div>\n",
       "<style scoped>\n",
       "    .dataframe tbody tr th:only-of-type {\n",
       "        vertical-align: middle;\n",
       "    }\n",
       "\n",
       "    .dataframe tbody tr th {\n",
       "        vertical-align: top;\n",
       "    }\n",
       "\n",
       "    .dataframe thead th {\n",
       "        text-align: right;\n",
       "    }\n",
       "</style>\n",
       "<table border=\"1\" class=\"dataframe\">\n",
       "  <thead>\n",
       "    <tr style=\"text-align: right;\">\n",
       "      <th></th>\n",
       "      <th>Coefficient</th>\n",
       "      <th>station_name</th>\n",
       "      <th>count</th>\n",
       "      <th>line</th>\n",
       "    </tr>\n",
       "  </thead>\n",
       "  <tbody>\n",
       "    <tr>\n",
       "      <th>1</th>\n",
       "      <td>353424.557278</td>\n",
       "      <td>Phetchaburi</td>\n",
       "      <td>46</td>\n",
       "      <td>MRT</td>\n",
       "    </tr>\n",
       "    <tr>\n",
       "      <th>4</th>\n",
       "      <td>312668.215063</td>\n",
       "      <td>Sam Yan</td>\n",
       "      <td>97</td>\n",
       "      <td>MRT</td>\n",
       "    </tr>\n",
       "    <tr>\n",
       "      <th>7</th>\n",
       "      <td>282390.978692</td>\n",
       "      <td>Nana</td>\n",
       "      <td>53</td>\n",
       "      <td>BTS</td>\n",
       "    </tr>\n",
       "    <tr>\n",
       "      <th>8</th>\n",
       "      <td>267761.396049</td>\n",
       "      <td>Phra Khanong</td>\n",
       "      <td>209</td>\n",
       "      <td>BTS</td>\n",
       "    </tr>\n",
       "    <tr>\n",
       "      <th>9</th>\n",
       "      <td>263751.493426</td>\n",
       "      <td>Phetkasem 48</td>\n",
       "      <td>51</td>\n",
       "      <td>MRT</td>\n",
       "    </tr>\n",
       "  </tbody>\n",
       "</table>\n",
       "</div>"
      ],
      "text/plain": [
       "     Coefficient  station_name  count line\n",
       "1  353424.557278   Phetchaburi     46  MRT\n",
       "4  312668.215063       Sam Yan     97  MRT\n",
       "7  282390.978692          Nana     53  BTS\n",
       "8  267761.396049  Phra Khanong    209  BTS\n",
       "9  263751.493426  Phetkasem 48     51  MRT"
      ]
     },
     "execution_count": 493,
     "metadata": {},
     "output_type": "execute_result"
    }
   ],
   "source": [
    "station_coef_sample = station_coef_sample[station_coef_sample['count'] >= 42].head(5)\n",
    "station_coef_sample['line'] = station_coef_sample['station_name'].apply(lambda x: x.split(' ')[-1] if isinstance(x, str) else x)\n",
    "station_coef_sample['station_name'] = station_coef_sample['station_name'].apply(lambda x:  ' '.join(x.split(' ')[:-1]) if isinstance(x, str) else x)\n",
    "station_coef_sample.drop(columns = 'Feature')"
   ]
  },
  {
   "cell_type": "code",
   "execution_count": 494,
   "id": "b3d977c7-3583-408a-8e62-14deb74112f3",
   "metadata": {},
   "outputs": [
    {
     "data": {
      "image/png": "[encoded data removed]",
      "text/plain": [
       "<Figure size 640x480 with 1 Axes>"
      ]
     },
     "metadata": {},
     "output_type": "display_data"
    }
   ],
   "source": [
    "# Modify the coefficient values to be positive for plotting\n",
    "top5_station_plot = station_coef_sample.copy()\n",
    "\n",
    "# Define colors for each line type and create a color mapping for the plot\n",
    "top5_station_plot['color'] = top5_station_plot['line'].apply(lambda x: '#8ac926' if x == 'BTS' else '#1982c4')\n",
    "\n",
    "# Create the bar plot with colors based on line types\n",
    "bars = plt.bar(x=top5_station_plot['station_name'], height=top5_station_plot['Coefficient'], color=top5_station_plot['color'])\n",
    "\n",
    "# Labeling and formatting\n",
    "plt.xlabel(\"Station\", fontsize=8)\n",
    "plt.ylabel(\"Price (Bath) / 100m Closer\", fontsize=8, rotation=90, labelpad=10)\n",
    "plt.title(\"Top 5 District having  Average of Stations with the Strongest Influence on Housing Prices\", fontsize=10)\n",
    "plt.xticks(rotation=0, fontsize=6)\n",
    "\n",
    "# Create a custom legend for line colors\n",
    "from matplotlib.patches import Patch\n",
    "legend_elements = [Patch(facecolor='#8ac926', label='BTS'), \n",
    "                   Patch(facecolor='#1982c4', label='MRT')]\n",
    "plt.legend(handles=legend_elements, title=\"Line Type\", fontsize=6, title_fontsize='8')\n",
    "\n",
    "# Save and show the plot\n",
    "plt.tight_layout()\n",
    "plt.savefig('../Figures/top_5_stations.png', dpi=200)\n",
    "plt.show()\n"
   ]
  },
  {
   "cell_type": "code",
   "execution_count": null,
   "id": "8de5c3ac-7bde-48c5-9c9a-6a18ecd02918",
   "metadata": {},
   "outputs": [],
   "source": []
  },
  {
   "cell_type": "code",
   "execution_count": null,
   "id": "df0ef12e-fa05-435d-88f4-fc63eec4b7f5",
   "metadata": {},
   "outputs": [],
   "source": []
  },
  {
   "cell_type": "code",
   "execution_count": 496,
   "id": "697f28b9-4262-4559-851f-51d4157992ce",
   "metadata": {},
   "outputs": [
    {
     "data": {
      "text/plain": [
       "(0.7668694396070224, 4.282051282051282, 4.0)"
      ]
     },
     "execution_count": 496,
     "metadata": {},
     "output_type": "execute_result"
    }
   ],
   "source": [
    "dis_sample = get_district.groupby(['district','station_name']).size().reset_index(name='count')\n",
    "\n",
    "station_coef_sample = pd.merge(station_coef,dis_sample, left_on= 'Feature', right_on= 'station_name')\n",
    "district_station_coef = station_coef_sample.groupby('district')['Coefficient'].agg(['mean', 'count']).sort_values(by='mean',ascending = False).reset_index()\n",
    "district_station_coef['count'].skew(), district_station_coef['count'].mean(),district_station_coef['count'].median()"
   ]
  },
  {
   "cell_type": "code",
   "execution_count": 497,
   "id": "d52a604e-00e7-46ce-aa1d-d1186cf23622",
   "metadata": {},
   "outputs": [
    {
     "data": {
      "text/html": [
       "<div>\n",
       "<style scoped>\n",
       "    .dataframe tbody tr th:only-of-type {\n",
       "        vertical-align: middle;\n",
       "    }\n",
       "\n",
       "    .dataframe tbody tr th {\n",
       "        vertical-align: top;\n",
       "    }\n",
       "\n",
       "    .dataframe thead th {\n",
       "        text-align: right;\n",
       "    }\n",
       "</style>\n",
       "<table border=\"1\" class=\"dataframe\">\n",
       "  <thead>\n",
       "    <tr style=\"text-align: right;\">\n",
       "      <th></th>\n",
       "      <th>district</th>\n",
       "      <th>mean</th>\n",
       "      <th>count</th>\n",
       "    </tr>\n",
       "  </thead>\n",
       "  <tbody>\n",
       "    <tr>\n",
       "      <th>2</th>\n",
       "      <td>Pathum Wan</td>\n",
       "      <td>186002.906679</td>\n",
       "      <td>7</td>\n",
       "    </tr>\n",
       "    <tr>\n",
       "      <th>6</th>\n",
       "      <td>Mueang Nonthaburi</td>\n",
       "      <td>125622.894633</td>\n",
       "      <td>10</td>\n",
       "    </tr>\n",
       "    <tr>\n",
       "      <th>8</th>\n",
       "      <td>Chatuchak</td>\n",
       "      <td>110760.121317</td>\n",
       "      <td>12</td>\n",
       "    </tr>\n",
       "    <tr>\n",
       "      <th>9</th>\n",
       "      <td>Phasi Charoen</td>\n",
       "      <td>108130.473007</td>\n",
       "      <td>5</td>\n",
       "    </tr>\n",
       "    <tr>\n",
       "      <th>10</th>\n",
       "      <td>Ratchathewi</td>\n",
       "      <td>107439.674220</td>\n",
       "      <td>7</td>\n",
       "    </tr>\n",
       "  </tbody>\n",
       "</table>\n",
       "</div>"
      ],
      "text/plain": [
       "             district           mean  count\n",
       "2          Pathum Wan  186002.906679      7\n",
       "6   Mueang Nonthaburi  125622.894633     10\n",
       "8           Chatuchak  110760.121317     12\n",
       "9       Phasi Charoen  108130.473007      5\n",
       "10        Ratchathewi  107439.674220      7"
      ]
     },
     "execution_count": 497,
     "metadata": {},
     "output_type": "execute_result"
    }
   ],
   "source": [
    "top5_district_station_coef = district_station_coef.sort_values(by = 'mean',ascending = False)\n",
    "top5_district_station_coef = district_station_coef[district_station_coef['count'] >=4].head(5)\n",
    "top5_district_station_coef"
   ]
  },
  {
   "cell_type": "code",
   "execution_count": 498,
   "id": "e3175ac4-ef60-47c7-86be-3afb18e11034",
   "metadata": {},
   "outputs": [
    {
     "data": {
      "image/png": "[encoded data removed]",
      "text/plain": [
       "<Figure size 800x600 with 1 Axes>"
      ]
     },
     "metadata": {},
     "output_type": "display_data"
    }
   ],
   "source": [
    "# Modify the coefficient values to be positive for plotting\n",
    "top5_station_plot = top5_district_station_coef.copy()\n",
    "top5_station_plot['mean'] = top5_station_plot['mean'].abs()  # Ensuring positive values for plotting\n",
    "\n",
    "# Define the Viridis color palette\n",
    "color_palette = sns.color_palette(\"viridis\", len(top5_station_plot))\n",
    "\n",
    "# Create the bar plot with colors based on the Viridis palette\n",
    "plt.figure(figsize=(8, 6))\n",
    "bars = plt.bar(\n",
    "    x=top5_station_plot['district'], \n",
    "    height=top5_station_plot['mean'], \n",
    "    color=color_palette\n",
    ")\n",
    "\n",
    "# Labeling and formatting\n",
    "plt.xlabel(\"Station\", fontsize=8)\n",
    "plt.ylabel(\"Price (Baht) / 100m Closer\", fontsize=8, rotation=90, labelpad=10)\n",
    "plt.title(\"Top 5 Stations Affecting Housing Price\", fontsize=10)\n",
    "plt.xticks(rotation=0, fontsize=8)\n",
    "\n",
    "# Save and show the plot\n",
    "plt.tight_layout()\n",
    "plt.savefig('../Figures/top_5_stations.png', dpi=200)\n",
    "plt.show()"
   ]
  },
  {
   "cell_type": "markdown",
   "id": "220e2871-c32a-463e-8021-46f38330d1dd",
   "metadata": {},
   "source": [
    "---"
   ]
  },
  {
   "cell_type": "markdown",
   "id": "5673db0f-d109-4765-8e98-1ebc77ec7875",
   "metadata": {},
   "source": [
    "### 2. Stations near Ha Yaek Lat Phrao station"
   ]
  },
  {
   "cell_type": "code",
   "execution_count": 535,
   "id": "4ce4102f-a63c-457d-8709-981d88b5a9e3",
   "metadata": {},
   "outputs": [
    {
     "data": {
      "text/html": [
       "<div>\n",
       "<style scoped>\n",
       "    .dataframe tbody tr th:only-of-type {\n",
       "        vertical-align: middle;\n",
       "    }\n",
       "\n",
       "    .dataframe tbody tr th {\n",
       "        vertical-align: top;\n",
       "    }\n",
       "\n",
       "    .dataframe thead th {\n",
       "        text-align: right;\n",
       "    }\n",
       "</style>\n",
       "<table border=\"1\" class=\"dataframe\">\n",
       "  <thead>\n",
       "    <tr style=\"text-align: right;\">\n",
       "      <th></th>\n",
       "      <th>line</th>\n",
       "      <th>station_name</th>\n",
       "      <th>Coefficient</th>\n",
       "    </tr>\n",
       "  </thead>\n",
       "  <tbody>\n",
       "    <tr>\n",
       "      <th>1</th>\n",
       "      <td>BTS</td>\n",
       "      <td>Mo Chit</td>\n",
       "      <td>305732.411350</td>\n",
       "    </tr>\n",
       "    <tr>\n",
       "      <th>3</th>\n",
       "      <td>BTS</td>\n",
       "      <td>Saphan Kwai</td>\n",
       "      <td>260838.865520</td>\n",
       "    </tr>\n",
       "    <tr>\n",
       "      <th>4</th>\n",
       "      <td>BTS</td>\n",
       "      <td>Sena Nikhom</td>\n",
       "      <td>223722.658562</td>\n",
       "    </tr>\n",
       "    <tr>\n",
       "      <th>0</th>\n",
       "      <td>BTS</td>\n",
       "      <td>Ha Yaek Lat Phrao</td>\n",
       "      <td>183238.607781</td>\n",
       "    </tr>\n",
       "    <tr>\n",
       "      <th>8</th>\n",
       "      <td>MRT</td>\n",
       "      <td>Phahon Yothin</td>\n",
       "      <td>172544.051679</td>\n",
       "    </tr>\n",
       "    <tr>\n",
       "      <th>9</th>\n",
       "      <td>MRT</td>\n",
       "      <td>Ratchadaphisek</td>\n",
       "      <td>117635.790254</td>\n",
       "    </tr>\n",
       "    <tr>\n",
       "      <th>10</th>\n",
       "      <td>MRT</td>\n",
       "      <td>Sutthisan</td>\n",
       "      <td>81205.604101</td>\n",
       "    </tr>\n",
       "    <tr>\n",
       "      <th>7</th>\n",
       "      <td>MRT</td>\n",
       "      <td>Lat Phrao</td>\n",
       "      <td>64026.063271</td>\n",
       "    </tr>\n",
       "    <tr>\n",
       "      <th>2</th>\n",
       "      <td>BTS</td>\n",
       "      <td>Ratchayothin</td>\n",
       "      <td>57358.334621</td>\n",
       "    </tr>\n",
       "    <tr>\n",
       "      <th>5</th>\n",
       "      <td>MRT</td>\n",
       "      <td>Chatuchak Park</td>\n",
       "      <td>57024.464070</td>\n",
       "    </tr>\n",
       "    <tr>\n",
       "      <th>6</th>\n",
       "      <td>MRT</td>\n",
       "      <td>Kamphaeng Phet</td>\n",
       "      <td>35157.500004</td>\n",
       "    </tr>\n",
       "  </tbody>\n",
       "</table>\n",
       "</div>"
      ],
      "text/plain": [
       "   line       station_name    Coefficient\n",
       "1   BTS            Mo Chit  305732.411350\n",
       "3   BTS        Saphan Kwai  260838.865520\n",
       "4   BTS        Sena Nikhom  223722.658562\n",
       "0   BTS  Ha Yaek Lat Phrao  183238.607781\n",
       "8   MRT      Phahon Yothin  172544.051679\n",
       "9   MRT     Ratchadaphisek  117635.790254\n",
       "10  MRT          Sutthisan   81205.604101\n",
       "7   MRT          Lat Phrao   64026.063271\n",
       "2   BTS       Ratchayothin   57358.334621\n",
       "5   MRT     Chatuchak Park   57024.464070\n",
       "6   MRT     Kamphaeng Phet   35157.500004"
      ]
     },
     "execution_count": 535,
     "metadata": {},
     "output_type": "execute_result"
    }
   ],
   "source": [
    "latprao = station_coef_sample.copy()\n",
    "latprao['line'] = latprao['station_name'].apply(lambda x: x.split(' ')[-1] if isinstance(x, str) else x)\n",
    "latprao['station_name'] = latprao['station_name'].apply(lambda x:  ' '.join(x.split(' ')[:-1]) if isinstance(x, str) else x)\n",
    "latprao = latprao[latprao['station_name'].isin(['Phahon Yothin', 'Sena Nikhom', 'Mo Chit', 'Ratchayothin', 'Lat Phrao', \n",
    "                                                 'Ratchadaphisek','Chatuchak Park', 'Kamphaeng Phet', 'Sutthisan', 'Saphan Kwai','Ha Yaek Lat Phrao'])]\n",
    "latprao = latprao.groupby(['line','station_name'])['Coefficient'].mean().reset_index(name = 'Coefficient')\n",
    "latprao = latprao.sort_values(by = 'Coefficient', ascending = False)\n",
    "latprao"
   ]
  },
  {
   "cell_type": "code",
   "execution_count": 537,
   "id": "307faef4-643d-4027-9a17-836e95dd54b3",
   "metadata": {},
   "outputs": [
    {
     "data": {
      "image/png": "[encoded data removed]",
      "text/plain": [
       "<Figure size 1200x600 with 1 Axes>"
      ]
     },
     "metadata": {},
     "output_type": "display_data"
    }
   ],
   "source": [
    "# Define colors for each line type and create a color mapping for the plot\n",
    "latprao['color'] = latprao['line'].apply(lambda x: '#8ac926' if x == 'BTS' else '#1982c4')\n",
    "\n",
    "plt.figure(figsize=(12,6))\n",
    "\n",
    "# Create the bar plot with colors based on line types\n",
    "bars = plt.bar(x=latprao['station_name'], height=latprao['Coefficient'], color=latprao['color'])\n",
    "\n",
    "# Add data labels above each bar, formatted as integer with commas\n",
    "for bar, coeff in zip(bars, Chatuchak['Coefficient']):\n",
    "    plt.text(\n",
    "        bar.get_x() + bar.get_width() / 2,   \n",
    "        bar.get_height() - 12000,             \n",
    "        f'{coeff:,.0f}',                     \n",
    "        ha='center',                         \n",
    "        va='bottom',                         \n",
    "        fontsize=8,                          \n",
    "        color='black',\n",
    "        weight='bold'\n",
    "    )\n",
    "\n",
    "# Labeling and formatting\n",
    "plt.xlabel(\"Station\", fontsize=8)\n",
    "plt.ylabel(\"Price (Baht) / 100m Closer\", fontsize=8, rotation=90, labelpad=10)\n",
    "plt.title(\"Stations near Ha Yaek Lat Phrao station\", fontsize=10)\n",
    "plt.xticks(rotation=0, fontsize=6)\n",
    "\n",
    "# Create a custom legend for line colors\n",
    "from matplotlib.patches import Patch\n",
    "legend_elements = [Patch(facecolor='#8ac926', label='BTS'), \n",
    "                   Patch(facecolor='#1982c4', label='MRT')]\n",
    "plt.legend(handles=legend_elements, title=\"Line Type\", fontsize=6, title_fontsize='8')\n",
    "\n",
    "# Save and show the plot\n",
    "plt.tight_layout()\n",
    "plt.savefig('../Figures/stations_in_Chatuchak.png', dpi=300)\n",
    "plt.show()\n"
   ]
  }
 ],
 "metadata": {
  "kernelspec": {
   "display_name": "Python 3 (ipykernel)",
   "language": "python",
   "name": "python3"
  },
  "language_info": {
   "codemirror_mode": {
    "name": "ipython",
    "version": 3
   },
   "file_extension": ".py",
   "mimetype": "text/x-python",
   "name": "python",
   "nbconvert_exporter": "python",
   "pygments_lexer": "ipython3",
   "version": "3.12.4"
  }
 },
 "nbformat": 4,
 "nbformat_minor": 5
}
