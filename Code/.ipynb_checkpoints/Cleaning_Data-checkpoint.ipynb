{
 "cells": [
  {
   "cell_type": "markdown",
   "id": "70bc9086-7db5-406a-9aba-df06c27fd6c1",
   "metadata": {},
   "source": [
    "#  Exploratory Data Analysis\n",
    "---"
   ]
  },
  {
   "cell_type": "markdown",
   "id": "a80c7735-d7eb-4dc0-97c3-0a23a7905723",
   "metadata": {},
   "source": [
    "### 1. Exploring overview of the Train data\n",
    "\n",
    "- Import Libraries: Load the necessary libraries for data analysis and visualization.\n",
    "  \n",
    "- Check Data Types: Verify the data types of each column in the dataset.\n",
    "  \n",
    "- Check Dimensions: Determine the shape (rows and columns) of the dataset.\n",
    "  \n",
    "- Summary Statistics: View a summary of basic statistics for each column in the dataset.\n",
    "  \n",
    "- Check Missing Values: Identify any missing values in each column of the dataset."
   ]
  },
  {
   "cell_type": "markdown",
   "id": "6196112a-82e5-4bbd-80cc-f18e5a4f1e8a",
   "metadata": {},
   "source": [
    "### 2. Cleaning the Train Data\n",
    "\n",
    "- Check Correlation: Calculate the correlation between each feature and the target variable (price).\n",
    "\n",
    "\n",
    "- Drop Rows with Missing Values: Remove rows where the bedrooms or baths columns have missing values.\n",
    "\n",
    "\n",
    "- Clean and Split nearby_station_distance: Transform the `nearby_station_distance` column to add new columns, `station_name` and `station_distance`.\n",
    "\n",
    "\n",
    "- Drop Unnecessary Columns: Remove columns that won’t be used in the model, including `total_units`, `floor_level`, `land_area`, `nearby_bus_stops`, \n",
    "                      `month_built`, `longitude`, `latitude`, `year_built`, `address`.\n",
    "\n",
    "- Add num_facilities Column: Create a new column, `num_facilities`, to count the number of facilities listed in the `facilities` column.\n"
   ]
  },
  {
   "cell_type": "markdown",
   "id": "fa4d2c12-d4f1-4442-81be-f9ab19819569",
   "metadata": {},
   "source": [
    "### 3. Cleaning the Test Data \n",
    "Perform all processes as with the training data, **except do not drop any rows.**\n"
   ]
  },
  {
   "cell_type": "markdown",
   "id": "e56e460e-75e1-4293-9af4-3e2e307df4fa",
   "metadata": {},
   "source": [
    "---"
   ]
  },
  {
   "cell_type": "markdown",
   "id": "b89d1089-058d-4c1a-8d62-ef0a856bc2b6",
   "metadata": {},
   "source": [
    "## Data Dictionary\n",
    "The dataset provides information on Bangkok housing prices and various property characteristics. Below are descriptions of key columns:\n",
    "\n",
    "| Column                | Data Type    | Description                                                                                             |\n",
    "|-----------------------|-----------|---------------------------------------------------------------------------------------------------------|\n",
    "| `id`                    | int       | ID of selling item                                                                                      |\n",
    "| `province`              | string    | Province name: this dataset only includes Bangkok, Samut Prakan, and Nonthaburi                         |\n",
    "| `district`              | string    | District name                                                                                           |\n",
    "| `subdistrict`           | string    | Subdistrict name                                                                                        |\n",
    "| `address`               | string    | Address, e.g., street name, area name, soi number                                                       |\n",
    "| `property_type`         | string    | Type of the house: Condo, Townhouse, or Detached House                                                  |\n",
    "| `total_units`           | float     | The number of rooms/houses that the condo/village has                                                   |\n",
    "| `bedrooms`              | int       | The number of bedrooms                                                                                  |\n",
    "| `baths`                 | int       | The number of baths                                                                                     |\n",
    "| `floor_area`            | float     | Total area of inside floor [㎡]                                                                          |\n",
    "| `floor_level`           | int       | Floor level of the room                                                                                 |\n",
    "| `land_area`             | float     | Total area of the land [㎡]                                                                             |\n",
    "| `latitude`              | float     | Latitude of the house                                                                                   |\n",
    "| `longitude`             | float     | Longitude of the house                                                                                  |\n",
    "| `nearby_stations`       | int       | The number of nearby stations (within 1km)                                                              |\n",
    "| `nearby_station_distance` | list   | List of (station name, distance[m]). Each station name consists of station ID, station name, and Line, such as \"E4 Asok BTS\" |\n",
    "| `nearby_bus_stops`      | int       | The number of nearby bus stops                                                                          |\n",
    "| `nearby_supermarkets`   | int       | The number of nearby supermarkets                                                                       |\n",
    "| `nearby_shops`          | int       | The number of nearby shops                                                                              |\n",
    "| `year_built`           | int       | Year built                                                                                              |\n",
    "| `month_built`           | string    | Month built: January-December                                                                           |\n",
    "| `price` ( **Target Value** )                 | float     | Selling price                                                                            |"
   ]
  },
  {
   "cell_type": "markdown",
   "id": "03f9a62b-7f34-4a40-8fde-4f98986296de",
   "metadata": {},
   "source": [
    "---"
   ]
  },
  {
   "cell_type": "markdown",
   "id": "77fd6e5e-9ad4-4935-9b91-a9e425ddac6d",
   "metadata": {
    "jp-MarkdownHeadingCollapsed": true
   },
   "source": [
    "# Train Dataset"
   ]
  },
  {
   "cell_type": "markdown",
   "id": "cb251eb7-2ce8-49ab-b438-52fb05a90aca",
   "metadata": {
    "jp-MarkdownHeadingCollapsed": true
   },
   "source": [
    "## Exploring overview of the train dataset"
   ]
  },
  {
   "cell_type": "code",
   "execution_count": 12,
   "id": "7bf922e0-c6a3-418e-8d37-f2069c67a4ab",
   "metadata": {},
   "outputs": [],
   "source": [
    "# Import library\n",
    "import pandas as pd \n",
    "import numpy as np\n",
    "import seaborn as sns\n",
    "import matplotlib.pyplot as plt"
   ]
  },
  {
   "cell_type": "code",
   "execution_count": 13,
   "id": "2350fb7e-3cc2-4cfa-b15b-cc839aaf5237",
   "metadata": {},
   "outputs": [],
   "source": [
    "# Import data\n",
    "bangkok = pd.read_json(\"../Dataset/train.json\")"
   ]
  },
  {
   "cell_type": "code",
   "execution_count": 14,
   "id": "8782a688-9796-45f1-8d46-34da4cd929a2",
   "metadata": {},
   "outputs": [
    {
     "data": {
      "text/html": [
       "<div>\n",
       "<style scoped>\n",
       "    .dataframe tbody tr th:only-of-type {\n",
       "        vertical-align: middle;\n",
       "    }\n",
       "\n",
       "    .dataframe tbody tr th {\n",
       "        vertical-align: top;\n",
       "    }\n",
       "\n",
       "    .dataframe thead th {\n",
       "        text-align: right;\n",
       "    }\n",
       "</style>\n",
       "<table border=\"1\" class=\"dataframe\">\n",
       "  <thead>\n",
       "    <tr style=\"text-align: right;\">\n",
       "      <th></th>\n",
       "      <th>id</th>\n",
       "      <th>province</th>\n",
       "      <th>district</th>\n",
       "      <th>subdistrict</th>\n",
       "      <th>address</th>\n",
       "      <th>property_type</th>\n",
       "      <th>total_units</th>\n",
       "      <th>bedrooms</th>\n",
       "      <th>baths</th>\n",
       "      <th>floor_area</th>\n",
       "      <th>...</th>\n",
       "      <th>longitude</th>\n",
       "      <th>nearby_stations</th>\n",
       "      <th>nearby_station_distance</th>\n",
       "      <th>nearby_bus_stops</th>\n",
       "      <th>nearby_supermarkets</th>\n",
       "      <th>nearby_shops</th>\n",
       "      <th>year_built</th>\n",
       "      <th>month_built</th>\n",
       "      <th>facilities</th>\n",
       "      <th>price</th>\n",
       "    </tr>\n",
       "  </thead>\n",
       "  <tbody>\n",
       "    <tr>\n",
       "      <th>0</th>\n",
       "      <td>8448321</td>\n",
       "      <td>Bangkok</td>\n",
       "      <td>Watthana</td>\n",
       "      <td>Phra Khanong Nuea</td>\n",
       "      <td>36 Soi Sukhumvit 63, Ekamai Road</td>\n",
       "      <td>Condo</td>\n",
       "      <td>273.0</td>\n",
       "      <td>2.0</td>\n",
       "      <td>2.0</td>\n",
       "      <td>66</td>\n",
       "      <td>...</td>\n",
       "      <td>100.584850</td>\n",
       "      <td>2</td>\n",
       "      <td>[[E7 Ekkamai BTS, 270], [E6 Thong Lo BTS, 800]]</td>\n",
       "      <td>NaN</td>\n",
       "      <td>16.0</td>\n",
       "      <td>20</td>\n",
       "      <td>2011</td>\n",
       "      <td>June</td>\n",
       "      <td>[Car Park, Community Garden, CCTV, Fitness cor...</td>\n",
       "      <td>8500000</td>\n",
       "    </tr>\n",
       "    <tr>\n",
       "      <th>1</th>\n",
       "      <td>10936325</td>\n",
       "      <td>Bangkok</td>\n",
       "      <td>Watthana</td>\n",
       "      <td>Khlong Toei Nuea</td>\n",
       "      <td>31 สุขุมวิท</td>\n",
       "      <td>Condo</td>\n",
       "      <td>74.0</td>\n",
       "      <td>1.0</td>\n",
       "      <td>1.0</td>\n",
       "      <td>49</td>\n",
       "      <td>...</td>\n",
       "      <td>100.566949</td>\n",
       "      <td>3</td>\n",
       "      <td>[[BL22 Sukhumvit MRT, 720], [BL21 Phetchaburi ...</td>\n",
       "      <td>NaN</td>\n",
       "      <td>11.0</td>\n",
       "      <td>20</td>\n",
       "      <td>2012</td>\n",
       "      <td>September</td>\n",
       "      <td>[CCTV, Fitness corner, 24 hours security, Swim...</td>\n",
       "      <td>5900000</td>\n",
       "    </tr>\n",
       "    <tr>\n",
       "      <th>2</th>\n",
       "      <td>10927931</td>\n",
       "      <td>Bangkok</td>\n",
       "      <td>Khlong Toei</td>\n",
       "      <td>Khlong Tan</td>\n",
       "      <td>68 Sukhumvit 24 Alley, Khong Tan</td>\n",
       "      <td>Condo</td>\n",
       "      <td>940.0</td>\n",
       "      <td>1.0</td>\n",
       "      <td>1.0</td>\n",
       "      <td>34</td>\n",
       "      <td>...</td>\n",
       "      <td>100.565660</td>\n",
       "      <td>2</td>\n",
       "      <td>[[E5 Phrom Phong BTS, 650], [BL23 Queen Siriki...</td>\n",
       "      <td>NaN</td>\n",
       "      <td>20.0</td>\n",
       "      <td>20</td>\n",
       "      <td>2017</td>\n",
       "      <td>January</td>\n",
       "      <td>[Car Park, Clubhouse, Community Garden, CCTV, ...</td>\n",
       "      <td>6290000</td>\n",
       "    </tr>\n",
       "    <tr>\n",
       "      <th>3</th>\n",
       "      <td>11004792</td>\n",
       "      <td>Nonthaburi</td>\n",
       "      <td>Bang Kruai</td>\n",
       "      <td>Bang Khun Kong</td>\n",
       "      <td>Bang Khun Kong</td>\n",
       "      <td>Detached House</td>\n",
       "      <td>NaN</td>\n",
       "      <td>3.0</td>\n",
       "      <td>3.0</td>\n",
       "      <td>170</td>\n",
       "      <td>...</td>\n",
       "      <td>100.428438</td>\n",
       "      <td>0</td>\n",
       "      <td>None</td>\n",
       "      <td>NaN</td>\n",
       "      <td>2.0</td>\n",
       "      <td>4</td>\n",
       "      <td>0</td>\n",
       "      <td>None</td>\n",
       "      <td>[Covered car park, Playground, 24 hours securi...</td>\n",
       "      <td>8900000</td>\n",
       "    </tr>\n",
       "    <tr>\n",
       "      <th>4</th>\n",
       "      <td>10757452</td>\n",
       "      <td>Nonthaburi</td>\n",
       "      <td>Mueang Nonthaburi</td>\n",
       "      <td>Bang Phai</td>\n",
       "      <td>พระราม5-นครอินทร์</td>\n",
       "      <td>Townhouse</td>\n",
       "      <td>NaN</td>\n",
       "      <td>3.0</td>\n",
       "      <td>2.0</td>\n",
       "      <td>120</td>\n",
       "      <td>...</td>\n",
       "      <td>100.494129</td>\n",
       "      <td>1</td>\n",
       "      <td>[[PP09 Yaek Nonthaburi 1 MRT, 10]]</td>\n",
       "      <td>NaN</td>\n",
       "      <td>6.0</td>\n",
       "      <td>15</td>\n",
       "      <td>0</td>\n",
       "      <td>None</td>\n",
       "      <td>[Covered car park, 24 hours security]</td>\n",
       "      <td>2390000</td>\n",
       "    </tr>\n",
       "  </tbody>\n",
       "</table>\n",
       "<p>5 rows × 23 columns</p>\n",
       "</div>"
      ],
      "text/plain": [
       "         id    province           district        subdistrict  \\\n",
       "0   8448321     Bangkok           Watthana  Phra Khanong Nuea   \n",
       "1  10936325     Bangkok           Watthana   Khlong Toei Nuea   \n",
       "2  10927931     Bangkok        Khlong Toei         Khlong Tan   \n",
       "3  11004792  Nonthaburi         Bang Kruai     Bang Khun Kong   \n",
       "4  10757452  Nonthaburi  Mueang Nonthaburi          Bang Phai   \n",
       "\n",
       "                            address   property_type  total_units  bedrooms  \\\n",
       "0  36 Soi Sukhumvit 63, Ekamai Road           Condo        273.0       2.0   \n",
       "1                       31 สุขุมวิท           Condo         74.0       1.0   \n",
       "2  68 Sukhumvit 24 Alley, Khong Tan           Condo        940.0       1.0   \n",
       "3                    Bang Khun Kong  Detached House          NaN       3.0   \n",
       "4                 พระราม5-นครอินทร์       Townhouse          NaN       3.0   \n",
       "\n",
       "   baths  floor_area  ...   longitude  nearby_stations  \\\n",
       "0    2.0          66  ...  100.584850                2   \n",
       "1    1.0          49  ...  100.566949                3   \n",
       "2    1.0          34  ...  100.565660                2   \n",
       "3    3.0         170  ...  100.428438                0   \n",
       "4    2.0         120  ...  100.494129                1   \n",
       "\n",
       "                             nearby_station_distance  nearby_bus_stops  \\\n",
       "0    [[E7 Ekkamai BTS, 270], [E6 Thong Lo BTS, 800]]               NaN   \n",
       "1  [[BL22 Sukhumvit MRT, 720], [BL21 Phetchaburi ...               NaN   \n",
       "2  [[E5 Phrom Phong BTS, 650], [BL23 Queen Siriki...               NaN   \n",
       "3                                               None               NaN   \n",
       "4                 [[PP09 Yaek Nonthaburi 1 MRT, 10]]               NaN   \n",
       "\n",
       "   nearby_supermarkets nearby_shops  year_built  month_built  \\\n",
       "0                 16.0           20        2011         June   \n",
       "1                 11.0           20        2012    September   \n",
       "2                 20.0           20        2017      January   \n",
       "3                  2.0            4           0         None   \n",
       "4                  6.0           15           0         None   \n",
       "\n",
       "                                          facilities    price  \n",
       "0  [Car Park, Community Garden, CCTV, Fitness cor...  8500000  \n",
       "1  [CCTV, Fitness corner, 24 hours security, Swim...  5900000  \n",
       "2  [Car Park, Clubhouse, Community Garden, CCTV, ...  6290000  \n",
       "3  [Covered car park, Playground, 24 hours securi...  8900000  \n",
       "4              [Covered car park, 24 hours security]  2390000  \n",
       "\n",
       "[5 rows x 23 columns]"
      ]
     },
     "execution_count": 14,
     "metadata": {},
     "output_type": "execute_result"
    }
   ],
   "source": [
    "# Looking at the top row of data\n",
    "bangkok.head()"
   ]
  },
  {
   "cell_type": "code",
   "execution_count": 15,
   "id": "eff00f30-ab99-42ce-ab39-4d097f2879d0",
   "metadata": {},
   "outputs": [
    {
     "data": {
      "text/plain": [
       "(14271, 23)"
      ]
     },
     "execution_count": 15,
     "metadata": {},
     "output_type": "execute_result"
    }
   ],
   "source": [
    "# Dimention of dataset\n",
    "bangkok.shape"
   ]
  },
  {
   "cell_type": "code",
   "execution_count": 16,
   "id": "f1d47496-af61-4334-a238-7787813f8a6e",
   "metadata": {},
   "outputs": [
    {
     "data": {
      "text/plain": [
       "id                           int64\n",
       "province                    object\n",
       "district                    object\n",
       "subdistrict                 object\n",
       "address                     object\n",
       "property_type               object\n",
       "total_units                float64\n",
       "bedrooms                   float64\n",
       "baths                      float64\n",
       "floor_area                   int64\n",
       "floor_level                float64\n",
       "land_area                  float64\n",
       "latitude                   float64\n",
       "longitude                  float64\n",
       "nearby_stations              int64\n",
       "nearby_station_distance     object\n",
       "nearby_bus_stops           float64\n",
       "nearby_supermarkets        float64\n",
       "nearby_shops                 int64\n",
       "year_built                   int64\n",
       "month_built                 object\n",
       "facilities                  object\n",
       "price                        int64\n",
       "dtype: object"
      ]
     },
     "execution_count": 16,
     "metadata": {},
     "output_type": "execute_result"
    }
   ],
   "source": [
    "# Verify the data types of each column\n",
    "bangkok.dtypes"
   ]
  },
  {
   "cell_type": "code",
   "execution_count": 17,
   "id": "4f2f539d-6178-480e-802b-bb820fbdf219",
   "metadata": {
    "scrolled": true
   },
   "outputs": [
    {
     "data": {
      "text/html": [
       "<div>\n",
       "<style scoped>\n",
       "    .dataframe tbody tr th:only-of-type {\n",
       "        vertical-align: middle;\n",
       "    }\n",
       "\n",
       "    .dataframe tbody tr th {\n",
       "        vertical-align: top;\n",
       "    }\n",
       "\n",
       "    .dataframe thead th {\n",
       "        text-align: right;\n",
       "    }\n",
       "</style>\n",
       "<table border=\"1\" class=\"dataframe\">\n",
       "  <thead>\n",
       "    <tr style=\"text-align: right;\">\n",
       "      <th></th>\n",
       "      <th>id</th>\n",
       "      <th>total_units</th>\n",
       "      <th>bedrooms</th>\n",
       "      <th>baths</th>\n",
       "      <th>floor_area</th>\n",
       "      <th>floor_level</th>\n",
       "      <th>land_area</th>\n",
       "      <th>latitude</th>\n",
       "      <th>longitude</th>\n",
       "      <th>nearby_stations</th>\n",
       "      <th>nearby_bus_stops</th>\n",
       "      <th>nearby_supermarkets</th>\n",
       "      <th>nearby_shops</th>\n",
       "      <th>year_built</th>\n",
       "      <th>price</th>\n",
       "    </tr>\n",
       "  </thead>\n",
       "  <tbody>\n",
       "    <tr>\n",
       "      <th>count</th>\n",
       "      <td>1.427100e+04</td>\n",
       "      <td>10509.000000</td>\n",
       "      <td>14228.000000</td>\n",
       "      <td>14236.000000</td>\n",
       "      <td>14271.000000</td>\n",
       "      <td>8093.000000</td>\n",
       "      <td>4917.000000</td>\n",
       "      <td>14271.000000</td>\n",
       "      <td>14271.000000</td>\n",
       "      <td>14271.000000</td>\n",
       "      <td>6009.000000</td>\n",
       "      <td>13885.000000</td>\n",
       "      <td>14271.000000</td>\n",
       "      <td>14271.000000</td>\n",
       "      <td>1.427100e+04</td>\n",
       "    </tr>\n",
       "    <tr>\n",
       "      <th>mean</th>\n",
       "      <td>1.062614e+07</td>\n",
       "      <td>712.655438</td>\n",
       "      <td>1.880728</td>\n",
       "      <td>1.618292</td>\n",
       "      <td>79.867283</td>\n",
       "      <td>11.322995</td>\n",
       "      <td>242.963596</td>\n",
       "      <td>13.762814</td>\n",
       "      <td>100.565017</td>\n",
       "      <td>0.956415</td>\n",
       "      <td>14.049426</td>\n",
       "      <td>9.002161</td>\n",
       "      <td>10.447060</td>\n",
       "      <td>1422.737440</td>\n",
       "      <td>4.044124e+06</td>\n",
       "    </tr>\n",
       "    <tr>\n",
       "      <th>std</th>\n",
       "      <td>8.030103e+05</td>\n",
       "      <td>554.558340</td>\n",
       "      <td>1.092817</td>\n",
       "      <td>0.872875</td>\n",
       "      <td>69.701181</td>\n",
       "      <td>9.064835</td>\n",
       "      <td>3083.223006</td>\n",
       "      <td>0.092787</td>\n",
       "      <td>0.089575</td>\n",
       "      <td>1.085255</td>\n",
       "      <td>6.496828</td>\n",
       "      <td>5.348001</td>\n",
       "      <td>6.950903</td>\n",
       "      <td>917.737592</td>\n",
       "      <td>2.179909e+06</td>\n",
       "    </tr>\n",
       "    <tr>\n",
       "      <th>min</th>\n",
       "      <td>1.025114e+06</td>\n",
       "      <td>1.000000</td>\n",
       "      <td>1.000000</td>\n",
       "      <td>0.000000</td>\n",
       "      <td>1.000000</td>\n",
       "      <td>1.000000</td>\n",
       "      <td>16.000000</td>\n",
       "      <td>13.517062</td>\n",
       "      <td>100.273931</td>\n",
       "      <td>0.000000</td>\n",
       "      <td>1.000000</td>\n",
       "      <td>1.000000</td>\n",
       "      <td>1.000000</td>\n",
       "      <td>0.000000</td>\n",
       "      <td>4.800000e+05</td>\n",
       "    </tr>\n",
       "    <tr>\n",
       "      <th>25%</th>\n",
       "      <td>1.064588e+07</td>\n",
       "      <td>318.000000</td>\n",
       "      <td>1.000000</td>\n",
       "      <td>1.000000</td>\n",
       "      <td>32.000000</td>\n",
       "      <td>4.000000</td>\n",
       "      <td>80.000000</td>\n",
       "      <td>13.705177</td>\n",
       "      <td>100.512628</td>\n",
       "      <td>0.000000</td>\n",
       "      <td>8.000000</td>\n",
       "      <td>5.000000</td>\n",
       "      <td>4.000000</td>\n",
       "      <td>0.000000</td>\n",
       "      <td>2.250000e+06</td>\n",
       "    </tr>\n",
       "    <tr>\n",
       "      <th>50%</th>\n",
       "      <td>1.086984e+07</td>\n",
       "      <td>554.000000</td>\n",
       "      <td>1.000000</td>\n",
       "      <td>1.000000</td>\n",
       "      <td>47.000000</td>\n",
       "      <td>8.000000</td>\n",
       "      <td>116.000000</td>\n",
       "      <td>13.753742</td>\n",
       "      <td>100.569721</td>\n",
       "      <td>1.000000</td>\n",
       "      <td>17.000000</td>\n",
       "      <td>8.000000</td>\n",
       "      <td>9.000000</td>\n",
       "      <td>2013.000000</td>\n",
       "      <td>3.500000e+06</td>\n",
       "    </tr>\n",
       "    <tr>\n",
       "      <th>75%</th>\n",
       "      <td>1.097710e+07</td>\n",
       "      <td>945.000000</td>\n",
       "      <td>3.000000</td>\n",
       "      <td>2.000000</td>\n",
       "      <td>112.000000</td>\n",
       "      <td>17.000000</td>\n",
       "      <td>212.000000</td>\n",
       "      <td>13.837514</td>\n",
       "      <td>100.608786</td>\n",
       "      <td>2.000000</td>\n",
       "      <td>20.000000</td>\n",
       "      <td>13.000000</td>\n",
       "      <td>19.000000</td>\n",
       "      <td>2017.000000</td>\n",
       "      <td>5.500000e+06</td>\n",
       "    </tr>\n",
       "    <tr>\n",
       "      <th>max</th>\n",
       "      <td>1.104790e+07</td>\n",
       "      <td>4000.000000</td>\n",
       "      <td>10.000000</td>\n",
       "      <td>9.000000</td>\n",
       "      <td>766.000000</td>\n",
       "      <td>55.000000</td>\n",
       "      <td>137664.000000</td>\n",
       "      <td>14.022246</td>\n",
       "      <td>100.905485</td>\n",
       "      <td>3.000000</td>\n",
       "      <td>20.000000</td>\n",
       "      <td>20.000000</td>\n",
       "      <td>20.000000</td>\n",
       "      <td>2023.000000</td>\n",
       "      <td>9.999000e+06</td>\n",
       "    </tr>\n",
       "  </tbody>\n",
       "</table>\n",
       "</div>"
      ],
      "text/plain": [
       "                 id   total_units      bedrooms         baths    floor_area  \\\n",
       "count  1.427100e+04  10509.000000  14228.000000  14236.000000  14271.000000   \n",
       "mean   1.062614e+07    712.655438      1.880728      1.618292     79.867283   \n",
       "std    8.030103e+05    554.558340      1.092817      0.872875     69.701181   \n",
       "min    1.025114e+06      1.000000      1.000000      0.000000      1.000000   \n",
       "25%    1.064588e+07    318.000000      1.000000      1.000000     32.000000   \n",
       "50%    1.086984e+07    554.000000      1.000000      1.000000     47.000000   \n",
       "75%    1.097710e+07    945.000000      3.000000      2.000000    112.000000   \n",
       "max    1.104790e+07   4000.000000     10.000000      9.000000    766.000000   \n",
       "\n",
       "       floor_level      land_area      latitude     longitude  \\\n",
       "count  8093.000000    4917.000000  14271.000000  14271.000000   \n",
       "mean     11.322995     242.963596     13.762814    100.565017   \n",
       "std       9.064835    3083.223006      0.092787      0.089575   \n",
       "min       1.000000      16.000000     13.517062    100.273931   \n",
       "25%       4.000000      80.000000     13.705177    100.512628   \n",
       "50%       8.000000     116.000000     13.753742    100.569721   \n",
       "75%      17.000000     212.000000     13.837514    100.608786   \n",
       "max      55.000000  137664.000000     14.022246    100.905485   \n",
       "\n",
       "       nearby_stations  nearby_bus_stops  nearby_supermarkets  nearby_shops  \\\n",
       "count     14271.000000       6009.000000         13885.000000  14271.000000   \n",
       "mean          0.956415         14.049426             9.002161     10.447060   \n",
       "std           1.085255          6.496828             5.348001      6.950903   \n",
       "min           0.000000          1.000000             1.000000      1.000000   \n",
       "25%           0.000000          8.000000             5.000000      4.000000   \n",
       "50%           1.000000         17.000000             8.000000      9.000000   \n",
       "75%           2.000000         20.000000            13.000000     19.000000   \n",
       "max           3.000000         20.000000            20.000000     20.000000   \n",
       "\n",
       "         year_built         price  \n",
       "count  14271.000000  1.427100e+04  \n",
       "mean    1422.737440  4.044124e+06  \n",
       "std      917.737592  2.179909e+06  \n",
       "min        0.000000  4.800000e+05  \n",
       "25%        0.000000  2.250000e+06  \n",
       "50%     2013.000000  3.500000e+06  \n",
       "75%     2017.000000  5.500000e+06  \n",
       "max     2023.000000  9.999000e+06  "
      ]
     },
     "execution_count": 17,
     "metadata": {},
     "output_type": "execute_result"
    }
   ],
   "source": [
    "# Summary of basic statistics for each numeric column in the dataset\n",
    "bangkok.describe()"
   ]
  },
  {
   "cell_type": "code",
   "execution_count": 18,
   "id": "b4c985ec-afb6-4da7-beb7-7bc3d208b8f2",
   "metadata": {},
   "outputs": [
    {
     "data": {
      "text/plain": [
       "subdistrict                  11\n",
       "total_units                3762\n",
       "bedrooms                     43\n",
       "baths                        35\n",
       "floor_level                6178\n",
       "land_area                  9354\n",
       "nearby_station_distance    7043\n",
       "nearby_bus_stops           8262\n",
       "nearby_supermarkets         386\n",
       "month_built                5874\n",
       "dtype: int64"
      ]
     },
     "execution_count": 18,
     "metadata": {},
     "output_type": "execute_result"
    }
   ],
   "source": [
    "# Check missing value\n",
    "bangkok.isnull().sum()[bangkok.isnull().sum() != 0]"
   ]
  },
  {
   "cell_type": "code",
   "execution_count": 19,
   "id": "142cd99d-ab8d-4c15-b475-08bf84a3d18f",
   "metadata": {},
   "outputs": [
    {
     "data": {
      "text/plain": [
       "subdistrict                 0.077079\n",
       "total_units                26.361152\n",
       "bedrooms                    0.301310\n",
       "baths                       0.245253\n",
       "floor_level                43.290589\n",
       "land_area                  65.545512\n",
       "nearby_station_distance    49.351832\n",
       "nearby_bus_stops           57.893630\n",
       "nearby_supermarkets         2.704786\n",
       "month_built                41.160395\n",
       "dtype: float64"
      ]
     },
     "execution_count": 19,
     "metadata": {},
     "output_type": "execute_result"
    }
   ],
   "source": [
    "# Looking at the Percentage of Missing Values\n",
    "bangkok.isnull().sum()[bangkok.isnull().sum() != 0]/(bangkok.shape[0])*100"
   ]
  },
  {
   "cell_type": "markdown",
   "id": "8ed499a7-ab95-45e3-8d37-6b89351f4dcb",
   "metadata": {
    "jp-MarkdownHeadingCollapsed": true
   },
   "source": [
    "## Cleaning the Dataset"
   ]
  },
  {
   "cell_type": "markdown",
   "id": "a7c391d5-5e7d-45ff-a232-57a10596a1c7",
   "metadata": {
    "jp-MarkdownHeadingCollapsed": true
   },
   "source": [
    "### 1. Check the Correlation Between Features  \n",
    "To gain a better understanding of the relationships between each column."
   ]
  },
  {
   "cell_type": "code",
   "execution_count": 22,
   "id": "9ffb7255-67fb-4c70-9bf2-6e4bfee25f5f",
   "metadata": {},
   "outputs": [],
   "source": [
    "# Looking at the correlation between numeric columns, excluding columns that have missing values above a 20%.\n",
    "numeric_bangkok = bangkok.select_dtypes(include=['float64', 'int64'])\n",
    "numeric_bangkok.drop(columns = ['id','total_units','floor_level','land_area','nearby_bus_stops'], inplace = True)"
   ]
  },
  {
   "cell_type": "code",
   "execution_count": 23,
   "id": "2ca02b8c-0c1f-48f0-bc7e-f61e3725b290",
   "metadata": {},
   "outputs": [
    {
     "data": {
      "image/png": "[encoded data removed]",
      "text/plain": [
       "<Figure size 1000x800 with 2 Axes>"
      ]
     },
     "metadata": {},
     "output_type": "display_data"
    }
   ],
   "source": [
    "plt.figure(figsize=(10, 8))\n",
    "sns.heatmap(numeric_bangkok.corr(), annot=True, cmap='coolwarm', linewidths=0.5)\n",
    "plt.title('Correlation Heatmap')\n",
    "\n",
    "plt.tight_layout()\n",
    "plt.savefig('../Figures/corr_all_numeric_features.png', dpi=100)  \n",
    "plt.show()"
   ]
  },
  {
   "cell_type": "code",
   "execution_count": 24,
   "id": "99545c0e-379a-45c2-8aed-d97dd45435f3",
   "metadata": {},
   "outputs": [
    {
     "data": {
      "image/png": "[encoded data removed]",
      "text/plain": [
       "<Figure size 750x750 with 9 Axes>"
      ]
     },
     "metadata": {},
     "output_type": "display_data"
    }
   ],
   "source": [
    "# Pairplot to check only the strong correlations with other variables (> 0.6).\n",
    "sns.pairplot(numeric_bangkok[['baths','bedrooms','floor_area']], corner = True)\n",
    "\n",
    "plt.tight_layout()\n",
    "plt.savefig('../Figures/pair_strongcorr_features.png', dpi=100)  \n",
    "plt.show()"
   ]
  },
  {
   "cell_type": "code",
   "execution_count": 25,
   "id": "2650e6b1-ae46-4fc2-8cb2-b1ad596a2eb4",
   "metadata": {},
   "outputs": [
    {
     "data": {
      "image/png": "[encoded data removed]",
      "text/plain": [
       "<Figure size 640x480 with 2 Axes>"
      ]
     },
     "metadata": {},
     "output_type": "display_data"
    }
   ],
   "source": [
    "# Visualize the correlation of numeric variables with 'price', sorted in descending order.\n",
    "sns.heatmap(numeric_bangkok.corr()[['price']].sort_values(by='price', ascending=False), \n",
    "            cmap='coolwarm',\n",
    "            annot=True)\n",
    "plt.yticks(rotation=0)\n",
    "\n",
    "plt.tight_layout()\n",
    "plt.savefig('../Figures/corr_with_price.png', dpi=200)  \n",
    "plt.show()"
   ]
  },
  {
   "cell_type": "code",
   "execution_count": 26,
   "id": "b31d8dd6-4a56-4adb-9ff3-5d0d3a8fdee5",
   "metadata": {},
   "outputs": [],
   "source": [
    "# The variables longitude, latitude, and year_built show the least correlation with the price."
   ]
  },
  {
   "cell_type": "markdown",
   "id": "bdf7d441-d637-461c-8f4a-b3b3c5865556",
   "metadata": {
    "jp-MarkdownHeadingCollapsed": true
   },
   "source": [
    "### 2. Drop rows\n",
    "where the bedrooms or baths columns have missing values, Because these 2 columns have most strong correlation with the price."
   ]
  },
  {
   "cell_type": "code",
   "execution_count": 28,
   "id": "07ca3024-bb4b-4142-b292-9bd57ddb38fe",
   "metadata": {},
   "outputs": [
    {
     "data": {
      "text/plain": [
       "45"
      ]
     },
     "execution_count": 28,
     "metadata": {},
     "output_type": "execute_result"
    }
   ],
   "source": [
    "# Check the number of observations that having missing value on bedrooms or baths\n",
    "bangkok[((bangkok['bedrooms'].isnull()) | (bangkok['baths'].isnull()))].shape[0]\n",
    "\n",
    "# total 45 observations \n",
    "# It least from all observations : so we can drop them"
   ]
  },
  {
   "cell_type": "code",
   "execution_count": 29,
   "id": "0a870d3d-058c-4748-8e8c-76ad4c8ee6c9",
   "metadata": {
    "scrolled": true
   },
   "outputs": [
    {
     "data": {
      "text/plain": [
       "(14226, 23)"
      ]
     },
     "execution_count": 29,
     "metadata": {},
     "output_type": "execute_result"
    }
   ],
   "source": [
    "# Drop them in the dataset and recheck the shape of data\n",
    "bangkok = bangkok[~((bangkok['bedrooms'].isnull()) | (bangkok['baths'].isnull()))]\n",
    "bangkok.shape"
   ]
  },
  {
   "cell_type": "markdown",
   "id": "c1325c52-976c-4a6f-9fb6-a2737528b6fd",
   "metadata": {
    "jp-MarkdownHeadingCollapsed": true
   },
   "source": [
    "### 3. Clean and Split nearby_station_distance\n",
    "Transform the nearby_station_distance column to add new columns, `station_name` and `station_distance`, as follows:\n",
    "  \n",
    "| nearby_station_distance                          | station_name               | station_distance              |\n",
    "|--------------------------------------------------|----------------------------|-------------------------------|\n",
    "| [[E7 Ekkamai BTS, 270], [E6 Thong Lo BTS, 800]]  |          Ekkamai           |             270               |\n",
    "| [[PP09 Yaek Nonthaburi 1 MRT, 10]]               |      Yaek Nonthaburi       |              10               |\n",
    "| None                                             |             -              |               0               |\n"
   ]
  },
  {
   "cell_type": "code",
   "execution_count": 31,
   "id": "60203cc5-8ff9-4c04-b141-af13c64ed645",
   "metadata": {},
   "outputs": [
    {
     "data": {
      "text/plain": [
       "0      [[E7 Ekkamai BTS, 270], [E6 Thong Lo BTS, 800]]\n",
       "1    [[BL22 Sukhumvit MRT, 720], [BL21 Phetchaburi ...\n",
       "2    [[E5 Phrom Phong BTS, 650], [BL23 Queen Siriki...\n",
       "3                                                 None\n",
       "4                   [[PP09 Yaek Nonthaburi 1 MRT, 10]]\n",
       "Name: nearby_station_distance, dtype: object"
      ]
     },
     "execution_count": 31,
     "metadata": {},
     "output_type": "execute_result"
    }
   ],
   "source": [
    "# The nearby_station_distance column contains a list of station names and their distances.\n",
    "# Recheck what they look like\n",
    "bangkok['nearby_station_distance'].head()"
   ]
  },
  {
   "cell_type": "code",
   "execution_count": 32,
   "id": "b1070318-09e0-45fc-a89f-3d788bbfd655",
   "metadata": {},
   "outputs": [],
   "source": [
    "# Create thef unction to extract the closest station name and its distance from a list of station info.\n",
    "def get_closest_station(station_info_list):\n",
    "    \n",
    "    # It first checks if the input is empty or None, returning a placeholder if so.\n",
    "    if station_info_list in [None, 0] or len(station_info_list) == 0:\n",
    "        return '-', 0\n",
    "        \n",
    "    # It then creates a list of tuples containing station names and distances.\n",
    "    stations_with_values = [(item[0].split(',')[0], item[1]) for item in station_info_list if isinstance(item, list)]\n",
    "\n",
    "    \n",
    "    # The function identifies the station with the minimum distance and cleans its name\n",
    "    min_station = min(stations_with_values, key=lambda x: x[1])[0]  \n",
    "    station_distance = min(stations_with_values, key=lambda x: x[1])[1] \n",
    "\n",
    "    # by splitting the string, checking for 'BTS' or 'MRT' indicators, and removing unnecessary terms.\n",
    "    text = min_station.split(' ')\n",
    "        \n",
    "    index_bts = text.index('BTS') if 'BTS' in text else -1\n",
    "    index_mrt = text.index('MRT') if 'MRT' in text else -1\n",
    "    \n",
    "    if index_bts != -1:\n",
    "        range_index = index_bts\n",
    "    elif index_mrt != -1:\n",
    "        range_index = index_mrt\n",
    "    else:\n",
    "        range_index = len(text)\n",
    "\n",
    "    # Constructing the cleaned station name by joining relevant parts\n",
    "    station_name = ' '.join(text[1:range_index+1]).replace('SRT','').replace('Airport Link','').replace('BRT','').strip()\n",
    "\n",
    "    return station_name, station_distance\n",
    "\n",
    "# Apply the function to extract and assign the closest station name and distance to new columns\n",
    "bangkok[['station_name', 'station_distance']] = bangkok['nearby_station_distance'].apply(lambda x: pd.Series(get_closest_station(x)))"
   ]
  },
  {
   "cell_type": "code",
   "execution_count": 33,
   "id": "0bb7627f-eaf2-453f-9464-31edd9414d9f",
   "metadata": {},
   "outputs": [
    {
     "data": {
      "text/html": [
       "<div>\n",
       "<style scoped>\n",
       "    .dataframe tbody tr th:only-of-type {\n",
       "        vertical-align: middle;\n",
       "    }\n",
       "\n",
       "    .dataframe tbody tr th {\n",
       "        vertical-align: top;\n",
       "    }\n",
       "\n",
       "    .dataframe thead th {\n",
       "        text-align: right;\n",
       "    }\n",
       "</style>\n",
       "<table border=\"1\" class=\"dataframe\">\n",
       "  <thead>\n",
       "    <tr style=\"text-align: right;\">\n",
       "      <th></th>\n",
       "      <th>station_name</th>\n",
       "      <th>station_distance</th>\n",
       "    </tr>\n",
       "  </thead>\n",
       "  <tbody>\n",
       "    <tr>\n",
       "      <th>0</th>\n",
       "      <td>Ekkamai BTS</td>\n",
       "      <td>270</td>\n",
       "    </tr>\n",
       "    <tr>\n",
       "      <th>1</th>\n",
       "      <td>Sukhumvit MRT</td>\n",
       "      <td>720</td>\n",
       "    </tr>\n",
       "    <tr>\n",
       "      <th>2</th>\n",
       "      <td>Phrom Phong BTS</td>\n",
       "      <td>650</td>\n",
       "    </tr>\n",
       "    <tr>\n",
       "      <th>3</th>\n",
       "      <td>-</td>\n",
       "      <td>0</td>\n",
       "    </tr>\n",
       "    <tr>\n",
       "      <th>4</th>\n",
       "      <td>Yaek Nonthaburi 1 MRT</td>\n",
       "      <td>10</td>\n",
       "    </tr>\n",
       "    <tr>\n",
       "      <th>...</th>\n",
       "      <td>...</td>\n",
       "      <td>...</td>\n",
       "    </tr>\n",
       "    <tr>\n",
       "      <th>14266</th>\n",
       "      <td>Bang Krasor MRT</td>\n",
       "      <td>90</td>\n",
       "    </tr>\n",
       "    <tr>\n",
       "      <th>14267</th>\n",
       "      <td>-</td>\n",
       "      <td>0</td>\n",
       "    </tr>\n",
       "    <tr>\n",
       "      <th>14268</th>\n",
       "      <td>-</td>\n",
       "      <td>0</td>\n",
       "    </tr>\n",
       "    <tr>\n",
       "      <th>14269</th>\n",
       "      <td>-</td>\n",
       "      <td>0</td>\n",
       "    </tr>\n",
       "    <tr>\n",
       "      <th>14270</th>\n",
       "      <td>Wongwian Yai BTS</td>\n",
       "      <td>200</td>\n",
       "    </tr>\n",
       "  </tbody>\n",
       "</table>\n",
       "<p>14226 rows × 2 columns</p>\n",
       "</div>"
      ],
      "text/plain": [
       "                station_name  station_distance\n",
       "0                Ekkamai BTS               270\n",
       "1              Sukhumvit MRT               720\n",
       "2            Phrom Phong BTS               650\n",
       "3                          -                 0\n",
       "4      Yaek Nonthaburi 1 MRT                10\n",
       "...                      ...               ...\n",
       "14266        Bang Krasor MRT                90\n",
       "14267                      -                 0\n",
       "14268                      -                 0\n",
       "14269                      -                 0\n",
       "14270       Wongwian Yai BTS               200\n",
       "\n",
       "[14226 rows x 2 columns]"
      ]
     },
     "execution_count": 33,
     "metadata": {},
     "output_type": "execute_result"
    }
   ],
   "source": [
    "# Look what they look like ?\n",
    "bangkok[['station_name', 'station_distance']]"
   ]
  },
  {
   "cell_type": "markdown",
   "id": "8daf0d37-1b9c-492b-a58f-a0bf9b61d062",
   "metadata": {
    "jp-MarkdownHeadingCollapsed": true
   },
   "source": [
    "### 4. Drop Unnecessary Columns\n",
    "Remove columns that won’t be used in the model by following these critiria:\n",
    "- More than 20% of data is missing value : `total_units`, `floor_level`, `land_area`, `nearby_bus_stops`, `month_built`\r",
    "- Too many of unique values to create the dummy variables : `address`, `subdistrict`\n",
    "- Least correlation with the price :  `longitude`, `latitude`, `year_built`\n",
    "  \r\n"
   ]
  },
  {
   "cell_type": "code",
   "execution_count": 35,
   "id": "5ef3c975-4401-461b-8777-df25f054ccbb",
   "metadata": {},
   "outputs": [
    {
     "data": {
      "text/plain": [
       "total_units                26.303951\n",
       "floor_level                43.202587\n",
       "land_area                  65.577112\n",
       "nearby_station_distance    49.304091\n",
       "nearby_bus_stops           57.922114\n",
       "month_built                41.128919\n",
       "dtype: float64"
      ]
     },
     "execution_count": 35,
     "metadata": {},
     "output_type": "execute_result"
    }
   ],
   "source": [
    "# 1. Checking the column that has missing values more than 20% in the DataFrame\n",
    "missing_data = bangkok.isnull().sum() / bangkok.shape[0] * 100\n",
    "missing_data[missing_data > 20]\n",
    "\n",
    "# The columns we will drop : total_units, floor_level, land_area, nearby_bus_stops, month_built"
   ]
  },
  {
   "cell_type": "code",
   "execution_count": 36,
   "id": "b3fe160e-67eb-4fde-a15f-96dc910ca981",
   "metadata": {},
   "outputs": [
    {
     "name": "stdout",
     "output_type": "stream",
     "text": [
      " address: 2612\n",
      " subdistrict: 239\n",
      " station_name: 136\n",
      " district: 58\n",
      " property_type: 3\n",
      " month_built: 12\n",
      " province: 3\n"
     ]
    }
   ],
   "source": [
    "# 2. Checking the total number of unique values in categorical data, \n",
    "# excluding 'nearby_station_distance' and 'facilities' since they both contain lists.\n",
    "object_columns = set(bangkok.select_dtypes(include=['object']).columns)- set(['nearby_station_distance','facilities'])\n",
    "for i in object_columns:\n",
    "    print(f\" {i}: {bangkok[i].nunique()}\")\n",
    "\n",
    "# Drop columns with more than 150 unique values\n",
    "\n",
    "# Why?\n",
    "# We plan to convert these columns into dummy variables, and if they have too many unique values, \n",
    "# it could significantly increase the model’s complexity.\n",
    "\n",
    "# The columns we will drop : address, subdistrict"
   ]
  },
  {
   "cell_type": "code",
   "execution_count": 37,
   "id": "bcdab4af-f7ec-485f-8812-5d6c8662559a",
   "metadata": {},
   "outputs": [],
   "source": [
    "# 3. The columns that have least correlation with the price we will drop : longitude, latitude, year_built"
   ]
  },
  {
   "cell_type": "code",
   "execution_count": 38,
   "id": "6ec63022-aa7f-45bb-a199-efa55aa7836d",
   "metadata": {},
   "outputs": [],
   "source": [
    "# All 11 Columns Dropped from the Dataset\n",
    "bangkok.drop(columns=['total_units', 'floor_level', 'land_area', 'nearby_bus_stops', 'month_built',\n",
    "                      'address','subdistrict' ,'longitude', 'latitude', 'year_built'], inplace=True)\n"
   ]
  },
  {
   "cell_type": "code",
   "execution_count": 39,
   "id": "67e56ac1-3aa9-4a71-b4f3-aa85c429bc2d",
   "metadata": {},
   "outputs": [
    {
     "data": {
      "text/plain": [
       "nearby_station_distance    7014\n",
       "nearby_supermarkets         383\n",
       "dtype: int64"
      ]
     },
     "execution_count": 39,
     "metadata": {},
     "output_type": "execute_result"
    }
   ],
   "source": [
    "# Recheck the columns that have missing value in the dataset \n",
    "bangkok.isnull().sum()[bangkok.isnull().sum()!=0]"
   ]
  },
  {
   "cell_type": "code",
   "execution_count": 40,
   "id": "8d934b23-4687-45be-8ed0-0153ceb4602e",
   "metadata": {},
   "outputs": [],
   "source": [
    "# Fill missing values with 0 in 'nearby_supermarkets' as it is used in the model\n",
    "bangkok['nearby_supermarkets'] = bangkok['nearby_supermarkets'].fillna(0)"
   ]
  },
  {
   "cell_type": "markdown",
   "id": "7ae33ce1-4b89-40e7-bb1d-67ee882faa65",
   "metadata": {},
   "source": [
    "### 5. Add total_facilities Column\n",
    "Create a new column, total_facilities, to count the number of facilities listed in the facilities column."
   ]
  },
  {
   "cell_type": "code",
   "execution_count": 42,
   "id": "6fbd4ecd-9bb0-4166-83b2-6c60b4671fa0",
   "metadata": {},
   "outputs": [
    {
     "data": {
      "text/plain": [
       "0        [Car Park, Community Garden, CCTV, Fitness cor...\n",
       "1        [CCTV, Fitness corner, 24 hours security, Swim...\n",
       "2        [Car Park, Clubhouse, Community Garden, CCTV, ...\n",
       "3        [Covered car park, Playground, 24 hours securi...\n",
       "4                    [Covered car park, 24 hours security]\n",
       "                               ...                        \n",
       "14266    [Covered car park, Lounge, 24 hours security, ...\n",
       "14267                                                   []\n",
       "14268    [Clubhouse, Community Garden, CCTV, 24 hours s...\n",
       "14269                                   [Covered car park]\n",
       "14270    [CCTV, Fitness corner, Jacuzzi, 24 hours secur...\n",
       "Name: facilities, Length: 14226, dtype: object"
      ]
     },
     "execution_count": 42,
     "metadata": {},
     "output_type": "execute_result"
    }
   ],
   "source": [
    "# Check what facility column looks like \n",
    "bangkok['facilities']"
   ]
  },
  {
   "cell_type": "code",
   "execution_count": 43,
   "id": "d958f9f7-c1ad-4989-a2cb-83cce44effb5",
   "metadata": {},
   "outputs": [],
   "source": [
    "# Then,count the number of facilities in the 'facilities' column\n",
    "bangkok['total_facilities'] = bangkok['facilities'].apply(lambda x: len(x) if isinstance(x, list) else 0)"
   ]
  },
  {
   "cell_type": "markdown",
   "id": "609bd33c-3114-4678-8245-7d469234f00e",
   "metadata": {},
   "source": [
    "### Recheck the data before saving to prepare for the next process**\n"
   ]
  },
  {
   "cell_type": "code",
   "execution_count": 45,
   "id": "1aff52ae-5722-4657-8c5b-cc59c192b22f",
   "metadata": {},
   "outputs": [
    {
     "data": {
      "text/plain": [
       "nearby_station_distance    7014\n",
       "dtype: int64"
      ]
     },
     "execution_count": 45,
     "metadata": {},
     "output_type": "execute_result"
    }
   ],
   "source": [
    "bangkok.isnull().sum()[bangkok.isnull().sum()!=0]"
   ]
  },
  {
   "cell_type": "code",
   "execution_count": 46,
   "id": "1985618c-b3e6-4f52-9fc7-814eb42ced7e",
   "metadata": {},
   "outputs": [],
   "source": [
    "bangkok.to_csv('../Dataset/bangkok_cleaned.csv',index = False)"
   ]
  },
  {
   "cell_type": "markdown",
   "id": "aa5f3eae-fe2a-42df-8dc4-3f3e4698f0ba",
   "metadata": {},
   "source": [
    "---"
   ]
  },
  {
   "cell_type": "markdown",
   "id": "803940fb-2be3-4aa7-94e8-4ac360d5d5bf",
   "metadata": {},
   "source": [
    "# Test Dataset"
   ]
  },
  {
   "cell_type": "code",
   "execution_count": 49,
   "id": "f4019ef7-2271-4f0e-b201-b27105ba8df0",
   "metadata": {},
   "outputs": [],
   "source": [
    "# Import file\n",
    "bangkok_test = pd.read_json('../Dataset/test.json')"
   ]
  },
  {
   "cell_type": "code",
   "execution_count": 50,
   "id": "0c384dda-f42a-4b3f-accd-14f1f0013ce9",
   "metadata": {},
   "outputs": [],
   "source": [
    "# Fill missing value with 0 as train dataset\n",
    "bangkok_test = bangkok_test.fillna(0)"
   ]
  },
  {
   "cell_type": "code",
   "execution_count": 51,
   "id": "b5eda1ec-5b09-40ec-926f-482aa2e13ec7",
   "metadata": {},
   "outputs": [],
   "source": [
    "# Drop 10 columns\n",
    "bangkok_test.drop(columns=['total_units', 'floor_level', 'land_area', 'nearby_bus_stops', \n",
    "                           'month_built','longitude', 'latitude', 'year_built', 'subdistrict', 'address'], inplace=True)"
   ]
  },
  {
   "cell_type": "code",
   "execution_count": 52,
   "id": "51f35fbb-2a65-4bae-ab01-9021a099b8c7",
   "metadata": {},
   "outputs": [],
   "source": [
    "# Add columns 'total_facilities'\n",
    "bangkok_test['total_facilities'] = bangkok_test['facilities'].apply(lambda x: len(x) if isinstance(x, list) else 0)"
   ]
  },
  {
   "cell_type": "code",
   "execution_count": 53,
   "id": "1cd6873e-268b-4dc1-a2d9-ae967b3cae7c",
   "metadata": {},
   "outputs": [],
   "source": [
    "# Add columns 'station_name'and 'station_distance'\n",
    "bangkok_test[['station_name', 'station_distance']] = bangkok_test['nearby_station_distance'].apply(lambda x: pd.Series(get_closest_station(x)))"
   ]
  },
  {
   "cell_type": "code",
   "execution_count": 54,
   "id": "26db0363-ac8b-44a9-8c7d-db1589df265a",
   "metadata": {},
   "outputs": [],
   "source": [
    "# Save to preprocess\n",
    "bangkok_test.to_csv('../Dataset/test_cleaned.csv',index = False)"
   ]
  }
 ],
 "metadata": {
  "kernelspec": {
   "display_name": "Python 3 (ipykernel)",
   "language": "python",
   "name": "python3"
  },
  "language_info": {
   "codemirror_mode": {
    "name": "ipython",
    "version": 3
   },
   "file_extension": ".py",
   "mimetype": "text/x-python",
   "name": "python",
   "nbconvert_exporter": "python",
   "pygments_lexer": "ipython3",
   "version": "3.12.4"
  }
 },
 "nbformat": 4,
 "nbformat_minor": 5
}
