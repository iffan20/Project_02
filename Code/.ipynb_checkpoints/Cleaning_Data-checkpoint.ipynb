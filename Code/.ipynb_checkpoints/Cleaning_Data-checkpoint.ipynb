{
 "cells": [
  {
   "cell_type": "markdown",
   "id": "70bc9086-7db5-406a-9aba-df06c27fd6c1",
   "metadata": {},
   "source": [
    "#  Exploratory Data Analysis"
   ]
  },
  {
   "cell_type": "code",
   "execution_count": 2,
   "id": "7bf922e0-c6a3-418e-8d37-f2069c67a4ab",
   "metadata": {},
   "outputs": [],
   "source": [
    "import pandas as pd \n",
    "import numpy as np\n",
    "import seaborn as sns\n",
    "import matplotlib.pyplot as plt"
   ]
  },
  {
   "cell_type": "markdown",
   "id": "cb251eb7-2ce8-49ab-b438-52fb05a90aca",
   "metadata": {},
   "source": [
    "## Data overview"
   ]
  },
  {
   "cell_type": "code",
   "execution_count": 4,
   "id": "2350fb7e-3cc2-4cfa-b15b-cc839aaf5237",
   "metadata": {},
   "outputs": [],
   "source": [
    "bangkok = pd.read_json(\"../Dataset/train.json\")"
   ]
  },
  {
   "cell_type": "code",
   "execution_count": 5,
   "id": "8782a688-9796-45f1-8d46-34da4cd929a2",
   "metadata": {},
   "outputs": [
    {
     "data": {
      "text/html": [
       "<div>\n",
       "<style scoped>\n",
       "    .dataframe tbody tr th:only-of-type {\n",
       "        vertical-align: middle;\n",
       "    }\n",
       "\n",
       "    .dataframe tbody tr th {\n",
       "        vertical-align: top;\n",
       "    }\n",
       "\n",
       "    .dataframe thead th {\n",
       "        text-align: right;\n",
       "    }\n",
       "</style>\n",
       "<table border=\"1\" class=\"dataframe\">\n",
       "  <thead>\n",
       "    <tr style=\"text-align: right;\">\n",
       "      <th></th>\n",
       "      <th>id</th>\n",
       "      <th>province</th>\n",
       "      <th>district</th>\n",
       "      <th>subdistrict</th>\n",
       "      <th>address</th>\n",
       "      <th>property_type</th>\n",
       "      <th>total_units</th>\n",
       "      <th>bedrooms</th>\n",
       "      <th>baths</th>\n",
       "      <th>floor_area</th>\n",
       "      <th>...</th>\n",
       "      <th>longitude</th>\n",
       "      <th>nearby_stations</th>\n",
       "      <th>nearby_station_distance</th>\n",
       "      <th>nearby_bus_stops</th>\n",
       "      <th>nearby_supermarkets</th>\n",
       "      <th>nearby_shops</th>\n",
       "      <th>year_built</th>\n",
       "      <th>month_built</th>\n",
       "      <th>facilities</th>\n",
       "      <th>price</th>\n",
       "    </tr>\n",
       "  </thead>\n",
       "  <tbody>\n",
       "    <tr>\n",
       "      <th>0</th>\n",
       "      <td>8448321</td>\n",
       "      <td>Bangkok</td>\n",
       "      <td>Watthana</td>\n",
       "      <td>Phra Khanong Nuea</td>\n",
       "      <td>36 Soi Sukhumvit 63, Ekamai Road</td>\n",
       "      <td>Condo</td>\n",
       "      <td>273.0</td>\n",
       "      <td>2.0</td>\n",
       "      <td>2.0</td>\n",
       "      <td>66</td>\n",
       "      <td>...</td>\n",
       "      <td>100.584850</td>\n",
       "      <td>2</td>\n",
       "      <td>[[E7 Ekkamai BTS, 270], [E6 Thong Lo BTS, 800]]</td>\n",
       "      <td>NaN</td>\n",
       "      <td>16.0</td>\n",
       "      <td>20</td>\n",
       "      <td>2011</td>\n",
       "      <td>June</td>\n",
       "      <td>[Car Park, Community Garden, CCTV, Fitness cor...</td>\n",
       "      <td>8500000</td>\n",
       "    </tr>\n",
       "    <tr>\n",
       "      <th>1</th>\n",
       "      <td>10936325</td>\n",
       "      <td>Bangkok</td>\n",
       "      <td>Watthana</td>\n",
       "      <td>Khlong Toei Nuea</td>\n",
       "      <td>31 สุขุมวิท</td>\n",
       "      <td>Condo</td>\n",
       "      <td>74.0</td>\n",
       "      <td>1.0</td>\n",
       "      <td>1.0</td>\n",
       "      <td>49</td>\n",
       "      <td>...</td>\n",
       "      <td>100.566949</td>\n",
       "      <td>3</td>\n",
       "      <td>[[BL22 Sukhumvit MRT, 720], [BL21 Phetchaburi ...</td>\n",
       "      <td>NaN</td>\n",
       "      <td>11.0</td>\n",
       "      <td>20</td>\n",
       "      <td>2012</td>\n",
       "      <td>September</td>\n",
       "      <td>[CCTV, Fitness corner, 24 hours security, Swim...</td>\n",
       "      <td>5900000</td>\n",
       "    </tr>\n",
       "    <tr>\n",
       "      <th>2</th>\n",
       "      <td>10927931</td>\n",
       "      <td>Bangkok</td>\n",
       "      <td>Khlong Toei</td>\n",
       "      <td>Khlong Tan</td>\n",
       "      <td>68 Sukhumvit 24 Alley, Khong Tan</td>\n",
       "      <td>Condo</td>\n",
       "      <td>940.0</td>\n",
       "      <td>1.0</td>\n",
       "      <td>1.0</td>\n",
       "      <td>34</td>\n",
       "      <td>...</td>\n",
       "      <td>100.565660</td>\n",
       "      <td>2</td>\n",
       "      <td>[[E5 Phrom Phong BTS, 650], [BL23 Queen Siriki...</td>\n",
       "      <td>NaN</td>\n",
       "      <td>20.0</td>\n",
       "      <td>20</td>\n",
       "      <td>2017</td>\n",
       "      <td>January</td>\n",
       "      <td>[Car Park, Clubhouse, Community Garden, CCTV, ...</td>\n",
       "      <td>6290000</td>\n",
       "    </tr>\n",
       "    <tr>\n",
       "      <th>3</th>\n",
       "      <td>11004792</td>\n",
       "      <td>Nonthaburi</td>\n",
       "      <td>Bang Kruai</td>\n",
       "      <td>Bang Khun Kong</td>\n",
       "      <td>Bang Khun Kong</td>\n",
       "      <td>Detached House</td>\n",
       "      <td>NaN</td>\n",
       "      <td>3.0</td>\n",
       "      <td>3.0</td>\n",
       "      <td>170</td>\n",
       "      <td>...</td>\n",
       "      <td>100.428438</td>\n",
       "      <td>0</td>\n",
       "      <td>None</td>\n",
       "      <td>NaN</td>\n",
       "      <td>2.0</td>\n",
       "      <td>4</td>\n",
       "      <td>0</td>\n",
       "      <td>None</td>\n",
       "      <td>[Covered car park, Playground, 24 hours securi...</td>\n",
       "      <td>8900000</td>\n",
       "    </tr>\n",
       "    <tr>\n",
       "      <th>4</th>\n",
       "      <td>10757452</td>\n",
       "      <td>Nonthaburi</td>\n",
       "      <td>Mueang Nonthaburi</td>\n",
       "      <td>Bang Phai</td>\n",
       "      <td>พระราม5-นครอินทร์</td>\n",
       "      <td>Townhouse</td>\n",
       "      <td>NaN</td>\n",
       "      <td>3.0</td>\n",
       "      <td>2.0</td>\n",
       "      <td>120</td>\n",
       "      <td>...</td>\n",
       "      <td>100.494129</td>\n",
       "      <td>1</td>\n",
       "      <td>[[PP09 Yaek Nonthaburi 1 MRT, 10]]</td>\n",
       "      <td>NaN</td>\n",
       "      <td>6.0</td>\n",
       "      <td>15</td>\n",
       "      <td>0</td>\n",
       "      <td>None</td>\n",
       "      <td>[Covered car park, 24 hours security]</td>\n",
       "      <td>2390000</td>\n",
       "    </tr>\n",
       "  </tbody>\n",
       "</table>\n",
       "<p>5 rows × 23 columns</p>\n",
       "</div>"
      ],
      "text/plain": [
       "         id    province           district        subdistrict  \\\n",
       "0   8448321     Bangkok           Watthana  Phra Khanong Nuea   \n",
       "1  10936325     Bangkok           Watthana   Khlong Toei Nuea   \n",
       "2  10927931     Bangkok        Khlong Toei         Khlong Tan   \n",
       "3  11004792  Nonthaburi         Bang Kruai     Bang Khun Kong   \n",
       "4  10757452  Nonthaburi  Mueang Nonthaburi          Bang Phai   \n",
       "\n",
       "                            address   property_type  total_units  bedrooms  \\\n",
       "0  36 Soi Sukhumvit 63, Ekamai Road           Condo        273.0       2.0   \n",
       "1                       31 สุขุมวิท           Condo         74.0       1.0   \n",
       "2  68 Sukhumvit 24 Alley, Khong Tan           Condo        940.0       1.0   \n",
       "3                    Bang Khun Kong  Detached House          NaN       3.0   \n",
       "4                 พระราม5-นครอินทร์       Townhouse          NaN       3.0   \n",
       "\n",
       "   baths  floor_area  ...   longitude  nearby_stations  \\\n",
       "0    2.0          66  ...  100.584850                2   \n",
       "1    1.0          49  ...  100.566949                3   \n",
       "2    1.0          34  ...  100.565660                2   \n",
       "3    3.0         170  ...  100.428438                0   \n",
       "4    2.0         120  ...  100.494129                1   \n",
       "\n",
       "                             nearby_station_distance  nearby_bus_stops  \\\n",
       "0    [[E7 Ekkamai BTS, 270], [E6 Thong Lo BTS, 800]]               NaN   \n",
       "1  [[BL22 Sukhumvit MRT, 720], [BL21 Phetchaburi ...               NaN   \n",
       "2  [[E5 Phrom Phong BTS, 650], [BL23 Queen Siriki...               NaN   \n",
       "3                                               None               NaN   \n",
       "4                 [[PP09 Yaek Nonthaburi 1 MRT, 10]]               NaN   \n",
       "\n",
       "   nearby_supermarkets nearby_shops  year_built  month_built  \\\n",
       "0                 16.0           20        2011         June   \n",
       "1                 11.0           20        2012    September   \n",
       "2                 20.0           20        2017      January   \n",
       "3                  2.0            4           0         None   \n",
       "4                  6.0           15           0         None   \n",
       "\n",
       "                                          facilities    price  \n",
       "0  [Car Park, Community Garden, CCTV, Fitness cor...  8500000  \n",
       "1  [CCTV, Fitness corner, 24 hours security, Swim...  5900000  \n",
       "2  [Car Park, Clubhouse, Community Garden, CCTV, ...  6290000  \n",
       "3  [Covered car park, Playground, 24 hours securi...  8900000  \n",
       "4              [Covered car park, 24 hours security]  2390000  \n",
       "\n",
       "[5 rows x 23 columns]"
      ]
     },
     "execution_count": 5,
     "metadata": {},
     "output_type": "execute_result"
    }
   ],
   "source": [
    "bangkok.head()"
   ]
  },
  {
   "cell_type": "code",
   "execution_count": 6,
   "id": "eff00f30-ab99-42ce-ab39-4d097f2879d0",
   "metadata": {},
   "outputs": [
    {
     "data": {
      "text/plain": [
       "(14271, 23)"
      ]
     },
     "execution_count": 6,
     "metadata": {},
     "output_type": "execute_result"
    }
   ],
   "source": [
    "bangkok.shape"
   ]
  },
  {
   "cell_type": "code",
   "execution_count": 7,
   "id": "f1d47496-af61-4334-a238-7787813f8a6e",
   "metadata": {},
   "outputs": [
    {
     "data": {
      "text/plain": [
       "id                           int64\n",
       "province                    object\n",
       "district                    object\n",
       "subdistrict                 object\n",
       "address                     object\n",
       "property_type               object\n",
       "total_units                float64\n",
       "bedrooms                   float64\n",
       "baths                      float64\n",
       "floor_area                   int64\n",
       "floor_level                float64\n",
       "land_area                  float64\n",
       "latitude                   float64\n",
       "longitude                  float64\n",
       "nearby_stations              int64\n",
       "nearby_station_distance     object\n",
       "nearby_bus_stops           float64\n",
       "nearby_supermarkets        float64\n",
       "nearby_shops                 int64\n",
       "year_built                   int64\n",
       "month_built                 object\n",
       "facilities                  object\n",
       "price                        int64\n",
       "dtype: object"
      ]
     },
     "execution_count": 7,
     "metadata": {},
     "output_type": "execute_result"
    }
   ],
   "source": [
    "bangkok.dtypes"
   ]
  },
  {
   "cell_type": "code",
   "execution_count": 8,
   "id": "adc0d7a0-118d-4165-b175-5dbbd4fa78b8",
   "metadata": {},
   "outputs": [
    {
     "data": {
      "text/plain": [
       "subdistrict                  11\n",
       "total_units                3762\n",
       "bedrooms                     43\n",
       "baths                        35\n",
       "floor_level                6178\n",
       "land_area                  9354\n",
       "nearby_station_distance    7043\n",
       "nearby_bus_stops           8262\n",
       "nearby_supermarkets         386\n",
       "month_built                5874\n",
       "dtype: int64"
      ]
     },
     "execution_count": 8,
     "metadata": {},
     "output_type": "execute_result"
    }
   ],
   "source": [
    "bangkok.isnull().sum()[bangkok.isnull().sum() != 0]"
   ]
  },
  {
   "cell_type": "code",
   "execution_count": 9,
   "id": "b1844dc4-f90a-4faa-9fab-9e5f74c32ce4",
   "metadata": {
    "scrolled": true
   },
   "outputs": [
    {
     "data": {
      "text/html": [
       "<div>\n",
       "<style scoped>\n",
       "    .dataframe tbody tr th:only-of-type {\n",
       "        vertical-align: middle;\n",
       "    }\n",
       "\n",
       "    .dataframe tbody tr th {\n",
       "        vertical-align: top;\n",
       "    }\n",
       "\n",
       "    .dataframe thead th {\n",
       "        text-align: right;\n",
       "    }\n",
       "</style>\n",
       "<table border=\"1\" class=\"dataframe\">\n",
       "  <thead>\n",
       "    <tr style=\"text-align: right;\">\n",
       "      <th></th>\n",
       "      <th>id</th>\n",
       "      <th>total_units</th>\n",
       "      <th>bedrooms</th>\n",
       "      <th>baths</th>\n",
       "      <th>floor_area</th>\n",
       "      <th>floor_level</th>\n",
       "      <th>land_area</th>\n",
       "      <th>latitude</th>\n",
       "      <th>longitude</th>\n",
       "      <th>nearby_stations</th>\n",
       "      <th>nearby_bus_stops</th>\n",
       "      <th>nearby_supermarkets</th>\n",
       "      <th>nearby_shops</th>\n",
       "      <th>year_built</th>\n",
       "      <th>price</th>\n",
       "    </tr>\n",
       "  </thead>\n",
       "  <tbody>\n",
       "    <tr>\n",
       "      <th>count</th>\n",
       "      <td>1.427100e+04</td>\n",
       "      <td>10509.000000</td>\n",
       "      <td>14228.000000</td>\n",
       "      <td>14236.000000</td>\n",
       "      <td>14271.000000</td>\n",
       "      <td>8093.000000</td>\n",
       "      <td>4917.000000</td>\n",
       "      <td>14271.000000</td>\n",
       "      <td>14271.000000</td>\n",
       "      <td>14271.000000</td>\n",
       "      <td>6009.000000</td>\n",
       "      <td>13885.000000</td>\n",
       "      <td>14271.000000</td>\n",
       "      <td>14271.000000</td>\n",
       "      <td>1.427100e+04</td>\n",
       "    </tr>\n",
       "    <tr>\n",
       "      <th>mean</th>\n",
       "      <td>1.062614e+07</td>\n",
       "      <td>712.655438</td>\n",
       "      <td>1.880728</td>\n",
       "      <td>1.618292</td>\n",
       "      <td>79.867283</td>\n",
       "      <td>11.322995</td>\n",
       "      <td>242.963596</td>\n",
       "      <td>13.762814</td>\n",
       "      <td>100.565017</td>\n",
       "      <td>0.956415</td>\n",
       "      <td>14.049426</td>\n",
       "      <td>9.002161</td>\n",
       "      <td>10.447060</td>\n",
       "      <td>1422.737440</td>\n",
       "      <td>4.044124e+06</td>\n",
       "    </tr>\n",
       "    <tr>\n",
       "      <th>std</th>\n",
       "      <td>8.030103e+05</td>\n",
       "      <td>554.558340</td>\n",
       "      <td>1.092817</td>\n",
       "      <td>0.872875</td>\n",
       "      <td>69.701181</td>\n",
       "      <td>9.064835</td>\n",
       "      <td>3083.223006</td>\n",
       "      <td>0.092787</td>\n",
       "      <td>0.089575</td>\n",
       "      <td>1.085255</td>\n",
       "      <td>6.496828</td>\n",
       "      <td>5.348001</td>\n",
       "      <td>6.950903</td>\n",
       "      <td>917.737592</td>\n",
       "      <td>2.179909e+06</td>\n",
       "    </tr>\n",
       "    <tr>\n",
       "      <th>min</th>\n",
       "      <td>1.025114e+06</td>\n",
       "      <td>1.000000</td>\n",
       "      <td>1.000000</td>\n",
       "      <td>0.000000</td>\n",
       "      <td>1.000000</td>\n",
       "      <td>1.000000</td>\n",
       "      <td>16.000000</td>\n",
       "      <td>13.517062</td>\n",
       "      <td>100.273931</td>\n",
       "      <td>0.000000</td>\n",
       "      <td>1.000000</td>\n",
       "      <td>1.000000</td>\n",
       "      <td>1.000000</td>\n",
       "      <td>0.000000</td>\n",
       "      <td>4.800000e+05</td>\n",
       "    </tr>\n",
       "    <tr>\n",
       "      <th>25%</th>\n",
       "      <td>1.064588e+07</td>\n",
       "      <td>318.000000</td>\n",
       "      <td>1.000000</td>\n",
       "      <td>1.000000</td>\n",
       "      <td>32.000000</td>\n",
       "      <td>4.000000</td>\n",
       "      <td>80.000000</td>\n",
       "      <td>13.705177</td>\n",
       "      <td>100.512628</td>\n",
       "      <td>0.000000</td>\n",
       "      <td>8.000000</td>\n",
       "      <td>5.000000</td>\n",
       "      <td>4.000000</td>\n",
       "      <td>0.000000</td>\n",
       "      <td>2.250000e+06</td>\n",
       "    </tr>\n",
       "    <tr>\n",
       "      <th>50%</th>\n",
       "      <td>1.086984e+07</td>\n",
       "      <td>554.000000</td>\n",
       "      <td>1.000000</td>\n",
       "      <td>1.000000</td>\n",
       "      <td>47.000000</td>\n",
       "      <td>8.000000</td>\n",
       "      <td>116.000000</td>\n",
       "      <td>13.753742</td>\n",
       "      <td>100.569721</td>\n",
       "      <td>1.000000</td>\n",
       "      <td>17.000000</td>\n",
       "      <td>8.000000</td>\n",
       "      <td>9.000000</td>\n",
       "      <td>2013.000000</td>\n",
       "      <td>3.500000e+06</td>\n",
       "    </tr>\n",
       "    <tr>\n",
       "      <th>75%</th>\n",
       "      <td>1.097710e+07</td>\n",
       "      <td>945.000000</td>\n",
       "      <td>3.000000</td>\n",
       "      <td>2.000000</td>\n",
       "      <td>112.000000</td>\n",
       "      <td>17.000000</td>\n",
       "      <td>212.000000</td>\n",
       "      <td>13.837514</td>\n",
       "      <td>100.608786</td>\n",
       "      <td>2.000000</td>\n",
       "      <td>20.000000</td>\n",
       "      <td>13.000000</td>\n",
       "      <td>19.000000</td>\n",
       "      <td>2017.000000</td>\n",
       "      <td>5.500000e+06</td>\n",
       "    </tr>\n",
       "    <tr>\n",
       "      <th>max</th>\n",
       "      <td>1.104790e+07</td>\n",
       "      <td>4000.000000</td>\n",
       "      <td>10.000000</td>\n",
       "      <td>9.000000</td>\n",
       "      <td>766.000000</td>\n",
       "      <td>55.000000</td>\n",
       "      <td>137664.000000</td>\n",
       "      <td>14.022246</td>\n",
       "      <td>100.905485</td>\n",
       "      <td>3.000000</td>\n",
       "      <td>20.000000</td>\n",
       "      <td>20.000000</td>\n",
       "      <td>20.000000</td>\n",
       "      <td>2023.000000</td>\n",
       "      <td>9.999000e+06</td>\n",
       "    </tr>\n",
       "  </tbody>\n",
       "</table>\n",
       "</div>"
      ],
      "text/plain": [
       "                 id   total_units      bedrooms         baths    floor_area  \\\n",
       "count  1.427100e+04  10509.000000  14228.000000  14236.000000  14271.000000   \n",
       "mean   1.062614e+07    712.655438      1.880728      1.618292     79.867283   \n",
       "std    8.030103e+05    554.558340      1.092817      0.872875     69.701181   \n",
       "min    1.025114e+06      1.000000      1.000000      0.000000      1.000000   \n",
       "25%    1.064588e+07    318.000000      1.000000      1.000000     32.000000   \n",
       "50%    1.086984e+07    554.000000      1.000000      1.000000     47.000000   \n",
       "75%    1.097710e+07    945.000000      3.000000      2.000000    112.000000   \n",
       "max    1.104790e+07   4000.000000     10.000000      9.000000    766.000000   \n",
       "\n",
       "       floor_level      land_area      latitude     longitude  \\\n",
       "count  8093.000000    4917.000000  14271.000000  14271.000000   \n",
       "mean     11.322995     242.963596     13.762814    100.565017   \n",
       "std       9.064835    3083.223006      0.092787      0.089575   \n",
       "min       1.000000      16.000000     13.517062    100.273931   \n",
       "25%       4.000000      80.000000     13.705177    100.512628   \n",
       "50%       8.000000     116.000000     13.753742    100.569721   \n",
       "75%      17.000000     212.000000     13.837514    100.608786   \n",
       "max      55.000000  137664.000000     14.022246    100.905485   \n",
       "\n",
       "       nearby_stations  nearby_bus_stops  nearby_supermarkets  nearby_shops  \\\n",
       "count     14271.000000       6009.000000         13885.000000  14271.000000   \n",
       "mean          0.956415         14.049426             9.002161     10.447060   \n",
       "std           1.085255          6.496828             5.348001      6.950903   \n",
       "min           0.000000          1.000000             1.000000      1.000000   \n",
       "25%           0.000000          8.000000             5.000000      4.000000   \n",
       "50%           1.000000         17.000000             8.000000      9.000000   \n",
       "75%           2.000000         20.000000            13.000000     19.000000   \n",
       "max           3.000000         20.000000            20.000000     20.000000   \n",
       "\n",
       "         year_built         price  \n",
       "count  14271.000000  1.427100e+04  \n",
       "mean    1422.737440  4.044124e+06  \n",
       "std      917.737592  2.179909e+06  \n",
       "min        0.000000  4.800000e+05  \n",
       "25%        0.000000  2.250000e+06  \n",
       "50%     2013.000000  3.500000e+06  \n",
       "75%     2017.000000  5.500000e+06  \n",
       "max     2023.000000  9.999000e+06  "
      ]
     },
     "execution_count": 9,
     "metadata": {},
     "output_type": "execute_result"
    }
   ],
   "source": [
    "bangkok.describe()"
   ]
  },
  {
   "cell_type": "code",
   "execution_count": 10,
   "id": "b4c985ec-afb6-4da7-beb7-7bc3d208b8f2",
   "metadata": {},
   "outputs": [
    {
     "data": {
      "text/plain": [
       "subdistrict                  11\n",
       "total_units                3762\n",
       "bedrooms                     43\n",
       "baths                        35\n",
       "floor_level                6178\n",
       "land_area                  9354\n",
       "nearby_station_distance    7043\n",
       "nearby_bus_stops           8262\n",
       "nearby_supermarkets         386\n",
       "month_built                5874\n",
       "dtype: int64"
      ]
     },
     "execution_count": 10,
     "metadata": {},
     "output_type": "execute_result"
    }
   ],
   "source": [
    "bangkok.isnull().sum()[bangkok.isnull().sum() != 0]"
   ]
  },
  {
   "cell_type": "code",
   "execution_count": 11,
   "id": "142cd99d-ab8d-4c15-b475-08bf84a3d18f",
   "metadata": {},
   "outputs": [
    {
     "data": {
      "text/plain": [
       "subdistrict                 0.077079\n",
       "total_units                26.361152\n",
       "bedrooms                    0.301310\n",
       "baths                       0.245253\n",
       "floor_level                43.290589\n",
       "land_area                  65.545512\n",
       "nearby_station_distance    49.351832\n",
       "nearby_bus_stops           57.893630\n",
       "nearby_supermarkets         2.704786\n",
       "month_built                41.160395\n",
       "dtype: float64"
      ]
     },
     "execution_count": 11,
     "metadata": {},
     "output_type": "execute_result"
    }
   ],
   "source": [
    "# Looking at the Percentage of Missing Values\n",
    "bangkok.isnull().sum()[bangkok.isnull().sum() != 0]/(bangkok.shape[0])*100"
   ]
  },
  {
   "cell_type": "markdown",
   "id": "69a99442-e80d-4028-bbc2-07ec62783987",
   "metadata": {},
   "source": [
    "---"
   ]
  },
  {
   "cell_type": "markdown",
   "id": "8ed499a7-ab95-45e3-8d37-6b89351f4dcb",
   "metadata": {},
   "source": [
    "## Exploring and Cleaning Data\n",
    "1. Drop the rows that do not contribute to a better model.\n",
    "2. Check the correlation between features.\n",
    "3. Clean the values in the columns for easier use in the model.\n",
    "4. Drop the columns that are not used in the model.\n",
    "5. Add columns that will help improve the model.\n",
    "6. Recheck and save for the next process."
   ]
  },
  {
   "cell_type": "markdown",
   "id": "bdf7d441-d637-461c-8f4a-b3b3c5865556",
   "metadata": {},
   "source": [
    "### 1. Drop rows"
   ]
  },
  {
   "cell_type": "code",
   "execution_count": 15,
   "id": "0a870d3d-058c-4748-8e8c-76ad4c8ee6c9",
   "metadata": {
    "scrolled": true
   },
   "outputs": [],
   "source": [
    "# Drop the observations that have missing values in bedrooms or baths. (78 observations)\n",
    "bangkok = bangkok[~((bangkok['bedrooms'].isnull()) | (bangkok['baths'].isnull()))]\n",
    "\n",
    "# Drop the observations where baths plus bedrooms exceed total units\n",
    "# because total units should equal or exceed the sum of baths and bedrooms. (18 observations)\n",
    "bangkok = bangkok[~((bangkok['baths'] + bangkok['bedrooms']) > bangkok['total_units'])]"
   ]
  },
  {
   "cell_type": "markdown",
   "id": "a7c391d5-5e7d-45ff-a232-57a10596a1c7",
   "metadata": {},
   "source": [
    "### 2. Check the correlation between features"
   ]
  },
  {
   "cell_type": "code",
   "execution_count": 17,
   "id": "9ffb7255-67fb-4c70-9bf2-6e4bfee25f5f",
   "metadata": {},
   "outputs": [],
   "source": [
    "numeric_bangkok = bangkok.select_dtypes(include=['float64', 'int64'])\n",
    "numeric_bangkok.drop(columns = ['id','total_units','floor_level','land_area','nearby_bus_stops'], inplace = True)"
   ]
  },
  {
   "cell_type": "code",
   "execution_count": 18,
   "id": "2ca02b8c-0c1f-48f0-bc7e-f61e3725b290",
   "metadata": {},
   "outputs": [
    {
     "data": {
      "image/png": "[encoded data removed]",
      "text/plain": [
       "<Figure size 1000x800 with 2 Axes>"
      ]
     },
     "metadata": {},
     "output_type": "display_data"
    }
   ],
   "source": [
    "# Looking at the correlation between numeric columns, excluding columns that have missing values above a certain threshold.\n",
    "plt.figure(figsize=(10, 8))\n",
    "sns.heatmap(numeric_bangkok.corr(), annot=True, cmap='coolwarm', linewidths=0.5)\n",
    "plt.title('Correlation Heatmap')\n",
    "plt.show()"
   ]
  },
  {
   "cell_type": "code",
   "execution_count": 19,
   "id": "99545c0e-379a-45c2-8aed-d97dd45435f3",
   "metadata": {},
   "outputs": [
    {
     "data": {
      "image/png": "[encoded data removed]",
      "text/plain": [
       "<Figure size 750x750 with 9 Axes>"
      ]
     },
     "metadata": {},
     "output_type": "display_data"
    }
   ],
   "source": [
    "# Pairplot to check only the strong correlations with other variables.\n",
    "sns.pairplot(numeric_bangkok[['baths','bedrooms','floor_area']], corner = True)\n",
    "plt.show();"
   ]
  },
  {
   "cell_type": "code",
   "execution_count": 20,
   "id": "2650e6b1-ae46-4fc2-8cb2-b1ad596a2eb4",
   "metadata": {},
   "outputs": [
    {
     "data": {
      "image/png": "[encoded data removed]",
      "text/plain": [
       "<Figure size 640x480 with 2 Axes>"
      ]
     },
     "metadata": {},
     "output_type": "display_data"
    }
   ],
   "source": [
    "# Visualize the correlation of numeric variables with 'price', sorted in descending order.\n",
    "sns.heatmap(numeric_bangkok.corr()[['price']].sort_values(by='price', ascending=False), \n",
    "            cmap='coolwarm',\n",
    "            annot=True)\n",
    "plt.yticks(rotation=0);"
   ]
  },
  {
   "cell_type": "code",
   "execution_count": 21,
   "id": "b31d8dd6-4a56-4adb-9ff3-5d0d3a8fdee5",
   "metadata": {},
   "outputs": [],
   "source": [
    "# The variables longitude, latitude, and year_built show the least correlation with the price."
   ]
  },
  {
   "cell_type": "markdown",
   "id": "c1325c52-976c-4a6f-9fb6-a2737528b6fd",
   "metadata": {},
   "source": [
    "### 3. Clean the values in the columns"
   ]
  },
  {
   "cell_type": "code",
   "execution_count": 23,
   "id": "60203cc5-8ff9-4c04-b141-af13c64ed645",
   "metadata": {},
   "outputs": [
    {
     "data": {
      "text/plain": [
       "0      [[E7 Ekkamai BTS, 270], [E6 Thong Lo BTS, 800]]\n",
       "1    [[BL22 Sukhumvit MRT, 720], [BL21 Phetchaburi ...\n",
       "2    [[E5 Phrom Phong BTS, 650], [BL23 Queen Siriki...\n",
       "3                                                 None\n",
       "4                   [[PP09 Yaek Nonthaburi 1 MRT, 10]]\n",
       "Name: nearby_station_distance, dtype: object"
      ]
     },
     "execution_count": 23,
     "metadata": {},
     "output_type": "execute_result"
    }
   ],
   "source": [
    "# The nearby_station_distance column contains a list of station names and their distances.\n",
    "# Next, we will clean this column.\n",
    "bangkok['nearby_station_distance'].head()"
   ]
  },
  {
   "cell_type": "code",
   "execution_count": 24,
   "id": "b1070318-09e0-45fc-a89f-3d788bbfd655",
   "metadata": {},
   "outputs": [
    {
     "data": {
      "text/html": [
       "<div>\n",
       "<style scoped>\n",
       "    .dataframe tbody tr th:only-of-type {\n",
       "        vertical-align: middle;\n",
       "    }\n",
       "\n",
       "    .dataframe tbody tr th {\n",
       "        vertical-align: top;\n",
       "    }\n",
       "\n",
       "    .dataframe thead th {\n",
       "        text-align: right;\n",
       "    }\n",
       "</style>\n",
       "<table border=\"1\" class=\"dataframe\">\n",
       "  <thead>\n",
       "    <tr style=\"text-align: right;\">\n",
       "      <th></th>\n",
       "      <th>id</th>\n",
       "      <th>province</th>\n",
       "      <th>district</th>\n",
       "      <th>subdistrict</th>\n",
       "      <th>address</th>\n",
       "      <th>property_type</th>\n",
       "      <th>total_units</th>\n",
       "      <th>bedrooms</th>\n",
       "      <th>baths</th>\n",
       "      <th>floor_area</th>\n",
       "      <th>...</th>\n",
       "      <th>nearby_station_distance</th>\n",
       "      <th>nearby_bus_stops</th>\n",
       "      <th>nearby_supermarkets</th>\n",
       "      <th>nearby_shops</th>\n",
       "      <th>year_built</th>\n",
       "      <th>month_built</th>\n",
       "      <th>facilities</th>\n",
       "      <th>price</th>\n",
       "      <th>station_name</th>\n",
       "      <th>station_distance</th>\n",
       "    </tr>\n",
       "  </thead>\n",
       "  <tbody>\n",
       "    <tr>\n",
       "      <th>0</th>\n",
       "      <td>8448321</td>\n",
       "      <td>Bangkok</td>\n",
       "      <td>Watthana</td>\n",
       "      <td>Phra Khanong Nuea</td>\n",
       "      <td>36 Soi Sukhumvit 63, Ekamai Road</td>\n",
       "      <td>Condo</td>\n",
       "      <td>273.0</td>\n",
       "      <td>2.0</td>\n",
       "      <td>2.0</td>\n",
       "      <td>66</td>\n",
       "      <td>...</td>\n",
       "      <td>[[E7 Ekkamai BTS, 270], [E6 Thong Lo BTS, 800]]</td>\n",
       "      <td>NaN</td>\n",
       "      <td>16.0</td>\n",
       "      <td>20</td>\n",
       "      <td>2011</td>\n",
       "      <td>June</td>\n",
       "      <td>[Car Park, Community Garden, CCTV, Fitness cor...</td>\n",
       "      <td>8500000</td>\n",
       "      <td>Ekkamai</td>\n",
       "      <td>270</td>\n",
       "    </tr>\n",
       "    <tr>\n",
       "      <th>1</th>\n",
       "      <td>10936325</td>\n",
       "      <td>Bangkok</td>\n",
       "      <td>Watthana</td>\n",
       "      <td>Khlong Toei Nuea</td>\n",
       "      <td>31 สุขุมวิท</td>\n",
       "      <td>Condo</td>\n",
       "      <td>74.0</td>\n",
       "      <td>1.0</td>\n",
       "      <td>1.0</td>\n",
       "      <td>49</td>\n",
       "      <td>...</td>\n",
       "      <td>[[BL22 Sukhumvit MRT, 720], [BL21 Phetchaburi ...</td>\n",
       "      <td>NaN</td>\n",
       "      <td>11.0</td>\n",
       "      <td>20</td>\n",
       "      <td>2012</td>\n",
       "      <td>September</td>\n",
       "      <td>[CCTV, Fitness corner, 24 hours security, Swim...</td>\n",
       "      <td>5900000</td>\n",
       "      <td>Sukhumvit</td>\n",
       "      <td>720</td>\n",
       "    </tr>\n",
       "    <tr>\n",
       "      <th>2</th>\n",
       "      <td>10927931</td>\n",
       "      <td>Bangkok</td>\n",
       "      <td>Khlong Toei</td>\n",
       "      <td>Khlong Tan</td>\n",
       "      <td>68 Sukhumvit 24 Alley, Khong Tan</td>\n",
       "      <td>Condo</td>\n",
       "      <td>940.0</td>\n",
       "      <td>1.0</td>\n",
       "      <td>1.0</td>\n",
       "      <td>34</td>\n",
       "      <td>...</td>\n",
       "      <td>[[E5 Phrom Phong BTS, 650], [BL23 Queen Siriki...</td>\n",
       "      <td>NaN</td>\n",
       "      <td>20.0</td>\n",
       "      <td>20</td>\n",
       "      <td>2017</td>\n",
       "      <td>January</td>\n",
       "      <td>[Car Park, Clubhouse, Community Garden, CCTV, ...</td>\n",
       "      <td>6290000</td>\n",
       "      <td>Phrom Phong</td>\n",
       "      <td>650</td>\n",
       "    </tr>\n",
       "    <tr>\n",
       "      <th>3</th>\n",
       "      <td>11004792</td>\n",
       "      <td>Nonthaburi</td>\n",
       "      <td>Bang Kruai</td>\n",
       "      <td>Bang Khun Kong</td>\n",
       "      <td>Bang Khun Kong</td>\n",
       "      <td>Detached House</td>\n",
       "      <td>NaN</td>\n",
       "      <td>3.0</td>\n",
       "      <td>3.0</td>\n",
       "      <td>170</td>\n",
       "      <td>...</td>\n",
       "      <td>None</td>\n",
       "      <td>NaN</td>\n",
       "      <td>2.0</td>\n",
       "      <td>4</td>\n",
       "      <td>0</td>\n",
       "      <td>None</td>\n",
       "      <td>[Covered car park, Playground, 24 hours securi...</td>\n",
       "      <td>8900000</td>\n",
       "      <td>-</td>\n",
       "      <td>0</td>\n",
       "    </tr>\n",
       "    <tr>\n",
       "      <th>4</th>\n",
       "      <td>10757452</td>\n",
       "      <td>Nonthaburi</td>\n",
       "      <td>Mueang Nonthaburi</td>\n",
       "      <td>Bang Phai</td>\n",
       "      <td>พระราม5-นครอินทร์</td>\n",
       "      <td>Townhouse</td>\n",
       "      <td>NaN</td>\n",
       "      <td>3.0</td>\n",
       "      <td>2.0</td>\n",
       "      <td>120</td>\n",
       "      <td>...</td>\n",
       "      <td>[[PP09 Yaek Nonthaburi 1 MRT, 10]]</td>\n",
       "      <td>NaN</td>\n",
       "      <td>6.0</td>\n",
       "      <td>15</td>\n",
       "      <td>0</td>\n",
       "      <td>None</td>\n",
       "      <td>[Covered car park, 24 hours security]</td>\n",
       "      <td>2390000</td>\n",
       "      <td>Yaek Nonthaburi 1</td>\n",
       "      <td>10</td>\n",
       "    </tr>\n",
       "  </tbody>\n",
       "</table>\n",
       "<p>5 rows × 25 columns</p>\n",
       "</div>"
      ],
      "text/plain": [
       "         id    province           district        subdistrict  \\\n",
       "0   8448321     Bangkok           Watthana  Phra Khanong Nuea   \n",
       "1  10936325     Bangkok           Watthana   Khlong Toei Nuea   \n",
       "2  10927931     Bangkok        Khlong Toei         Khlong Tan   \n",
       "3  11004792  Nonthaburi         Bang Kruai     Bang Khun Kong   \n",
       "4  10757452  Nonthaburi  Mueang Nonthaburi          Bang Phai   \n",
       "\n",
       "                            address   property_type  total_units  bedrooms  \\\n",
       "0  36 Soi Sukhumvit 63, Ekamai Road           Condo        273.0       2.0   \n",
       "1                       31 สุขุมวิท           Condo         74.0       1.0   \n",
       "2  68 Sukhumvit 24 Alley, Khong Tan           Condo        940.0       1.0   \n",
       "3                    Bang Khun Kong  Detached House          NaN       3.0   \n",
       "4                 พระราม5-นครอินทร์       Townhouse          NaN       3.0   \n",
       "\n",
       "   baths  floor_area  ...                            nearby_station_distance  \\\n",
       "0    2.0          66  ...    [[E7 Ekkamai BTS, 270], [E6 Thong Lo BTS, 800]]   \n",
       "1    1.0          49  ...  [[BL22 Sukhumvit MRT, 720], [BL21 Phetchaburi ...   \n",
       "2    1.0          34  ...  [[E5 Phrom Phong BTS, 650], [BL23 Queen Siriki...   \n",
       "3    3.0         170  ...                                               None   \n",
       "4    2.0         120  ...                 [[PP09 Yaek Nonthaburi 1 MRT, 10]]   \n",
       "\n",
       "   nearby_bus_stops  nearby_supermarkets  nearby_shops  year_built  \\\n",
       "0               NaN                 16.0            20        2011   \n",
       "1               NaN                 11.0            20        2012   \n",
       "2               NaN                 20.0            20        2017   \n",
       "3               NaN                  2.0             4           0   \n",
       "4               NaN                  6.0            15           0   \n",
       "\n",
       "  month_built                                         facilities    price  \\\n",
       "0        June  [Car Park, Community Garden, CCTV, Fitness cor...  8500000   \n",
       "1   September  [CCTV, Fitness corner, 24 hours security, Swim...  5900000   \n",
       "2     January  [Car Park, Clubhouse, Community Garden, CCTV, ...  6290000   \n",
       "3        None  [Covered car park, Playground, 24 hours securi...  8900000   \n",
       "4        None              [Covered car park, 24 hours security]  2390000   \n",
       "\n",
       "        station_name  station_distance  \n",
       "0            Ekkamai               270  \n",
       "1          Sukhumvit               720  \n",
       "2        Phrom Phong               650  \n",
       "3                  -                 0  \n",
       "4  Yaek Nonthaburi 1                10  \n",
       "\n",
       "[5 rows x 25 columns]"
      ]
     },
     "execution_count": 24,
     "metadata": {},
     "output_type": "execute_result"
    }
   ],
   "source": [
    "# Function to extract the closest station name and its distance from a list of station info.\n",
    "# It first checks if the input is empty or None, returning a placeholder if so.\n",
    "# It then creates a list of tuples containing station names and distances.\n",
    "# The function identifies the station with the minimum distance and cleans its name\n",
    "# by splitting the string, checking for 'BTS' or 'MRT' indicators, and removing unnecessary terms.\n",
    "\n",
    "def get_closest_station(station_info_list):\n",
    "    if station_info_list in [None, 0] or len(station_info_list) == 0:\n",
    "        return '-', 0\n",
    "    \n",
    "    stations_with_values = [(item[0].split(',')[0], item[1]) for item in station_info_list if isinstance(item, list)]\n",
    "    \n",
    "    min_station = min(stations_with_values, key=lambda x: x[1])[0]  \n",
    "    station_distance = min(stations_with_values, key=lambda x: x[1])[1] \n",
    "\n",
    "    text = min_station.split(' ')\n",
    "        \n",
    "    index_bts = text.index('BTS') if 'BTS' in text else -1\n",
    "    index_mrt = text.index('MRT') if 'MRT' in text else -1\n",
    "    \n",
    "    if index_bts != -1:\n",
    "        range_index = index_bts\n",
    "    elif index_mrt != -1:\n",
    "        range_index = index_mrt\n",
    "    else:\n",
    "        range_index = len(text)\n",
    "\n",
    "    # Constructing the cleaned station name by joining relevant parts\n",
    "    station_name = ' '.join(text[1:range_index]).replace('SRT','').replace('Airport Link','').replace('BRT','').strip()\n",
    "\n",
    "    return station_name, station_distance\n",
    "\n",
    "# Apply the function to extract and assign the closest station name and distance to new columns\n",
    "bangkok[['station_name', 'station_distance']] = bangkok['nearby_station_distance'].apply(lambda x: pd.Series(get_closest_station(x)))\n",
    "\n",
    "bangkok.head()\n"
   ]
  },
  {
   "cell_type": "markdown",
   "id": "8daf0d37-1b9c-492b-a58f-a0bf9b61d062",
   "metadata": {},
   "source": [
    "### 4. Drop columns"
   ]
  },
  {
   "cell_type": "code",
   "execution_count": 26,
   "id": "5ef3c975-4401-461b-8777-df25f054ccbb",
   "metadata": {
    "scrolled": true
   },
   "outputs": [
    {
     "data": {
      "text/plain": [
       "subdistrict                 0.077421\n",
       "total_units                26.337275\n",
       "floor_level                43.257320\n",
       "land_area                  65.533502\n",
       "nearby_station_distance    49.303209\n",
       "nearby_bus_stops           57.932151\n",
       "nearby_supermarkets         2.695664\n",
       "month_built                41.181025\n",
       "dtype: float64"
      ]
     },
     "execution_count": 26,
     "metadata": {},
     "output_type": "execute_result"
    }
   ],
   "source": [
    "# Checking the percentage of missing values in the DataFrame\n",
    "bangkok.isnull().sum()[bangkok.isnull().sum() != 0]/(bangkok.shape[0])*100"
   ]
  },
  {
   "cell_type": "code",
   "execution_count": 27,
   "id": "b3fe160e-67eb-4fde-a15f-96dc910ca981",
   "metadata": {},
   "outputs": [
    {
     "name": "stdout",
     "output_type": "stream",
     "text": [
      " district: 58\n",
      " property_type: 3\n",
      " address: 2609\n",
      " station_name: 134\n",
      " month_built: 12\n",
      " province: 3\n",
      " subdistrict: 239\n"
     ]
    }
   ],
   "source": [
    "# Checking the total number of unique values in categorical data, \n",
    "# excluding 'nearby_station_distance' and 'facilities' since they both contain lists.\n",
    "object_columns = set(bangkok.select_dtypes(include=['object']).columns)- set(['nearby_station_distance','facilities'])\n",
    "for i in object_columns:\n",
    "    print(f\" {i}: {bangkok[i].nunique()}\")"
   ]
  },
  {
   "cell_type": "code",
   "execution_count": 28,
   "id": "6ec63022-aa7f-45bb-a199-efa55aa7836d",
   "metadata": {},
   "outputs": [],
   "source": [
    "# Three criteria for dropping columns:\n",
    "# 1. Drop columns with more than 20% missing values, except for 'nearby_station_distance' (5 columns):\n",
    "#    columns ---> total_units, floor_level, land_area, nearby_bus_stops, month_built\n",
    "\n",
    "# 2. Drop columns that have the least correlation with price (3 columns):\n",
    "#    columns ---> longitude, latitude, year_built\n",
    "\n",
    "# 3. Drop columns with many unique values in categorical data (2 columns):\n",
    "#    This is because encoding such columns could negatively impact the model.\n",
    "#    columns ---> subdistrict, address\n",
    "\n",
    "# Drop all 10 specified columns\n",
    "bangkok.drop(columns=['total_units', 'floor_level', 'land_area', 'nearby_bus_stops', \n",
    "                      'month_built', 'longitude', 'latitude', 'year_built', 'subdistrict', 'address'], inplace=True)\n"
   ]
  },
  {
   "cell_type": "code",
   "execution_count": 29,
   "id": "67e56ac1-3aa9-4a71-b4f3-aa85c429bc2d",
   "metadata": {},
   "outputs": [],
   "source": [
    "# Fill missing values with 0 in 'nearby_supermarkets' as it is used in the model\n",
    "bangkok['nearby_supermarkets'] = bangkok['nearby_supermarkets'].fillna(0)"
   ]
  },
  {
   "cell_type": "markdown",
   "id": "7ae33ce1-4b89-40e7-bb1d-67ee882faa65",
   "metadata": {},
   "source": [
    "### 5. Add columns"
   ]
  },
  {
   "cell_type": "code",
   "execution_count": 31,
   "id": "d958f9f7-c1ad-4989-a2cb-83cce44effb5",
   "metadata": {},
   "outputs": [],
   "source": [
    "# Count the number of facilities in the 'facilities' column\n",
    "bangkok['num_facilities'] = bangkok['facilities'].apply(lambda x: len(x) if isinstance(x, list) else 0)"
   ]
  },
  {
   "cell_type": "markdown",
   "id": "609bd33c-3114-4678-8245-7d469234f00e",
   "metadata": {},
   "source": [
    "### 6. Recheck and save for the next process"
   ]
  },
  {
   "cell_type": "code",
   "execution_count": 33,
   "id": "1aff52ae-5722-4657-8c5b-cc59c192b22f",
   "metadata": {},
   "outputs": [
    {
     "data": {
      "text/plain": [
       "id                            0\n",
       "province                      0\n",
       "district                      0\n",
       "property_type                 0\n",
       "bedrooms                      0\n",
       "baths                         0\n",
       "floor_area                    0\n",
       "nearby_stations               0\n",
       "nearby_station_distance    7005\n",
       "nearby_supermarkets           0\n",
       "nearby_shops                  0\n",
       "facilities                    0\n",
       "price                         0\n",
       "station_name                  0\n",
       "station_distance              0\n",
       "num_facilities                0\n",
       "dtype: int64"
      ]
     },
     "execution_count": 33,
     "metadata": {},
     "output_type": "execute_result"
    }
   ],
   "source": [
    "bangkok.isnull().sum()"
   ]
  },
  {
   "cell_type": "code",
   "execution_count": 34,
   "id": "1985618c-b3e6-4f52-9fc7-814eb42ced7e",
   "metadata": {},
   "outputs": [],
   "source": [
    "bangkok.to_csv('../Dataset/bangkok_cleaned.csv',index = False)"
   ]
  },
  {
   "cell_type": "markdown",
   "id": "cc38f7f4-ca5d-4cda-8543-16bcc176d9f3",
   "metadata": {},
   "source": [
    "---"
   ]
  },
  {
   "cell_type": "markdown",
   "id": "d93a5e0b-bb65-40d8-8eac-8e566f1b4c96",
   "metadata": {},
   "source": [
    "# Cleaning and Feature Engineering on Test Data\n",
    "\n",
    "Perform all the processes like in the training data:\n",
    "1. Drop unnecessary columns.\n",
    "2. Add station names and the distance from the closest station.\n",
    "3. Add dummy variables.\n",
    "4. Create polynomial features for bedrooms, baths, floor area, nearby stations, nearby supermarkets, and the number of facilities."
   ]
  },
  {
   "cell_type": "code",
   "execution_count": 37,
   "id": "c95cee65-86a0-4c1e-8f7f-2c6081757c19",
   "metadata": {},
   "outputs": [],
   "source": [
    "import pandas as pd\n",
    "import numpy as np\n",
    "from sklearn.preprocessing import  PolynomialFeatures"
   ]
  },
  {
   "cell_type": "code",
   "execution_count": 38,
   "id": "40d1a319-8585-4898-a67c-545518dd1763",
   "metadata": {},
   "outputs": [],
   "source": [
    "bangkok_test = pd.read_json('../Dataset/test.json')"
   ]
  },
  {
   "cell_type": "code",
   "execution_count": 39,
   "id": "bcf345a4-4bd4-42a9-b277-d61d322e506a",
   "metadata": {},
   "outputs": [
    {
     "data": {
      "text/html": [
       "<div>\n",
       "<style scoped>\n",
       "    .dataframe tbody tr th:only-of-type {\n",
       "        vertical-align: middle;\n",
       "    }\n",
       "\n",
       "    .dataframe tbody tr th {\n",
       "        vertical-align: top;\n",
       "    }\n",
       "\n",
       "    .dataframe thead th {\n",
       "        text-align: right;\n",
       "    }\n",
       "</style>\n",
       "<table border=\"1\" class=\"dataframe\">\n",
       "  <thead>\n",
       "    <tr style=\"text-align: right;\">\n",
       "      <th></th>\n",
       "      <th>id</th>\n",
       "      <th>province</th>\n",
       "      <th>district</th>\n",
       "      <th>subdistrict</th>\n",
       "      <th>address</th>\n",
       "      <th>property_type</th>\n",
       "      <th>total_units</th>\n",
       "      <th>bedrooms</th>\n",
       "      <th>baths</th>\n",
       "      <th>floor_area</th>\n",
       "      <th>...</th>\n",
       "      <th>latitude</th>\n",
       "      <th>longitude</th>\n",
       "      <th>nearby_stations</th>\n",
       "      <th>nearby_station_distance</th>\n",
       "      <th>nearby_bus_stops</th>\n",
       "      <th>nearby_supermarkets</th>\n",
       "      <th>nearby_shops</th>\n",
       "      <th>year_built</th>\n",
       "      <th>month_built</th>\n",
       "      <th>facilities</th>\n",
       "    </tr>\n",
       "  </thead>\n",
       "  <tbody>\n",
       "    <tr>\n",
       "      <th>0</th>\n",
       "      <td>10317868</td>\n",
       "      <td>Samut Prakan</td>\n",
       "      <td>Bang Phli</td>\n",
       "      <td>Bang Phli Yai</td>\n",
       "      <td>Nam Daeng Road Yai</td>\n",
       "      <td>Detached House</td>\n",
       "      <td>800.0</td>\n",
       "      <td>4.0</td>\n",
       "      <td>3.0</td>\n",
       "      <td>120</td>\n",
       "      <td>...</td>\n",
       "      <td>13.614196</td>\n",
       "      <td>100.680610</td>\n",
       "      <td>0</td>\n",
       "      <td>None</td>\n",
       "      <td>NaN</td>\n",
       "      <td>9.0</td>\n",
       "      <td>5</td>\n",
       "      <td>0</td>\n",
       "      <td>None</td>\n",
       "      <td>[Clubhouse, Community Garden, CCTV, Pavillion,...</td>\n",
       "    </tr>\n",
       "    <tr>\n",
       "      <th>1</th>\n",
       "      <td>10885829</td>\n",
       "      <td>Bangkok</td>\n",
       "      <td>Nong Khaem</td>\n",
       "      <td>Nong Khang Phlu</td>\n",
       "      <td>Machareon Road</td>\n",
       "      <td>Detached House</td>\n",
       "      <td>107.0</td>\n",
       "      <td>4.0</td>\n",
       "      <td>3.0</td>\n",
       "      <td>188</td>\n",
       "      <td>...</td>\n",
       "      <td>13.702222</td>\n",
       "      <td>100.341833</td>\n",
       "      <td>0</td>\n",
       "      <td>None</td>\n",
       "      <td>20.0</td>\n",
       "      <td>9.0</td>\n",
       "      <td>5</td>\n",
       "      <td>2020</td>\n",
       "      <td>None</td>\n",
       "      <td>[Car Park, Clubhouse, Community Garden, CCTV, ...</td>\n",
       "    </tr>\n",
       "    <tr>\n",
       "      <th>2</th>\n",
       "      <td>10765951</td>\n",
       "      <td>Bangkok</td>\n",
       "      <td>Huai Khwang</td>\n",
       "      <td>Huai Khwang</td>\n",
       "      <td>72 Rama 9</td>\n",
       "      <td>Condo</td>\n",
       "      <td>433.0</td>\n",
       "      <td>1.0</td>\n",
       "      <td>1.0</td>\n",
       "      <td>22</td>\n",
       "      <td>...</td>\n",
       "      <td>13.755713</td>\n",
       "      <td>100.566385</td>\n",
       "      <td>3</td>\n",
       "      <td>[[BL20 Phra Ram 9 MRT, 270], [E4 Asok BTS, 780...</td>\n",
       "      <td>NaN</td>\n",
       "      <td>13.0</td>\n",
       "      <td>20</td>\n",
       "      <td>2015</td>\n",
       "      <td>September</td>\n",
       "      <td>[Covered car park, CCTV, Fitness corner, 24 ho...</td>\n",
       "    </tr>\n",
       "    <tr>\n",
       "      <th>3</th>\n",
       "      <td>10003549</td>\n",
       "      <td>Bangkok</td>\n",
       "      <td>Khlong Toei</td>\n",
       "      <td>Khlong Tan</td>\n",
       "      <td>772 Sukhumvit Road, Khong Tan</td>\n",
       "      <td>Condo</td>\n",
       "      <td>656.0</td>\n",
       "      <td>1.0</td>\n",
       "      <td>1.0</td>\n",
       "      <td>41</td>\n",
       "      <td>...</td>\n",
       "      <td>13.724295</td>\n",
       "      <td>100.577202</td>\n",
       "      <td>1</td>\n",
       "      <td>[[E6 Thong Lo BTS, 70]]</td>\n",
       "      <td>20.0</td>\n",
       "      <td>16.0</td>\n",
       "      <td>20</td>\n",
       "      <td>2013</td>\n",
       "      <td>June</td>\n",
       "      <td>[Car Park, Covered car park, CCTV, Fitness cor...</td>\n",
       "    </tr>\n",
       "    <tr>\n",
       "      <th>4</th>\n",
       "      <td>10663026</td>\n",
       "      <td>Bangkok</td>\n",
       "      <td>Lak Si</td>\n",
       "      <td>Thung Song Hong</td>\n",
       "      <td>222 Ngamwongwan Road</td>\n",
       "      <td>Condo</td>\n",
       "      <td>1458.0</td>\n",
       "      <td>1.0</td>\n",
       "      <td>1.0</td>\n",
       "      <td>29</td>\n",
       "      <td>...</td>\n",
       "      <td>13.855437</td>\n",
       "      <td>100.547923</td>\n",
       "      <td>0</td>\n",
       "      <td>None</td>\n",
       "      <td>20.0</td>\n",
       "      <td>10.0</td>\n",
       "      <td>14</td>\n",
       "      <td>2012</td>\n",
       "      <td>September</td>\n",
       "      <td>[Covered car park, CCTV, Fitness corner, 24 ho...</td>\n",
       "    </tr>\n",
       "  </tbody>\n",
       "</table>\n",
       "<p>5 rows × 22 columns</p>\n",
       "</div>"
      ],
      "text/plain": [
       "         id      province     district      subdistrict  \\\n",
       "0  10317868  Samut Prakan    Bang Phli    Bang Phli Yai   \n",
       "1  10885829       Bangkok   Nong Khaem  Nong Khang Phlu   \n",
       "2  10765951       Bangkok  Huai Khwang      Huai Khwang   \n",
       "3  10003549       Bangkok  Khlong Toei       Khlong Tan   \n",
       "4  10663026       Bangkok       Lak Si  Thung Song Hong   \n",
       "\n",
       "                         address   property_type  total_units  bedrooms  \\\n",
       "0             Nam Daeng Road Yai  Detached House        800.0       4.0   \n",
       "1                 Machareon Road  Detached House        107.0       4.0   \n",
       "2                      72 Rama 9           Condo        433.0       1.0   \n",
       "3  772 Sukhumvit Road, Khong Tan           Condo        656.0       1.0   \n",
       "4           222 Ngamwongwan Road           Condo       1458.0       1.0   \n",
       "\n",
       "   baths  floor_area  ...   latitude   longitude  nearby_stations  \\\n",
       "0    3.0         120  ...  13.614196  100.680610                0   \n",
       "1    3.0         188  ...  13.702222  100.341833                0   \n",
       "2    1.0          22  ...  13.755713  100.566385                3   \n",
       "3    1.0          41  ...  13.724295  100.577202                1   \n",
       "4    1.0          29  ...  13.855437  100.547923                0   \n",
       "\n",
       "                             nearby_station_distance  nearby_bus_stops  \\\n",
       "0                                               None               NaN   \n",
       "1                                               None              20.0   \n",
       "2  [[BL20 Phra Ram 9 MRT, 270], [E4 Asok BTS, 780...               NaN   \n",
       "3                            [[E6 Thong Lo BTS, 70]]              20.0   \n",
       "4                                               None              20.0   \n",
       "\n",
       "  nearby_supermarkets  nearby_shops  year_built  month_built  \\\n",
       "0                 9.0             5           0         None   \n",
       "1                 9.0             5        2020         None   \n",
       "2                13.0            20        2015    September   \n",
       "3                16.0            20        2013         June   \n",
       "4                10.0            14        2012    September   \n",
       "\n",
       "                                          facilities  \n",
       "0  [Clubhouse, Community Garden, CCTV, Pavillion,...  \n",
       "1  [Car Park, Clubhouse, Community Garden, CCTV, ...  \n",
       "2  [Covered car park, CCTV, Fitness corner, 24 ho...  \n",
       "3  [Car Park, Covered car park, CCTV, Fitness cor...  \n",
       "4  [Covered car park, CCTV, Fitness corner, 24 ho...  \n",
       "\n",
       "[5 rows x 22 columns]"
      ]
     },
     "execution_count": 39,
     "metadata": {},
     "output_type": "execute_result"
    }
   ],
   "source": [
    "bangkok_test.head()"
   ]
  },
  {
   "cell_type": "code",
   "execution_count": 40,
   "id": "e304d419-028c-4b21-9d72-a2878a90379f",
   "metadata": {},
   "outputs": [],
   "source": [
    "bangkok_test = bangkok_test.fillna(0)"
   ]
  },
  {
   "cell_type": "markdown",
   "id": "b1c99c8b-e872-4379-b600-6fd3997f463f",
   "metadata": {},
   "source": [
    "### 1. Drop columns"
   ]
  },
  {
   "cell_type": "code",
   "execution_count": 42,
   "id": "6164dd35-c947-4ec0-ad95-cf808c691a16",
   "metadata": {},
   "outputs": [],
   "source": [
    "bangkok_test.drop(columns=['total_units', 'floor_level', 'land_area', 'nearby_bus_stops', \n",
    "                      'month_built','longitude', 'latitude', 'year_built', 'subdistrict', 'address'], inplace=True)"
   ]
  },
  {
   "cell_type": "markdown",
   "id": "cd095946-c25f-46af-8291-edfd8d67ba45",
   "metadata": {},
   "source": [
    "### 2. Add columns"
   ]
  },
  {
   "cell_type": "code",
   "execution_count": 44,
   "id": "03511f84-988e-4937-8613-2061392de8cb",
   "metadata": {},
   "outputs": [],
   "source": [
    "# Count the number of facilities in the 'facilities' column, similar to the training data\n",
    "bangkok_test['num_facilities'] = bangkok_test['facilities'].apply(lambda x: len(x) if isinstance(x, list) else 0)"
   ]
  },
  {
   "cell_type": "code",
   "execution_count": 45,
   "id": "e493b109-d58c-4b3c-b33d-f67fdcfccd7a",
   "metadata": {},
   "outputs": [],
   "source": [
    "# Function to extract the closest station name and its distance from a list of station info, similar to the training data\n",
    "def get_closest_station(station_info_list):\n",
    "    if station_info_list in [None, 0] or len(station_info_list) == 0:\n",
    "        return '-', 0\n",
    "    \n",
    "    stations_with_values = [(item[0].split(',')[0], item[1]) for item in station_info_list if isinstance(item, list)]\n",
    "    \n",
    "    min_station = min(stations_with_values, key=lambda x: x[1])[0]  \n",
    "    station_distance = min(stations_with_values, key=lambda x: x[1])[1] \n",
    "\n",
    "    text = min_station.split(' ')\n",
    "        \n",
    "    index_bts = text.index('BTS') if 'BTS' in text else -1\n",
    "    index_mrt = text.index('MRT') if 'MRT' in text else -1\n",
    "    \n",
    "    if index_bts != -1:\n",
    "        range_index = index_bts\n",
    "    elif index_mrt != -1:\n",
    "        range_index = index_mrt\n",
    "    else:\n",
    "        range_index = len(text)\n",
    "\n",
    "    station_name = ' '.join(text[1:range_index]).replace('SRT','').replace('Airport Link','').replace('BRT','').strip()\n",
    "\n",
    "    return station_name, station_distance\n",
    "\n",
    "bangkok_test[['station_name', 'station_distance']] = bangkok_test['nearby_station_distance'].apply(lambda x: pd.Series(get_closest_station(x)))"
   ]
  },
  {
   "cell_type": "markdown",
   "id": "64fdaf96-348c-4c90-875e-8a7ba94dfe8b",
   "metadata": {},
   "source": [
    "### 3. Dummy variables"
   ]
  },
  {
   "cell_type": "code",
   "execution_count": 47,
   "id": "1a271e7a-168d-4fdf-a365-e050fb67fdf6",
   "metadata": {},
   "outputs": [],
   "source": [
    "# Explode the 'facilities' list\n",
    "facility_exploded = bangkok_test.explode('facilities')\n",
    "\n",
    "# Create dummy variables for the exploded facilities\n",
    "facility_dummies = pd.get_dummies(facility_exploded['facilities'], prefix='faci')\n",
    "\n",
    "# Group by the original index and sum the dummy variables\n",
    "facility_pivoted = facility_dummies.groupby(facility_exploded.index).sum()\n",
    "\n",
    "# Concatenate the pivoted dummy variables with the original DataFrame, dropping the 'facilities' column\n",
    "bangkok_test = pd.concat([bangkok_test.drop(columns=['facilities']), facility_pivoted], axis=1)\n"
   ]
  },
  {
   "cell_type": "code",
   "execution_count": 48,
   "id": "2704e7c4-6e36-4173-86f8-7ed0c5e5de76",
   "metadata": {},
   "outputs": [],
   "source": [
    "bangkok_test = pd.get_dummies(data=bangkok_test, columns=[\"property_type\"], prefix=\"type\")\n",
    "bangkok_test = pd.get_dummies(data=bangkok_test, columns=[\"district\"], prefix=\"dist\")\n",
    "bangkok_test = pd.get_dummies(data=bangkok_test, columns=[\"province\"], prefix=\"prov\")"
   ]
  },
  {
   "cell_type": "markdown",
   "id": "584eb982-afe2-4f2a-b492-8fb6f34b8c97",
   "metadata": {},
   "source": [
    "### 4. Polynomial Feature"
   ]
  },
  {
   "cell_type": "code",
   "execution_count": 50,
   "id": "7ab6cc42-d04d-49d7-83e1-130b46f6c3cb",
   "metadata": {},
   "outputs": [],
   "source": [
    "# Select the initial features for polynomial expansion\n",
    "test_starter_features = ['bedrooms', 'baths', 'floor_area', 'nearby_stations', 'nearby_supermarkets', 'num_facilities']"
   ]
  },
  {
   "cell_type": "code",
   "execution_count": 51,
   "id": "1d0f4cc9-2ded-4e92-9ddc-ce8a5454550b",
   "metadata": {},
   "outputs": [
    {
     "data": {
      "text/plain": [
       "Index(['id', 'bedrooms', 'baths', 'floor_area', 'nearby_stations',\n",
       "       'nearby_station_distance', 'nearby_supermarkets', 'nearby_shops',\n",
       "       'num_facilities', 'station_name',\n",
       "       ...\n",
       "       'floor_area^2', 'floor_area nearby_stations',\n",
       "       'floor_area nearby_supermarkets', 'floor_area num_facilities',\n",
       "       'nearby_stations^2', 'nearby_stations nearby_supermarkets',\n",
       "       'nearby_stations num_facilities', 'nearby_supermarkets^2',\n",
       "       'nearby_supermarkets num_facilities', 'num_facilities^2'],\n",
       "      dtype='object', length=164)"
      ]
     },
     "execution_count": 51,
     "metadata": {},
     "output_type": "execute_result"
    }
   ],
   "source": [
    "# Create a DataFrame with the selected features\n",
    "data_poly = bangkok_test[test_starter_features]\n",
    "\n",
    "# Generate polynomial features of degree 2 without including the bias term\n",
    "poly = PolynomialFeatures(include_bias=False, degree=2)\n",
    "X_poly = poly.fit_transform(data_poly)\n",
    "\n",
    "# Create a DataFrame from the polynomial features with appropriate column names\n",
    "poly_df = pd.DataFrame(X_poly, columns=poly.get_feature_names_out(test_starter_features))\n",
    "\n",
    "# Update the list of starter features to include the new polynomial feature names\n",
    "test_starter_features = poly_df.columns\n",
    "\n",
    "# Concatenate the original DataFrame with the new polynomial features\n",
    "bangkok_test = pd.concat([bangkok_test, poly_df], axis=1)\n",
    "\n",
    "# Display the updated list of columns in the bangkok_test DataFrame\n",
    "bangkok_test.columns"
   ]
  },
  {
   "cell_type": "code",
   "execution_count": 52,
   "id": "4dabcf32-437b-4fff-ba44-e4bf80cde658",
   "metadata": {},
   "outputs": [],
   "source": [
    "bangkok_test = bangkok_test.fillna(0)"
   ]
  },
  {
   "cell_type": "code",
   "execution_count": 53,
   "id": "eb6db539-e49f-4964-a1dc-203f4de7db88",
   "metadata": {},
   "outputs": [],
   "source": [
    "bangkok_test.to_csv('../Dataset/test_cleaned.csv',index = False)"
   ]
  }
 ],
 "metadata": {
  "kernelspec": {
   "display_name": "Python 3 (ipykernel)",
   "language": "python",
   "name": "python3"
  },
  "language_info": {
   "codemirror_mode": {
    "name": "ipython",
    "version": 3
   },
   "file_extension": ".py",
   "mimetype": "text/x-python",
   "name": "python",
   "nbconvert_exporter": "python",
   "pygments_lexer": "ipython3",
   "version": "3.12.4"
  }
 },
 "nbformat": 4,
 "nbformat_minor": 5
}
